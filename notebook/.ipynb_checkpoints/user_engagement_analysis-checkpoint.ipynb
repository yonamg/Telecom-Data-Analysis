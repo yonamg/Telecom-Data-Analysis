{
 "cells": [
  {
   "cell_type": "markdown",
   "id": "9647e83e",
   "metadata": {},
   "source": [
    "# Task2: User Engagement Analysis"
   ]
  },
  {
   "cell_type": "code",
   "execution_count": 83,
   "id": "51e752eb",
   "metadata": {},
   "outputs": [],
   "source": [
    "# import requiered python libraries\n",
    "\n",
    "import pickle\n",
    "import numpy as np\n",
    "import pandas as pd\n",
    "import seaborn as sns\n",
    "import plotly.io as pio\n",
    "import plotly.express as px\n",
    "import plotly.graph_objects as go  \n",
    "import matplotlib.pyplot as plt\n",
    "from IPython.display import Image\n",
    "from sklearn import preprocessing\n",
    "from sklearn.cluster import KMeans\n",
    "from scipy.spatial.distance import cdist\n",
    "from plotly.subplots import make_subplots\n",
    "from sklearn.preprocessing import StandardScaler, normalize"
   ]
  },
  {
   "cell_type": "code",
   "execution_count": 88,
   "id": "2ce14ec3",
   "metadata": {},
   "outputs": [
    {
     "name": "stdout",
     "output_type": "stream",
     "text": [
      "importing Jupyter notebook from C:\\Users\\Machine\\Documents\\Telecom-Data-Analysis\\scripts\\plots_file.ipynb\n"
     ]
    }
   ],
   "source": [
    "import os\n",
    "import sys\n",
    "import warnings\n",
    "warnings.filterwarnings('ignore')\n",
    "sys.path.append('../scripts/')\n",
    "from scripts.dataframe_outliers import *\n",
    "import scripts.plots_file"
   ]
  },
  {
   "cell_type": "code",
   "execution_count": 89,
   "id": "19bd8329",
   "metadata": {},
   "outputs": [],
   "source": [
    "pd.set_option('display.max_columns', None)\n",
    "pd.set_option('display.max_colwidth', None)\n",
    "pd.set_option(\"expand_frame_repr\", False)\n",
    "pd.set_option('display.float_format', '{:.2f}'.format)"
   ]
  },
  {
   "cell_type": "code",
   "execution_count": 90,
   "id": "2c45f55c",
   "metadata": {},
   "outputs": [
    {
     "name": "stdout",
     "output_type": "stream",
     "text": [
      "<class 'pandas.core.frame.DataFrame'>\n",
      "RangeIndex: 149001 entries, 0 to 149000\n",
      "Data columns (total 46 columns):\n",
      " #   Column                          Non-Null Count   Dtype  \n",
      "---  ------                          --------------   -----  \n",
      " 0   Unnamed: 0                      149001 non-null  int64  \n",
      " 1   Bearer Id                       149001 non-null  float64\n",
      " 2   Start                           149001 non-null  object \n",
      " 3   Start ms                        149001 non-null  float64\n",
      " 4   End                             149001 non-null  object \n",
      " 5   End ms                          149001 non-null  float64\n",
      " 6   Dur. (ms)                       149001 non-null  float64\n",
      " 7   IMSI                            149001 non-null  float64\n",
      " 8   MSISDN/Number                   149001 non-null  float64\n",
      " 9   IMEI                            149001 non-null  float64\n",
      " 10  Last Location Name              149001 non-null  object \n",
      " 11  Avg RTT DL (ms)                 149001 non-null  float64\n",
      " 12  Avg RTT UL (ms)                 149001 non-null  float64\n",
      " 13  Avg Bearer TP DL (kbps)         149001 non-null  float64\n",
      " 14  Avg Bearer TP UL (kbps)         149001 non-null  float64\n",
      " 15  DL TP < 50 Kbps (%)             149001 non-null  float64\n",
      " 16  50 Kbps < DL TP < 250 Kbps (%)  149001 non-null  float64\n",
      " 17  250 Kbps < DL TP < 1 Mbps (%)   149001 non-null  float64\n",
      " 18  DL TP > 1 Mbps (%)              149001 non-null  float64\n",
      " 19  UL TP < 10 Kbps (%)             149001 non-null  float64\n",
      " 20  10 Kbps < UL TP < 50 Kbps (%)   149001 non-null  float64\n",
      " 21  50 Kbps < UL TP < 300 Kbps (%)  149001 non-null  float64\n",
      " 22  UL TP > 300 Kbps (%)            149001 non-null  float64\n",
      " 23  Activity Duration DL (ms)       149001 non-null  float64\n",
      " 24  Activity Duration UL (ms)       149001 non-null  float64\n",
      " 25  Dur. (ms).1                     149001 non-null  float64\n",
      " 26  Handset Manufacturer            149001 non-null  object \n",
      " 27  Handset Type                    149001 non-null  object \n",
      " 28  Nb of sec with Vol DL < 6250B   149001 non-null  float64\n",
      " 29  Nb of sec with Vol UL < 1250B   149001 non-null  float64\n",
      " 30  Social Media DL (Bytes)         149001 non-null  float64\n",
      " 31  Social Media UL (Bytes)         149001 non-null  float64\n",
      " 32  Google DL (Bytes)               149001 non-null  float64\n",
      " 33  Google UL (Bytes)               149001 non-null  float64\n",
      " 34  Email DL (Bytes)                149001 non-null  float64\n",
      " 35  Email UL (Bytes)                149001 non-null  float64\n",
      " 36  Youtube DL (Bytes)              149001 non-null  float64\n",
      " 37  Youtube UL (Bytes)              149001 non-null  float64\n",
      " 38  Netflix DL (Bytes)              149001 non-null  float64\n",
      " 39  Netflix UL (Bytes)              149001 non-null  float64\n",
      " 40  Gaming DL (Bytes)               149001 non-null  float64\n",
      " 41  Gaming UL (Bytes)               149001 non-null  float64\n",
      " 42  Other DL (Bytes)                149001 non-null  float64\n",
      " 43  Other UL (Bytes)                149001 non-null  float64\n",
      " 44  Total UL (Bytes)                149001 non-null  float64\n",
      " 45  Total DL (Bytes)                149001 non-null  float64\n",
      "dtypes: float64(40), int64(1), object(5)\n",
      "memory usage: 52.3+ MB\n"
     ]
    }
   ],
   "source": [
    "# load and read the cleaned data\n",
    "df_cleaned = pd.read_csv('../data/cleaned_Telecom_data.csv')\n",
    "df_cleaned.info()"
   ]
  },
  {
   "cell_type": "code",
   "execution_count": 97,
   "id": "a76272d8",
   "metadata": {},
   "outputs": [],
   "source": [
    "#Aggregate the above metrics per customer id (MSISDN) and report the top 10 customers per engagement metric\n",
    "df_user_engage =  df_cleaned[['MSISDN/Number', 'Bearer Id', 'Dur. (ms)', 'Total DL (Bytes)']].copy().rename(columns={\n",
    "    'Bearer_Id': 'Session_Frequency', 'MSISDN/Number':'Customer_Id', 'Dur. (ms)': 'Duration', 'Total DL (Bytes)': 'Total_Data_Volume'})"
   ]
  },
  {
   "cell_type": "code",
   "execution_count": 98,
   "id": "560e6de8",
   "metadata": {},
   "outputs": [
    {
     "ename": "KeyError",
     "evalue": "\"Column(s) ['Session_Frequency'] do not exist\"",
     "output_type": "error",
     "traceback": [
      "\u001b[1;31m---------------------------------------------------------------------------\u001b[0m",
      "\u001b[1;31mKeyError\u001b[0m                                  Traceback (most recent call last)",
      "Input \u001b[1;32mIn [98]\u001b[0m, in \u001b[0;36m<cell line: 1>\u001b[1;34m()\u001b[0m\n\u001b[1;32m----> 1\u001b[0m user_engage \u001b[38;5;241m=\u001b[39m \u001b[43mdf_user_engage\u001b[49m\u001b[38;5;241;43m.\u001b[39;49m\u001b[43mgroupby\u001b[49m\u001b[43m(\u001b[49m\u001b[38;5;124;43m'\u001b[39;49m\u001b[38;5;124;43mCustomer_Id\u001b[39;49m\u001b[38;5;124;43m'\u001b[39;49m\u001b[43m)\u001b[49m\u001b[38;5;241;43m.\u001b[39;49m\u001b[43magg\u001b[49m\u001b[43m(\u001b[49m\u001b[43m{\u001b[49m\u001b[38;5;124;43m'\u001b[39;49m\u001b[38;5;124;43mSession_Frequency\u001b[39;49m\u001b[38;5;124;43m'\u001b[39;49m\u001b[43m:\u001b[49m\u001b[43m \u001b[49m\u001b[38;5;124;43m'\u001b[39;49m\u001b[38;5;124;43mcount\u001b[39;49m\u001b[38;5;124;43m'\u001b[39;49m\u001b[43m,\u001b[49m\u001b[43m \u001b[49m\u001b[38;5;124;43m'\u001b[39;49m\u001b[38;5;124;43mDuration\u001b[39;49m\u001b[38;5;124;43m'\u001b[39;49m\u001b[43m:\u001b[49m\u001b[43m \u001b[49m\u001b[38;5;124;43m'\u001b[39;49m\u001b[38;5;124;43msum\u001b[39;49m\u001b[38;5;124;43m'\u001b[39;49m\u001b[43m,\u001b[49m\u001b[43m \u001b[49m\u001b[38;5;124;43m'\u001b[39;49m\u001b[38;5;124;43mTotal_Data_Volume\u001b[39;49m\u001b[38;5;124;43m'\u001b[39;49m\u001b[43m:\u001b[49m\u001b[43m \u001b[49m\u001b[38;5;124;43m'\u001b[39;49m\u001b[38;5;124;43msum\u001b[39;49m\u001b[38;5;124;43m'\u001b[39;49m\u001b[43m}\u001b[49m\u001b[43m)\u001b[49m\n\u001b[0;32m      2\u001b[0m user_engage\u001b[38;5;241m.\u001b[39mhead(\u001b[38;5;241m10\u001b[39m)\n",
      "File \u001b[1;32m~\\anaconda3\\lib\\site-packages\\pandas\\core\\groupby\\generic.py:869\u001b[0m, in \u001b[0;36mDataFrameGroupBy.aggregate\u001b[1;34m(self, func, engine, engine_kwargs, *args, **kwargs)\u001b[0m\n\u001b[0;32m    866\u001b[0m func \u001b[38;5;241m=\u001b[39m maybe_mangle_lambdas(func)\n\u001b[0;32m    868\u001b[0m op \u001b[38;5;241m=\u001b[39m GroupByApply(\u001b[38;5;28mself\u001b[39m, func, args, kwargs)\n\u001b[1;32m--> 869\u001b[0m result \u001b[38;5;241m=\u001b[39m \u001b[43mop\u001b[49m\u001b[38;5;241;43m.\u001b[39;49m\u001b[43magg\u001b[49m\u001b[43m(\u001b[49m\u001b[43m)\u001b[49m\n\u001b[0;32m    870\u001b[0m \u001b[38;5;28;01mif\u001b[39;00m \u001b[38;5;129;01mnot\u001b[39;00m is_dict_like(func) \u001b[38;5;129;01mand\u001b[39;00m result \u001b[38;5;129;01mis\u001b[39;00m \u001b[38;5;129;01mnot\u001b[39;00m \u001b[38;5;28;01mNone\u001b[39;00m:\n\u001b[0;32m    871\u001b[0m     \u001b[38;5;28;01mreturn\u001b[39;00m result\n",
      "File \u001b[1;32m~\\anaconda3\\lib\\site-packages\\pandas\\core\\apply.py:168\u001b[0m, in \u001b[0;36mApply.agg\u001b[1;34m(self)\u001b[0m\n\u001b[0;32m    165\u001b[0m     \u001b[38;5;28;01mreturn\u001b[39;00m \u001b[38;5;28mself\u001b[39m\u001b[38;5;241m.\u001b[39mapply_str()\n\u001b[0;32m    167\u001b[0m \u001b[38;5;28;01mif\u001b[39;00m is_dict_like(arg):\n\u001b[1;32m--> 168\u001b[0m     \u001b[38;5;28;01mreturn\u001b[39;00m \u001b[38;5;28;43mself\u001b[39;49m\u001b[38;5;241;43m.\u001b[39;49m\u001b[43magg_dict_like\u001b[49m\u001b[43m(\u001b[49m\u001b[43m)\u001b[49m\n\u001b[0;32m    169\u001b[0m \u001b[38;5;28;01melif\u001b[39;00m is_list_like(arg):\n\u001b[0;32m    170\u001b[0m     \u001b[38;5;66;03m# we require a list, but not a 'str'\u001b[39;00m\n\u001b[0;32m    171\u001b[0m     \u001b[38;5;28;01mreturn\u001b[39;00m \u001b[38;5;28mself\u001b[39m\u001b[38;5;241m.\u001b[39magg_list_like()\n",
      "File \u001b[1;32m~\\anaconda3\\lib\\site-packages\\pandas\\core\\apply.py:467\u001b[0m, in \u001b[0;36mApply.agg_dict_like\u001b[1;34m(self)\u001b[0m\n\u001b[0;32m    464\u001b[0m     selected_obj \u001b[38;5;241m=\u001b[39m obj\u001b[38;5;241m.\u001b[39m_selected_obj\n\u001b[0;32m    465\u001b[0m     selection \u001b[38;5;241m=\u001b[39m obj\u001b[38;5;241m.\u001b[39m_selection\n\u001b[1;32m--> 467\u001b[0m arg \u001b[38;5;241m=\u001b[39m \u001b[38;5;28;43mself\u001b[39;49m\u001b[38;5;241;43m.\u001b[39;49m\u001b[43mnormalize_dictlike_arg\u001b[49m\u001b[43m(\u001b[49m\u001b[38;5;124;43m\"\u001b[39;49m\u001b[38;5;124;43magg\u001b[39;49m\u001b[38;5;124;43m\"\u001b[39;49m\u001b[43m,\u001b[49m\u001b[43m \u001b[49m\u001b[43mselected_obj\u001b[49m\u001b[43m,\u001b[49m\u001b[43m \u001b[49m\u001b[43marg\u001b[49m\u001b[43m)\u001b[49m\n\u001b[0;32m    469\u001b[0m \u001b[38;5;28;01mif\u001b[39;00m selected_obj\u001b[38;5;241m.\u001b[39mndim \u001b[38;5;241m==\u001b[39m \u001b[38;5;241m1\u001b[39m:\n\u001b[0;32m    470\u001b[0m     \u001b[38;5;66;03m# key only used for output\u001b[39;00m\n\u001b[0;32m    471\u001b[0m     colg \u001b[38;5;241m=\u001b[39m obj\u001b[38;5;241m.\u001b[39m_gotitem(selection, ndim\u001b[38;5;241m=\u001b[39m\u001b[38;5;241m1\u001b[39m)\n",
      "File \u001b[1;32m~\\anaconda3\\lib\\site-packages\\pandas\\core\\apply.py:585\u001b[0m, in \u001b[0;36mApply.normalize_dictlike_arg\u001b[1;34m(self, how, obj, func)\u001b[0m\n\u001b[0;32m    583\u001b[0m     \u001b[38;5;28;01mif\u001b[39;00m \u001b[38;5;28mlen\u001b[39m(cols) \u001b[38;5;241m>\u001b[39m \u001b[38;5;241m0\u001b[39m:\n\u001b[0;32m    584\u001b[0m         cols_sorted \u001b[38;5;241m=\u001b[39m \u001b[38;5;28mlist\u001b[39m(safe_sort(\u001b[38;5;28mlist\u001b[39m(cols)))\n\u001b[1;32m--> 585\u001b[0m         \u001b[38;5;28;01mraise\u001b[39;00m \u001b[38;5;167;01mKeyError\u001b[39;00m(\u001b[38;5;124mf\u001b[39m\u001b[38;5;124m\"\u001b[39m\u001b[38;5;124mColumn(s) \u001b[39m\u001b[38;5;132;01m{\u001b[39;00mcols_sorted\u001b[38;5;132;01m}\u001b[39;00m\u001b[38;5;124m do not exist\u001b[39m\u001b[38;5;124m\"\u001b[39m)\n\u001b[0;32m    587\u001b[0m is_aggregator \u001b[38;5;241m=\u001b[39m \u001b[38;5;28;01mlambda\u001b[39;00m x: \u001b[38;5;28misinstance\u001b[39m(x, (\u001b[38;5;28mlist\u001b[39m, \u001b[38;5;28mtuple\u001b[39m, \u001b[38;5;28mdict\u001b[39m))\n\u001b[0;32m    589\u001b[0m \u001b[38;5;66;03m# if we have a dict of any non-scalars\u001b[39;00m\n\u001b[0;32m    590\u001b[0m \u001b[38;5;66;03m# eg. {'A' : ['mean']}, normalize all to\u001b[39;00m\n\u001b[0;32m    591\u001b[0m \u001b[38;5;66;03m# be list-likes\u001b[39;00m\n\u001b[0;32m    592\u001b[0m \u001b[38;5;66;03m# Cannot use func.values() because arg may be a Series\u001b[39;00m\n",
      "\u001b[1;31mKeyError\u001b[0m: \"Column(s) ['Session_Frequency'] do not exist\""
     ]
    }
   ],
   "source": [
    "user_engage = df_user_engage.groupby('Customer_Id').agg({'Session_Frequency': 'count', 'Duration': 'sum', 'Total_Data_Volume': 'sum'})\n",
    "user_engage.head(10)"
   ]
  },
  {
   "cell_type": "code",
   "execution_count": null,
   "id": "621a064c",
   "metadata": {},
   "outputs": [],
   "source": []
  }
 ],
 "metadata": {
  "kernelspec": {
   "display_name": "Python 3 (ipykernel)",
   "language": "python",
   "name": "python3"
  },
  "language_info": {
   "codemirror_mode": {
    "name": "ipython",
    "version": 3
   },
   "file_extension": ".py",
   "mimetype": "text/x-python",
   "name": "python",
   "nbconvert_exporter": "python",
   "pygments_lexer": "ipython3",
   "version": "3.9.12"
  }
 },
 "nbformat": 4,
 "nbformat_minor": 5
}
