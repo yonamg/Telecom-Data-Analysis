{
 "cells": [
  {
   "cell_type": "markdown",
   "id": "ca4439dc",
   "metadata": {},
   "source": [
    "    Import the requiered python libraries"
   ]
  },
  {
   "cell_type": "code",
   "execution_count": 1,
   "id": "6099970e",
   "metadata": {},
   "outputs": [],
   "source": [
    "import numpy as np\n",
    "import pandas as pd\n",
    "import seaborn as sns\n",
    "import matplotlib.pyplot as plt"
   ]
  },
  {
   "cell_type": "markdown",
   "id": "29bf9329",
   "metadata": {},
   "source": [
    "start the data cleaning process"
   ]
  },
  {
   "cell_type": "code",
   "execution_count": 11,
   "id": "54103d51",
   "metadata": {},
   "outputs": [],
   "source": [
    "import sys"
   ]
  },
  {
   "cell_type": "code",
   "execution_count": null,
   "id": "869623d2",
   "metadata": {},
   "outputs": [],
   "source": []
  }
 ],
 "metadata": {
  "kernelspec": {
   "display_name": "Python 3 (ipykernel)",
   "language": "python",
   "name": "python3"
  },
  "language_info": {
   "codemirror_mode": {
    "name": "ipython",
    "version": 3
   },
   "file_extension": ".py",
   "mimetype": "text/x-python",
   "name": "python",
   "nbconvert_exporter": "python",
   "pygments_lexer": "ipython3",
   "version": "3.9.12"
  }
 },
 "nbformat": 4,
 "nbformat_minor": 5
}
