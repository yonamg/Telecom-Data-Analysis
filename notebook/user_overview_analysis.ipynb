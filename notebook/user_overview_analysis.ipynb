{
 "cells": [
  {
   "cell_type": "code",
   "execution_count": 50,
   "id": "d8f463fd",
   "metadata": {},
   "outputs": [],
   "source": [
    "#imports relevant libraries for task\n",
    "import os\n",
    "import sys\n",
    "import numpy as np\n",
    "import pandas as pd\n",
    "import matplotlib.pyplot as plt \n",
    "from sklearn.decomposition import PCA\n",
    "from sklearn.preprocessing import StandardScaler\n",
    "import seaborn as sns\n",
    "import warnings\n",
    "warnings.filterwarnings('ignore')\n",
    "sys.path.append(os.path.abspath(os.path.join('../scripts/')))"
   ]
  },
  {
   "cell_type": "code",
   "execution_count": 53,
   "id": "4a956abc",
   "metadata": {},
   "outputs": [],
   "source": [
    "# diplaying maximum column size\n",
    "pd.set_option('display.max_columns', None)\n",
    "pd.options.display.float_format = \"{:.2f}\".format"
   ]
  },
  {
   "cell_type": "markdown",
   "id": "784ef68d",
   "metadata": {},
   "source": [
    "# Task 1: User Overview Analysis"
   ]
  },
  {
   "cell_type": "code",
   "execution_count": 54,
   "id": "22740d10",
   "metadata": {},
   "outputs": [],
   "source": [
    "#read the cleaned telecom data\n",
    "cleaned_df = pd.read_csv('../data/cleaned_Telecom_data.csv')"
   ]
  },
  {
   "cell_type": "code",
   "execution_count": 56,
   "id": "a8907739",
   "metadata": {},
   "outputs": [],
   "source": [
    "# declare functions for processing each task!\n",
    "def get_top_handsets(num):\n",
    "        top_handset = cleaned_df['Handset Type'].value_counts().head(num)\n",
    "        return top_handset\n",
    "    \n",
    "def get_top_manufacturers(num):\n",
    "        top_handset = cleaned_df['Handset Manufacturer'].value_counts().head(num)\n",
    "        return top_handset\n",
    "    \n",
    "def get_handset_group():\n",
    "        top_3_manufacturers = get_top_manufacturers(3)\n",
    "\n",
    "        manufacturers = cleaned_df.groupby(\"Handset Manufacturer\")\n",
    "\n",
    "        for column in top_3_manufacturers.index:\n",
    "            result = manufacturers.get_group(column).groupby(\"Handset Type\")['MSISDN/Number'].nunique().nlargest(5)\n",
    "            print(f\">>>> { column } <<<<\")\n",
    "            print(result)\n",
    "            print() "
   ]
  },
  {
   "cell_type": "markdown",
   "id": "94aecde6",
   "metadata": {},
   "source": [
    "Identify the top 10 handsets used by the customers"
   ]
  },
  {
   "cell_type": "code",
   "execution_count": 57,
   "id": "0d564668",
   "metadata": {},
   "outputs": [
    {
     "data": {
      "text/html": [
       "<div>\n",
       "<style scoped>\n",
       "    .dataframe tbody tr th:only-of-type {\n",
       "        vertical-align: middle;\n",
       "    }\n",
       "\n",
       "    .dataframe tbody tr th {\n",
       "        vertical-align: top;\n",
       "    }\n",
       "\n",
       "    .dataframe thead th {\n",
       "        text-align: right;\n",
       "    }\n",
       "</style>\n",
       "<table border=\"1\" class=\"dataframe\">\n",
       "  <thead>\n",
       "    <tr style=\"text-align: right;\">\n",
       "      <th></th>\n",
       "      <th>Handset Type</th>\n",
       "    </tr>\n",
       "  </thead>\n",
       "  <tbody>\n",
       "    <tr>\n",
       "      <th>Huawei B528S-23A</th>\n",
       "      <td>19754</td>\n",
       "    </tr>\n",
       "    <tr>\n",
       "      <th>Apple iPhone 6S (A1688)</th>\n",
       "      <td>9401</td>\n",
       "    </tr>\n",
       "    <tr>\n",
       "      <th>Apple iPhone 6 (A1586)</th>\n",
       "      <td>9004</td>\n",
       "    </tr>\n",
       "    <tr>\n",
       "      <th>undefined</th>\n",
       "      <td>8960</td>\n",
       "    </tr>\n",
       "    <tr>\n",
       "      <th>Apple iPhone 7 (A1778)</th>\n",
       "      <td>6301</td>\n",
       "    </tr>\n",
       "    <tr>\n",
       "      <th>Apple iPhone Se (A1723)</th>\n",
       "      <td>5176</td>\n",
       "    </tr>\n",
       "    <tr>\n",
       "      <th>Apple iPhone 8 (A1905)</th>\n",
       "      <td>4985</td>\n",
       "    </tr>\n",
       "    <tr>\n",
       "      <th>Apple iPhone Xr (A2105)</th>\n",
       "      <td>4562</td>\n",
       "    </tr>\n",
       "    <tr>\n",
       "      <th>Samsung Galaxy S8 (Sm-G950F)</th>\n",
       "      <td>4504</td>\n",
       "    </tr>\n",
       "    <tr>\n",
       "      <th>Apple iPhone X (A1901)</th>\n",
       "      <td>3809</td>\n",
       "    </tr>\n",
       "  </tbody>\n",
       "</table>\n",
       "</div>"
      ],
      "text/plain": [
       "                              Handset Type\n",
       "Huawei B528S-23A                     19754\n",
       "Apple iPhone 6S (A1688)               9401\n",
       "Apple iPhone 6 (A1586)                9004\n",
       "undefined                             8960\n",
       "Apple iPhone 7 (A1778)                6301\n",
       "Apple iPhone Se (A1723)               5176\n",
       "Apple iPhone 8 (A1905)                4985\n",
       "Apple iPhone Xr (A2105)               4562\n",
       "Samsung Galaxy S8 (Sm-G950F)          4504\n",
       "Apple iPhone X (A1901)                3809"
      ]
     },
     "execution_count": 57,
     "metadata": {},
     "output_type": "execute_result"
    }
   ],
   "source": [
    "top_10_handsets = get_top_handsets(10)\n",
    "pd.DataFrame(top_10_handsets)"
   ]
  },
  {
   "cell_type": "code",
   "execution_count": 58,
   "id": "7a9394d5",
   "metadata": {},
   "outputs": [
    {
     "data": {
      "text/plain": [
       "Index(['Huawei B528S-23A', 'Apple iPhone 6S (A1688)', 'Apple iPhone 6 (A1586)',\n",
       "       'undefined', 'Apple iPhone 7 (A1778)', 'Apple iPhone Se (A1723)',\n",
       "       'Apple iPhone 8 (A1905)', 'Apple iPhone Xr (A2105)',\n",
       "       'Samsung Galaxy S8 (Sm-G950F)', 'Apple iPhone X (A1901)'],\n",
       "      dtype='object')"
      ]
     },
     "execution_count": 58,
     "metadata": {},
     "output_type": "execute_result"
    }
   ],
   "source": [
    "top_10_handsets.index"
   ]
  },
  {
   "cell_type": "code",
   "execution_count": 60,
   "id": "c71eeee9",
   "metadata": {},
   "outputs": [
    {
     "data": {
      "image/png": "[encoded data removed]",
      "text/plain": [
       "<Figure size 720x360 with 1 Axes>"
      ]
     },
     "metadata": {
      "needs_background": "light"
     },
     "output_type": "display_data"
    }
   ],
   "source": [
    "# Bar graph for top 10 handsets used by the customers\n",
    "plt.figure(figsize=(10,5))\n",
    "sns.barplot(x=top_10_handsets.index, y=top_10_handsets.values)\n",
    "plt.title('Top 10 Handset Types used by Customers', size=14, fontweight=\"bold\")\n",
    "plt.xlabel('Handset Types', size=13, fontweight=\"bold\")\n",
    "plt.xticks(rotation=90)\n",
    "plt.ylabel('Number of Customers', size=13, fontweight=\"bold\")\n",
    "plt.show()"
   ]
  },
  {
   "cell_type": "code",
   "execution_count": 61,
   "id": "6fbc00f3",
   "metadata": {},
   "outputs": [
    {
     "data": {
      "text/html": [
       "<div>\n",
       "<style scoped>\n",
       "    .dataframe tbody tr th:only-of-type {\n",
       "        vertical-align: middle;\n",
       "    }\n",
       "\n",
       "    .dataframe tbody tr th {\n",
       "        vertical-align: top;\n",
       "    }\n",
       "\n",
       "    .dataframe thead th {\n",
       "        text-align: right;\n",
       "    }\n",
       "</style>\n",
       "<table border=\"1\" class=\"dataframe\">\n",
       "  <thead>\n",
       "    <tr style=\"text-align: right;\">\n",
       "      <th></th>\n",
       "      <th>Handset Manufacturer</th>\n",
       "    </tr>\n",
       "  </thead>\n",
       "  <tbody>\n",
       "    <tr>\n",
       "      <th>Apple</th>\n",
       "      <td>59442</td>\n",
       "    </tr>\n",
       "    <tr>\n",
       "      <th>Samsung</th>\n",
       "      <td>40689</td>\n",
       "    </tr>\n",
       "    <tr>\n",
       "      <th>Huawei</th>\n",
       "      <td>34353</td>\n",
       "    </tr>\n",
       "  </tbody>\n",
       "</table>\n",
       "</div>"
      ],
      "text/plain": [
       "         Handset Manufacturer\n",
       "Apple                   59442\n",
       "Samsung                 40689\n",
       "Huawei                  34353"
      ]
     },
     "execution_count": 61,
     "metadata": {},
     "output_type": "execute_result"
    }
   ],
   "source": [
    "# top 3 manufactures used by customers from cleaned_df\n",
    "\n",
    "top_3_manufacturers = get_top_manufacturers(3)\n",
    "pd.DataFrame(top_3_manufacturers)"
   ]
  },
  {
   "cell_type": "code",
   "execution_count": 63,
   "id": "80d4131f",
   "metadata": {},
   "outputs": [
    {
     "data": {
      "image/png": "[encoded data removed]",
      "text/plain": [
       "<Figure size 576x360 with 1 Axes>"
      ]
     },
     "metadata": {
      "needs_background": "light"
     },
     "output_type": "display_data"
    }
   ],
   "source": [
    "# Bar graph that sows the top 3 Handset Manufacturers\n",
    "\n",
    "plt.figure(figsize=(8,5))\n",
    "sns.barplot(x=top_3_manufacturers.index, y=top_3_manufacturers.values)\n",
    "plt.title('Top 3 Handset Manufacturers', size=14, fontweight=\"bold\")\n",
    "plt.xlabel('Handset Manufacturers', size=13, fontweight=\"bold\") \n",
    "plt.ylabel('Number of Users', size=13, fontweight=\"bold\")\n",
    "plt.show()"
   ]
  },
  {
   "cell_type": "code",
   "execution_count": 64,
   "id": "b22d9a49",
   "metadata": {},
   "outputs": [
    {
     "name": "stdout",
     "output_type": "stream",
     "text": [
      ">>>> Apple <<<<\n",
      "Handset Type\n",
      "Apple iPhone 6S (A1688)    6745\n",
      "Apple iPhone 6 (A1586)     6246\n",
      "Apple iPhone 7 (A1778)     4676\n",
      "Apple iPhone Se (A1723)    3745\n",
      "Apple iPhone 8 (A1905)     3536\n",
      "Name: MSISDN/Number, dtype: int64\n",
      "\n",
      ">>>> Samsung <<<<\n",
      "Handset Type\n",
      "Samsung Galaxy S8 (Sm-G950F)    3233\n",
      "Samsung Galaxy J5 (Sm-J530)     2742\n",
      "Samsung Galaxy A5 Sm-A520F      2702\n",
      "Samsung Galaxy J3 (Sm-J330)     2583\n",
      "Samsung Galaxy S7 (Sm-G930X)    2288\n",
      "Name: MSISDN/Number, dtype: int64\n",
      "\n",
      ">>>> Huawei <<<<\n",
      "Handset Type\n",
      "Huawei B528S-23A                  10617\n",
      "Huawei P20 Lite Huawei Nova 3E     1527\n",
      "Huawei E5180                       1183\n",
      "Huawei P20                         1106\n",
      "Huawei Y6 2018                      757\n",
      "Name: MSISDN/Number, dtype: int64\n",
      "\n"
     ]
    }
   ],
   "source": [
    "# display handset group\n",
    "get_handset_group()"
   ]
  },
  {
   "cell_type": "markdown",
   "id": "ee1521ea",
   "metadata": {},
   "source": [
    "Task 1.1: Overview of Users’ Behavior"
   ]
  },
  {
   "cell_type": "code",
   "execution_count": 65,
   "id": "2fbcf524",
   "metadata": {},
   "outputs": [],
   "source": [
    "# Aggregate users information based on the following columns:\n",
    "cleaned_df[\"Social Media (Bytes)\"] = cleaned_df[\"Social Media DL (Bytes)\"] + cleaned_df['Social Media UL (Bytes)']\n",
    "cleaned_df[\"Google (Bytes)\"]       = cleaned_df[\"Google DL (Bytes)\"] + cleaned_df[\"Google UL (Bytes)\"]\n",
    "cleaned_df['Youtube (Bytes)']      = cleaned_df[\"Youtube DL (Bytes)\"] + cleaned_df[\"Youtube UL (Bytes)\"]\n",
    "cleaned_df['Netflix (Bytes)']      = cleaned_df[\"Netflix DL (Bytes)\"] + cleaned_df[\"Netflix UL (Bytes)\"]\n",
    "cleaned_df[\"Gaming (Bytes)\"]       = cleaned_df[\"Gaming DL (Bytes)\"] + cleaned_df[\"Gaming UL (Bytes)\"]\n",
    "cleaned_df['Email (Bytes)']        = cleaned_df[\"Email DL (Bytes)\"] + cleaned_df[\"Email UL (Bytes)\"]\n",
    "cleaned_df['Other (Bytes)']        = cleaned_df[\"Other DL (Bytes)\"]+ cleaned_df[\"Other UL (Bytes)\"]\n",
    "cleaned_df['Total Data (Bytes)']   = cleaned_df['Total UL (Bytes)'] + cleaned_df['Total DL (Bytes)']"
   ]
  },
  {
   "cell_type": "markdown",
   "id": "8811b0f2",
   "metadata": {},
   "source": [
    "# Non-Graphical Univariate Analysis"
   ]
  },
  {
   "cell_type": "markdown",
   "id": "c9fb26af",
   "metadata": {},
   "source": [
    "\"\"\"\n",
    "Aggregate users information based on the following columns:\n",
    "\n",
    "    Number of xDR sessions\n",
    "    Session duration\n",
    "    the total download (DL) and upload (UL) data\n",
    "    the total data volume (in Bytes) during this session for each application\n",
    "\"\"\""
   ]
  },
  {
   "cell_type": "code",
   "execution_count": 68,
   "id": "b81897ae",
   "metadata": {},
   "outputs": [
    {
     "data": {
      "text/html": [
       "<div>\n",
       "<style scoped>\n",
       "    .dataframe tbody tr th:only-of-type {\n",
       "        vertical-align: middle;\n",
       "    }\n",
       "\n",
       "    .dataframe tbody tr th {\n",
       "        vertical-align: top;\n",
       "    }\n",
       "\n",
       "    .dataframe thead th {\n",
       "        text-align: right;\n",
       "    }\n",
       "</style>\n",
       "<table border=\"1\" class=\"dataframe\">\n",
       "  <thead>\n",
       "    <tr style=\"text-align: right;\">\n",
       "      <th></th>\n",
       "      <th>Bearer Id</th>\n",
       "      <th>Dur. (ms)</th>\n",
       "      <th>Total UL (Bytes)</th>\n",
       "      <th>Total DL (Bytes)</th>\n",
       "      <th>Total Data (Bytes)</th>\n",
       "    </tr>\n",
       "    <tr>\n",
       "      <th>MSISDN/Number</th>\n",
       "      <th></th>\n",
       "      <th></th>\n",
       "      <th></th>\n",
       "      <th></th>\n",
       "      <th></th>\n",
       "    </tr>\n",
       "  </thead>\n",
       "  <tbody>\n",
       "    <tr>\n",
       "      <th>33601001722.00</th>\n",
       "      <td>1</td>\n",
       "      <td>116720.00</td>\n",
       "      <td>36053108.00</td>\n",
       "      <td>842637466.00</td>\n",
       "      <td>878690574.00</td>\n",
       "    </tr>\n",
       "    <tr>\n",
       "      <th>33601001754.00</th>\n",
       "      <td>1</td>\n",
       "      <td>181230.00</td>\n",
       "      <td>36104459.00</td>\n",
       "      <td>120755184.00</td>\n",
       "      <td>156859643.00</td>\n",
       "    </tr>\n",
       "    <tr>\n",
       "      <th>33601002511.00</th>\n",
       "      <td>1</td>\n",
       "      <td>134969.00</td>\n",
       "      <td>39306820.00</td>\n",
       "      <td>556659663.00</td>\n",
       "      <td>595966483.00</td>\n",
       "    </tr>\n",
       "    <tr>\n",
       "      <th>33601007832.00</th>\n",
       "      <td>1</td>\n",
       "      <td>49878.00</td>\n",
       "      <td>20327526.00</td>\n",
       "      <td>401993172.00</td>\n",
       "      <td>422320698.00</td>\n",
       "    </tr>\n",
       "    <tr>\n",
       "      <th>33601008617.00</th>\n",
       "      <td>2</td>\n",
       "      <td>37104.00</td>\n",
       "      <td>94280527.00</td>\n",
       "      <td>1363130417.00</td>\n",
       "      <td>1457410944.00</td>\n",
       "    </tr>\n",
       "  </tbody>\n",
       "</table>\n",
       "</div>"
      ],
      "text/plain": [
       "                Bearer Id  Dur. (ms)  Total UL (Bytes)  Total DL (Bytes)  \\\n",
       "MSISDN/Number                                                              \n",
       "33601001722.00          1  116720.00       36053108.00      842637466.00   \n",
       "33601001754.00          1  181230.00       36104459.00      120755184.00   \n",
       "33601002511.00          1  134969.00       39306820.00      556659663.00   \n",
       "33601007832.00          1   49878.00       20327526.00      401993172.00   \n",
       "33601008617.00          2   37104.00       94280527.00     1363130417.00   \n",
       "\n",
       "                Total Data (Bytes)  \n",
       "MSISDN/Number                       \n",
       "33601001722.00        878690574.00  \n",
       "33601001754.00        156859643.00  \n",
       "33601002511.00        595966483.00  \n",
       "33601007832.00        422320698.00  \n",
       "33601008617.00       1457410944.00  "
      ]
     },
     "execution_count": 68,
     "metadata": {},
     "output_type": "execute_result"
    }
   ],
   "source": [
    "#perform aggregation based on MSISDN/Number group\n",
    "aggrigation = {\"Bearer Id\": 'count', 'Dur. (ms)':'sum', 'Total UL (Bytes)': 'sum', 'Total DL (Bytes)': 'sum', 'Total Data (Bytes)': 'sum'}\n",
    "aggrigate_result = cleaned_df.groupby('MSISDN/Number').agg(aggrigation)\n",
    "aggrigate_result.head()"
   ]
  },
  {
   "cell_type": "code",
   "execution_count": 70,
   "id": "4a9503d3",
   "metadata": {},
   "outputs": [],
   "source": [
    "user_app_usage = cleaned_df.copy()"
   ]
  },
  {
   "cell_type": "code",
   "execution_count": null,
   "id": "83c11920",
   "metadata": {},
   "outputs": [],
   "source": [
    "# opearion for "
   ]
  }
 ],
 "metadata": {
  "kernelspec": {
   "display_name": "Python 3 (ipykernel)",
   "language": "python",
   "name": "python3"
  },
  "language_info": {
   "codemirror_mode": {
    "name": "ipython",
    "version": 3
   },
   "file_extension": ".py",
   "mimetype": "text/x-python",
   "name": "python",
   "nbconvert_exporter": "python",
   "pygments_lexer": "ipython3",
   "version": "3.9.12"
  }
 },
 "nbformat": 4,
 "nbformat_minor": 5
}
