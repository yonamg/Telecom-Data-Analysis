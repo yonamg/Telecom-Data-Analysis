{
 "cells": [
  {
   "cell_type": "code",
   "execution_count": 50,
   "id": "c19ebb09",
   "metadata": {},
   "outputs": [],
   "source": [
    "#imports relevant libraries for task\n",
    "import os\n",
    "import sys\n",
    "import numpy as np\n",
    "import pandas as pd\n",
    "import matplotlib.pyplot as plt \n",
    "from sklearn.decomposition import PCA\n",
    "from sklearn.preprocessing import StandardScaler\n",
    "import seaborn as sns\n",
    "import warnings\n",
    "warnings.filterwarnings('ignore')\n",
    "sys.path.append(os.path.abspath(os.path.join('../scripts/')))"
   ]
  },
  {
   "cell_type": "code",
   "execution_count": 53,
   "id": "04103c86",
   "metadata": {},
   "outputs": [],
   "source": [
    "# diplaying maximum column size\n",
    "pd.set_option('display.max_columns', None)\n",
    "pd.options.display.float_format = \"{:.2f}\".format"
   ]
  },
  {
   "cell_type": "markdown",
   "id": "62efc5c9",
   "metadata": {},
   "source": [
    "# Task 1: User Overview Analysis"
   ]
  },
  {
   "cell_type": "code",
   "execution_count": 54,
   "id": "db70bb58",
   "metadata": {},
   "outputs": [],
   "source": [
    "#read the cleaned telecom data\n",
    "cleaned_df = pd.read_csv('../data/cleaned_Telecom_data.csv')"
   ]
  },
  {
   "cell_type": "code",
   "execution_count": 56,
   "id": "c55fa830",
   "metadata": {},
   "outputs": [],
   "source": [
    "# declare functions for processing each task!\n",
    "def get_top_handsets(num):\n",
    "        top_handset = cleaned_df['Handset Type'].value_counts().head(num)\n",
    "        return top_handset\n",
    "    \n",
    "def get_top_manufacturers(num):\n",
    "        top_handset = cleaned_df['Handset Manufacturer'].value_counts().head(num)\n",
    "        return top_handset\n",
    "    \n",
    "def get_handset_group():\n",
    "        top_3_manufacturers = get_top_manufacturers(3)\n",
    "\n",
    "        manufacturers = cleaned_df.groupby(\"Handset Manufacturer\")\n",
    "\n",
    "        for column in top_3_manufacturers.index:\n",
    "            result = manufacturers.get_group(column).groupby(\"Handset Type\")['MSISDN/Number'].nunique().nlargest(5)\n",
    "            print(f\">>>> { column } <<<<\")\n",
    "            print(result)\n",
    "            print() "
   ]
  },
  {
   "cell_type": "markdown",
   "id": "542e1407",
   "metadata": {},
   "source": [
    "Identify the top 10 handsets used by the customers"
   ]
  },
  {
   "cell_type": "code",
   "execution_count": 57,
   "id": "408db678",
   "metadata": {},
   "outputs": [
    {
     "data": {
      "text/html": [
       "<div>\n",
       "<style scoped>\n",
       "    .dataframe tbody tr th:only-of-type {\n",
       "        vertical-align: middle;\n",
       "    }\n",
       "\n",
       "    .dataframe tbody tr th {\n",
       "        vertical-align: top;\n",
       "    }\n",
       "\n",
       "    .dataframe thead th {\n",
       "        text-align: right;\n",
       "    }\n",
       "</style>\n",
       "<table border=\"1\" class=\"dataframe\">\n",
       "  <thead>\n",
       "    <tr style=\"text-align: right;\">\n",
       "      <th></th>\n",
       "      <th>Handset Type</th>\n",
       "    </tr>\n",
       "  </thead>\n",
       "  <tbody>\n",
       "    <tr>\n",
       "      <th>Huawei B528S-23A</th>\n",
       "      <td>19754</td>\n",
       "    </tr>\n",
       "    <tr>\n",
       "      <th>Apple iPhone 6S (A1688)</th>\n",
       "      <td>9401</td>\n",
       "    </tr>\n",
       "    <tr>\n",
       "      <th>Apple iPhone 6 (A1586)</th>\n",
       "      <td>9004</td>\n",
       "    </tr>\n",
       "    <tr>\n",
       "      <th>undefined</th>\n",
       "      <td>8960</td>\n",
       "    </tr>\n",
       "    <tr>\n",
       "      <th>Apple iPhone 7 (A1778)</th>\n",
       "      <td>6301</td>\n",
       "    </tr>\n",
       "    <tr>\n",
       "      <th>Apple iPhone Se (A1723)</th>\n",
       "      <td>5176</td>\n",
       "    </tr>\n",
       "    <tr>\n",
       "      <th>Apple iPhone 8 (A1905)</th>\n",
       "      <td>4985</td>\n",
       "    </tr>\n",
       "    <tr>\n",
       "      <th>Apple iPhone Xr (A2105)</th>\n",
       "      <td>4562</td>\n",
       "    </tr>\n",
       "    <tr>\n",
       "      <th>Samsung Galaxy S8 (Sm-G950F)</th>\n",
       "      <td>4504</td>\n",
       "    </tr>\n",
       "    <tr>\n",
       "      <th>Apple iPhone X (A1901)</th>\n",
       "      <td>3809</td>\n",
       "    </tr>\n",
       "  </tbody>\n",
       "</table>\n",
       "</div>"
      ],
      "text/plain": [
       "                              Handset Type\n",
       "Huawei B528S-23A                     19754\n",
       "Apple iPhone 6S (A1688)               9401\n",
       "Apple iPhone 6 (A1586)                9004\n",
       "undefined                             8960\n",
       "Apple iPhone 7 (A1778)                6301\n",
       "Apple iPhone Se (A1723)               5176\n",
       "Apple iPhone 8 (A1905)                4985\n",
       "Apple iPhone Xr (A2105)               4562\n",
       "Samsung Galaxy S8 (Sm-G950F)          4504\n",
       "Apple iPhone X (A1901)                3809"
      ]
     },
     "execution_count": 57,
     "metadata": {},
     "output_type": "execute_result"
    }
   ],
   "source": [
    "top_10_handsets = get_top_handsets(10)\n",
    "pd.DataFrame(top_10_handsets)"
   ]
  },
  {
   "cell_type": "code",
   "execution_count": 58,
   "id": "b0ae221b",
   "metadata": {},
   "outputs": [
    {
     "data": {
      "text/plain": [
       "Index(['Huawei B528S-23A', 'Apple iPhone 6S (A1688)', 'Apple iPhone 6 (A1586)',\n",
       "       'undefined', 'Apple iPhone 7 (A1778)', 'Apple iPhone Se (A1723)',\n",
       "       'Apple iPhone 8 (A1905)', 'Apple iPhone Xr (A2105)',\n",
       "       'Samsung Galaxy S8 (Sm-G950F)', 'Apple iPhone X (A1901)'],\n",
       "      dtype='object')"
      ]
     },
     "execution_count": 58,
     "metadata": {},
     "output_type": "execute_result"
    }
   ],
   "source": [
    "top_10_handsets.index"
   ]
  },
  {
   "cell_type": "code",
   "execution_count": 60,
   "id": "4f5c394e",
   "metadata": {},
   "outputs": [
    {
     "data": {
      "image/png": "[encoded data removed]",
      "text/plain": [
       "<Figure size 720x360 with 1 Axes>"
      ]
     },
     "metadata": {
      "needs_background": "light"
     },
     "output_type": "display_data"
    }
   ],
   "source": [
    "# Bar graph for top 10 handsets used by the customers\n",
    "plt.figure(figsize=(10,5))\n",
    "sns.barplot(x=top_10_handsets.index, y=top_10_handsets.values)\n",
    "plt.title('Top 10 Handset Types used by Customers', size=14, fontweight=\"bold\")\n",
    "plt.xlabel('Handset Types', size=13, fontweight=\"bold\")\n",
    "plt.xticks(rotation=90)\n",
    "plt.ylabel('Number of Customers', size=13, fontweight=\"bold\")\n",
    "plt.show()"
   ]
  },
  {
   "cell_type": "code",
   "execution_count": 61,
   "id": "ada06cf6",
   "metadata": {},
   "outputs": [
    {
     "data": {
      "text/html": [
       "<div>\n",
       "<style scoped>\n",
       "    .dataframe tbody tr th:only-of-type {\n",
       "        vertical-align: middle;\n",
       "    }\n",
       "\n",
       "    .dataframe tbody tr th {\n",
       "        vertical-align: top;\n",
       "    }\n",
       "\n",
       "    .dataframe thead th {\n",
       "        text-align: right;\n",
       "    }\n",
       "</style>\n",
       "<table border=\"1\" class=\"dataframe\">\n",
       "  <thead>\n",
       "    <tr style=\"text-align: right;\">\n",
       "      <th></th>\n",
       "      <th>Handset Manufacturer</th>\n",
       "    </tr>\n",
       "  </thead>\n",
       "  <tbody>\n",
       "    <tr>\n",
       "      <th>Apple</th>\n",
       "      <td>59442</td>\n",
       "    </tr>\n",
       "    <tr>\n",
       "      <th>Samsung</th>\n",
       "      <td>40689</td>\n",
       "    </tr>\n",
       "    <tr>\n",
       "      <th>Huawei</th>\n",
       "      <td>34353</td>\n",
       "    </tr>\n",
       "  </tbody>\n",
       "</table>\n",
       "</div>"
      ],
      "text/plain": [
       "         Handset Manufacturer\n",
       "Apple                   59442\n",
       "Samsung                 40689\n",
       "Huawei                  34353"
      ]
     },
     "execution_count": 61,
     "metadata": {},
     "output_type": "execute_result"
    }
   ],
   "source": [
    "# top 3 manufactures used by customers from cleaned_df\n",
    "\n",
    "top_3_manufacturers = get_top_manufacturers(3)\n",
    "pd.DataFrame(top_3_manufacturers)"
   ]
  },
  {
   "cell_type": "code",
   "execution_count": 63,
   "id": "02db2ad9",
   "metadata": {},
   "outputs": [
    {
     "data": {
      "image/png": "[encoded data removed]",
      "text/plain": [
       "<Figure size 576x360 with 1 Axes>"
      ]
     },
     "metadata": {
      "needs_background": "light"
     },
     "output_type": "display_data"
    }
   ],
   "source": [
    "# Bar graph that sows the top 3 Handset Manufacturers\n",
    "\n",
    "plt.figure(figsize=(8,5))\n",
    "sns.barplot(x=top_3_manufacturers.index, y=top_3_manufacturers.values)\n",
    "plt.title('Top 3 Handset Manufacturers', size=14, fontweight=\"bold\")\n",
    "plt.xlabel('Handset Manufacturers', size=13, fontweight=\"bold\") \n",
    "plt.ylabel('Number of Users', size=13, fontweight=\"bold\")\n",
    "plt.show()"
   ]
  },
  {
   "cell_type": "code",
   "execution_count": 64,
   "id": "3877c420",
   "metadata": {},
   "outputs": [
    {
     "name": "stdout",
     "output_type": "stream",
     "text": [
      ">>>> Apple <<<<\n",
      "Handset Type\n",
      "Apple iPhone 6S (A1688)    6745\n",
      "Apple iPhone 6 (A1586)     6246\n",
      "Apple iPhone 7 (A1778)     4676\n",
      "Apple iPhone Se (A1723)    3745\n",
      "Apple iPhone 8 (A1905)     3536\n",
      "Name: MSISDN/Number, dtype: int64\n",
      "\n",
      ">>>> Samsung <<<<\n",
      "Handset Type\n",
      "Samsung Galaxy S8 (Sm-G950F)    3233\n",
      "Samsung Galaxy J5 (Sm-J530)     2742\n",
      "Samsung Galaxy A5 Sm-A520F      2702\n",
      "Samsung Galaxy J3 (Sm-J330)     2583\n",
      "Samsung Galaxy S7 (Sm-G930X)    2288\n",
      "Name: MSISDN/Number, dtype: int64\n",
      "\n",
      ">>>> Huawei <<<<\n",
      "Handset Type\n",
      "Huawei B528S-23A                  10617\n",
      "Huawei P20 Lite Huawei Nova 3E     1527\n",
      "Huawei E5180                       1183\n",
      "Huawei P20                         1106\n",
      "Huawei Y6 2018                      757\n",
      "Name: MSISDN/Number, dtype: int64\n",
      "\n"
     ]
    }
   ],
   "source": [
    "# display handset group\n",
    "get_handset_group()"
   ]
  },
  {
   "cell_type": "markdown",
   "id": "63ced95c",
   "metadata": {},
   "source": [
    "Task 1.1: Overview of Users’ Behavior"
   ]
  },
  {
   "cell_type": "code",
   "execution_count": 65,
   "id": "f62d6c69",
   "metadata": {},
   "outputs": [],
   "source": [
    "# Aggregate users information based on the following columns:\n",
    "cleaned_df[\"Social Media (Bytes)\"] = cleaned_df[\"Social Media DL (Bytes)\"] + cleaned_df['Social Media UL (Bytes)']\n",
    "cleaned_df[\"Google (Bytes)\"]       = cleaned_df[\"Google DL (Bytes)\"] + cleaned_df[\"Google UL (Bytes)\"]\n",
    "cleaned_df['Youtube (Bytes)']      = cleaned_df[\"Youtube DL (Bytes)\"] + cleaned_df[\"Youtube UL (Bytes)\"]\n",
    "cleaned_df['Netflix (Bytes)']      = cleaned_df[\"Netflix DL (Bytes)\"] + cleaned_df[\"Netflix UL (Bytes)\"]\n",
    "cleaned_df[\"Gaming (Bytes)\"]       = cleaned_df[\"Gaming DL (Bytes)\"] + cleaned_df[\"Gaming UL (Bytes)\"]\n",
    "cleaned_df['Email (Bytes)']        = cleaned_df[\"Email DL (Bytes)\"] + cleaned_df[\"Email UL (Bytes)\"]\n",
    "cleaned_df['Other (Bytes)']        = cleaned_df[\"Other DL (Bytes)\"]+ cleaned_df[\"Other UL (Bytes)\"]\n",
    "cleaned_df['Total Data (Bytes)']   = cleaned_df['Total UL (Bytes)'] + cleaned_df['Total DL (Bytes)']"
   ]
  },
  {
   "cell_type": "markdown",
   "id": "71e0d87a",
   "metadata": {},
   "source": [
    "# Non-Graphical Univariate Analysis"
   ]
  },
  {
   "cell_type": "markdown",
   "id": "954fbde7",
   "metadata": {},
   "source": [
    "\"\"\"\n",
    "Aggregate users information based on the following columns:\n",
    "\n",
    "    Number of xDR sessions\n",
    "    Session duration\n",
    "    the total download (DL) and upload (UL) data\n",
    "    the total data volume (in Bytes) during this session for each application\n",
    "\"\"\""
   ]
  },
  {
   "cell_type": "code",
   "execution_count": 68,
   "id": "9f05c3b2",
   "metadata": {},
   "outputs": [
    {
     "data": {
      "text/html": [
       "<div>\n",
       "<style scoped>\n",
       "    .dataframe tbody tr th:only-of-type {\n",
       "        vertical-align: middle;\n",
       "    }\n",
       "\n",
       "    .dataframe tbody tr th {\n",
       "        vertical-align: top;\n",
       "    }\n",
       "\n",
       "    .dataframe thead th {\n",
       "        text-align: right;\n",
       "    }\n",
       "</style>\n",
       "<table border=\"1\" class=\"dataframe\">\n",
       "  <thead>\n",
       "    <tr style=\"text-align: right;\">\n",
       "      <th></th>\n",
       "      <th>Bearer Id</th>\n",
       "      <th>Dur. (ms)</th>\n",
       "      <th>Total UL (Bytes)</th>\n",
       "      <th>Total DL (Bytes)</th>\n",
       "      <th>Total Data (Bytes)</th>\n",
       "    </tr>\n",
       "    <tr>\n",
       "      <th>MSISDN/Number</th>\n",
       "      <th></th>\n",
       "      <th></th>\n",
       "      <th></th>\n",
       "      <th></th>\n",
       "      <th></th>\n",
       "    </tr>\n",
       "  </thead>\n",
       "  <tbody>\n",
       "    <tr>\n",
       "      <th>33601001722.00</th>\n",
       "      <td>1</td>\n",
       "      <td>116720.00</td>\n",
       "      <td>36053108.00</td>\n",
       "      <td>842637466.00</td>\n",
       "      <td>878690574.00</td>\n",
       "    </tr>\n",
       "    <tr>\n",
       "      <th>33601001754.00</th>\n",
       "      <td>1</td>\n",
       "      <td>181230.00</td>\n",
       "      <td>36104459.00</td>\n",
       "      <td>120755184.00</td>\n",
       "      <td>156859643.00</td>\n",
       "    </tr>\n",
       "    <tr>\n",
       "      <th>33601002511.00</th>\n",
       "      <td>1</td>\n",
       "      <td>134969.00</td>\n",
       "      <td>39306820.00</td>\n",
       "      <td>556659663.00</td>\n",
       "      <td>595966483.00</td>\n",
       "    </tr>\n",
       "    <tr>\n",
       "      <th>33601007832.00</th>\n",
       "      <td>1</td>\n",
       "      <td>49878.00</td>\n",
       "      <td>20327526.00</td>\n",
       "      <td>401993172.00</td>\n",
       "      <td>422320698.00</td>\n",
       "    </tr>\n",
       "    <tr>\n",
       "      <th>33601008617.00</th>\n",
       "      <td>2</td>\n",
       "      <td>37104.00</td>\n",
       "      <td>94280527.00</td>\n",
       "      <td>1363130417.00</td>\n",
       "      <td>1457410944.00</td>\n",
       "    </tr>\n",
       "  </tbody>\n",
       "</table>\n",
       "</div>"
      ],
      "text/plain": [
       "                Bearer Id  Dur. (ms)  Total UL (Bytes)  Total DL (Bytes)  \\\n",
       "MSISDN/Number                                                              \n",
       "33601001722.00          1  116720.00       36053108.00      842637466.00   \n",
       "33601001754.00          1  181230.00       36104459.00      120755184.00   \n",
       "33601002511.00          1  134969.00       39306820.00      556659663.00   \n",
       "33601007832.00          1   49878.00       20327526.00      401993172.00   \n",
       "33601008617.00          2   37104.00       94280527.00     1363130417.00   \n",
       "\n",
       "                Total Data (Bytes)  \n",
       "MSISDN/Number                       \n",
       "33601001722.00        878690574.00  \n",
       "33601001754.00        156859643.00  \n",
       "33601002511.00        595966483.00  \n",
       "33601007832.00        422320698.00  \n",
       "33601008617.00       1457410944.00  "
      ]
     },
     "execution_count": 68,
     "metadata": {},
     "output_type": "execute_result"
    }
   ],
   "source": [
    "#perform aggregation based on MSISDN/Number group\n",
    "aggrigation = {\"Bearer Id\": 'count', 'Dur. (ms)':'sum', 'Total UL (Bytes)': 'sum', 'Total DL (Bytes)': 'sum', 'Total Data (Bytes)': 'sum'}\n",
    "aggrigate_result = cleaned_df.groupby('MSISDN/Number').agg(aggrigation)\n",
    "aggrigate_result.head()"
   ]
  },
  {
   "cell_type": "code",
   "execution_count": 70,
   "id": "e6b29611",
   "metadata": {},
   "outputs": [],
   "source": [
    "user_app_usage = cleaned_df.copy()"
   ]
  },
  {
   "cell_type": "code",
   "execution_count": 71,
   "id": "64cadeda",
   "metadata": {},
   "outputs": [],
   "source": [
    "# opearion for converting bytes to megabytes\n",
    "def convert_bytes_to_megabytes(column):            \n",
    "        megabyte = 1*10e+5\n",
    "        Total_MB = []\n",
    "        for i in column.values:\n",
    "            i = i / megabyte\n",
    "            Total_MB.append(i)\n",
    "\n",
    "        return Total_MB"
   ]
  },
  {
   "cell_type": "code",
   "execution_count": 72,
   "id": "af4f2ab2",
   "metadata": {},
   "outputs": [],
   "source": [
    "# conversion to MegaBytes\n",
    "user_app_usage[\"Social Media (MB)\"] = convert_bytes_to_megabytes(user_app_usage[\"Social Media (Bytes)\"])\n",
    "user_app_usage[\"Google (MB)\"]       = convert_bytes_to_megabytes(user_app_usage[\"Google (Bytes)\"])\n",
    "user_app_usage['Youtube (MB)']      = convert_bytes_to_megabytes(user_app_usage[\"Youtube (Bytes)\"])\n",
    "user_app_usage['Netflix (MB)']      = convert_bytes_to_megabytes(user_app_usage[\"Netflix (Bytes)\"])\n",
    "user_app_usage[\"Gaming (MB)\"]       = convert_bytes_to_megabytes(user_app_usage[\"Gaming (Bytes)\"])\n",
    "user_app_usage['Email (MB)']        = convert_bytes_to_megabytes(user_app_usage[\"Email (Bytes)\"])\n",
    "user_app_usage['Other (MB)']        = convert_bytes_to_megabytes(user_app_usage[\"Other (Bytes)\"])\n",
    "user_app_usage['Total Data (MB)']    = convert_bytes_to_megabytes(user_app_usage[\"Total Data (Bytes)\"]) "
   ]
  },
  {
   "cell_type": "code",
   "execution_count": 73,
   "id": "ca58a206",
   "metadata": {},
   "outputs": [],
   "source": [
    "user_app_columns = ['MSISDN/Number','Social Media (MB)','Google (MB)', 'Youtube (MB)','Netflix (MB)', \\\n",
    "              'Gaming (MB)', 'Email (MB)', 'Other (MB)', 'Total Data (MB)'] "
   ]
  },
  {
   "cell_type": "code",
   "execution_count": 74,
   "id": "1c4806dd",
   "metadata": {},
   "outputs": [
    {
     "data": {
      "text/html": [
       "<div>\n",
       "<style scoped>\n",
       "    .dataframe tbody tr th:only-of-type {\n",
       "        vertical-align: middle;\n",
       "    }\n",
       "\n",
       "    .dataframe tbody tr th {\n",
       "        vertical-align: top;\n",
       "    }\n",
       "\n",
       "    .dataframe thead th {\n",
       "        text-align: right;\n",
       "    }\n",
       "</style>\n",
       "<table border=\"1\" class=\"dataframe\">\n",
       "  <thead>\n",
       "    <tr style=\"text-align: right;\">\n",
       "      <th></th>\n",
       "      <th>Social Media (MB)</th>\n",
       "      <th>Google (MB)</th>\n",
       "      <th>Youtube (MB)</th>\n",
       "      <th>Netflix (MB)</th>\n",
       "      <th>Gaming (MB)</th>\n",
       "      <th>Email (MB)</th>\n",
       "      <th>Other (MB)</th>\n",
       "      <th>Total Data (MB)</th>\n",
       "    </tr>\n",
       "    <tr>\n",
       "      <th>MSISDN/Number</th>\n",
       "      <th></th>\n",
       "      <th></th>\n",
       "      <th></th>\n",
       "      <th></th>\n",
       "      <th></th>\n",
       "      <th></th>\n",
       "      <th></th>\n",
       "      <th></th>\n",
       "    </tr>\n",
       "  </thead>\n",
       "  <tbody>\n",
       "    <tr>\n",
       "      <th>33678590390.00</th>\n",
       "      <td>2.55</td>\n",
       "      <td>15.58</td>\n",
       "      <td>37.79</td>\n",
       "      <td>18.17</td>\n",
       "      <td>339.58</td>\n",
       "      <td>3.19</td>\n",
       "      <td>773.39</td>\n",
       "      <td>418.10</td>\n",
       "    </tr>\n",
       "    <tr>\n",
       "      <th>33671550973.00</th>\n",
       "      <td>1.47</td>\n",
       "      <td>11.46</td>\n",
       "      <td>24.99</td>\n",
       "      <td>28.76</td>\n",
       "      <td>322.49</td>\n",
       "      <td>3.07</td>\n",
       "      <td>788.41</td>\n",
       "      <td>399.86</td>\n",
       "    </tr>\n",
       "    <tr>\n",
       "      <th>33630302633.00</th>\n",
       "      <td>4.47</td>\n",
       "      <td>14.75</td>\n",
       "      <td>64.56</td>\n",
       "      <td>51.48</td>\n",
       "      <td>446.48</td>\n",
       "      <td>5.10</td>\n",
       "      <td>1494.72</td>\n",
       "      <td>596.26</td>\n",
       "    </tr>\n",
       "    <tr>\n",
       "      <th>33698228237.00</th>\n",
       "      <td>2.69</td>\n",
       "      <td>12.20</td>\n",
       "      <td>26.62</td>\n",
       "      <td>17.81</td>\n",
       "      <td>502.48</td>\n",
       "      <td>3.39</td>\n",
       "      <td>502.11</td>\n",
       "      <td>579.49</td>\n",
       "    </tr>\n",
       "    <tr>\n",
       "      <th>33662594317.00</th>\n",
       "      <td>2.08</td>\n",
       "      <td>15.64</td>\n",
       "      <td>38.27</td>\n",
       "      <td>35.65</td>\n",
       "      <td>1110.56</td>\n",
       "      <td>5.04</td>\n",
       "      <td>688.84</td>\n",
       "      <td>1227.56</td>\n",
       "    </tr>\n",
       "    <tr>\n",
       "      <th>33666952768.00</th>\n",
       "      <td>0.79</td>\n",
       "      <td>7.38</td>\n",
       "      <td>21.69</td>\n",
       "      <td>38.09</td>\n",
       "      <td>523.19</td>\n",
       "      <td>1.36</td>\n",
       "      <td>693.63</td>\n",
       "      <td>596.81</td>\n",
       "    </tr>\n",
       "    <tr>\n",
       "      <th>33619735739.00</th>\n",
       "      <td>3.29</td>\n",
       "      <td>3.58</td>\n",
       "      <td>6.80</td>\n",
       "      <td>11.91</td>\n",
       "      <td>268.86</td>\n",
       "      <td>2.33</td>\n",
       "      <td>544.01</td>\n",
       "      <td>310.51</td>\n",
       "    </tr>\n",
       "    <tr>\n",
       "      <th>33763205835.00</th>\n",
       "      <td>0.50</td>\n",
       "      <td>6.55</td>\n",
       "      <td>16.00</td>\n",
       "      <td>20.33</td>\n",
       "      <td>145.04</td>\n",
       "      <td>0.87</td>\n",
       "      <td>383.79</td>\n",
       "      <td>195.47</td>\n",
       "    </tr>\n",
       "    <tr>\n",
       "      <th>33616446885.00</th>\n",
       "      <td>0.63</td>\n",
       "      <td>3.25</td>\n",
       "      <td>40.34</td>\n",
       "      <td>35.37</td>\n",
       "      <td>117.50</td>\n",
       "      <td>1.35</td>\n",
       "      <td>477.64</td>\n",
       "      <td>203.27</td>\n",
       "    </tr>\n",
       "    <tr>\n",
       "      <th>33609582742.00</th>\n",
       "      <td>2.95</td>\n",
       "      <td>11.21</td>\n",
       "      <td>20.91</td>\n",
       "      <td>21.10</td>\n",
       "      <td>768.59</td>\n",
       "      <td>2.90</td>\n",
       "      <td>719.15</td>\n",
       "      <td>833.21</td>\n",
       "    </tr>\n",
       "  </tbody>\n",
       "</table>\n",
       "</div>"
      ],
      "text/plain": [
       "                Social Media (MB)  Google (MB)  Youtube (MB)  Netflix (MB)  \\\n",
       "MSISDN/Number                                                                \n",
       "33678590390.00               2.55        15.58         37.79         18.17   \n",
       "33671550973.00               1.47        11.46         24.99         28.76   \n",
       "33630302633.00               4.47        14.75         64.56         51.48   \n",
       "33698228237.00               2.69        12.20         26.62         17.81   \n",
       "33662594317.00               2.08        15.64         38.27         35.65   \n",
       "33666952768.00               0.79         7.38         21.69         38.09   \n",
       "33619735739.00               3.29         3.58          6.80         11.91   \n",
       "33763205835.00               0.50         6.55         16.00         20.33   \n",
       "33616446885.00               0.63         3.25         40.34         35.37   \n",
       "33609582742.00               2.95        11.21         20.91         21.10   \n",
       "\n",
       "                Gaming (MB)  Email (MB)  Other (MB)  Total Data (MB)  \n",
       "MSISDN/Number                                                         \n",
       "33678590390.00       339.58        3.19      773.39           418.10  \n",
       "33671550973.00       322.49        3.07      788.41           399.86  \n",
       "33630302633.00       446.48        5.10     1494.72           596.26  \n",
       "33698228237.00       502.48        3.39      502.11           579.49  \n",
       "33662594317.00      1110.56        5.04      688.84          1227.56  \n",
       "33666952768.00       523.19        1.36      693.63           596.81  \n",
       "33619735739.00       268.86        2.33      544.01           310.51  \n",
       "33763205835.00       145.04        0.87      383.79           195.47  \n",
       "33616446885.00       117.50        1.35      477.64           203.27  \n",
       "33609582742.00       768.59        2.90      719.15           833.21  "
      ]
     },
     "execution_count": 74,
     "metadata": {},
     "output_type": "execute_result"
    }
   ],
   "source": [
    "users_app_behavior = user_app_usage[user_app_columns].groupby('MSISDN/Number').sum().sample(10)\n",
    "users_app_behavior"
   ]
  },
  {
   "cell_type": "markdown",
   "id": "6a110fda",
   "metadata": {},
   "source": [
    "# Task 1.2: Exploratory Data Analysis"
   ]
  },
  {
   "cell_type": "code",
   "execution_count": 75,
   "id": "a81928e1",
   "metadata": {},
   "outputs": [
    {
     "name": "stdout",
     "output_type": "stream",
     "text": [
      "<class 'pandas.core.frame.DataFrame'>\n",
      "RangeIndex: 149001 entries, 0 to 149000\n",
      "Data columns (total 10 columns):\n",
      " #   Column             Non-Null Count   Dtype  \n",
      "---  ------             --------------   -----  \n",
      " 0   Dur. (ms)          149001 non-null  float64\n",
      " 1   MSISDN/Number      149001 non-null  float64\n",
      " 2   Social Media (MB)  149001 non-null  float64\n",
      " 3   Google (MB)        149001 non-null  float64\n",
      " 4   Youtube (MB)       149001 non-null  float64\n",
      " 5   Netflix (MB)       149001 non-null  float64\n",
      " 6   Gaming (MB)        149001 non-null  float64\n",
      " 7   Email (MB)         149001 non-null  float64\n",
      " 8   Other (MB)         149001 non-null  float64\n",
      " 9   Total Data (MB)    149001 non-null  float64\n",
      "dtypes: float64(10)\n",
      "memory usage: 11.4 MB\n"
     ]
    }
   ],
   "source": [
    "#Identifying useful insights, identify and treat all missing values and outliers in the dataset by replacing by the mean of the corresponding column\n",
    "coloumns_for_analyze = ['Dur. (ms)', 'MSISDN/Number', 'Social Media (MB)', 'Google (MB)', 'Youtube (MB)',   \n",
    "                'Netflix (MB)', 'Gaming (MB)', 'Email (MB)', 'Other (MB)', 'Total Data (MB)']\n",
    "\n",
    "explore_feature_df = user_app_usage[coloumns_for_analyze]\n",
    "explore_feature_df.info()"
   ]
  },
  {
   "cell_type": "code",
   "execution_count": 76,
   "id": "682e6edd",
   "metadata": {},
   "outputs": [],
   "source": [
    "def convert_ms_to_sec(column):\n",
    "        \"\"\"\n",
    "            This function takes the dataframe and the millisecond column values\n",
    "            returns the second equivalence          \n",
    "        \"\"\"        \n",
    "        \n",
    "        Total_sec = []\n",
    "        for i in column.values:\n",
    "            i = (i / 1000) % 60\n",
    "            Total_sec.append(i)\n",
    "\n",
    "        return Total_sec"
   ]
  },
  {
   "cell_type": "code",
   "execution_count": 77,
   "id": "13ac6c68",
   "metadata": {},
   "outputs": [],
   "source": [
    "# Converting Dur. (ms)\n",
    "\n",
    "explore_feature_df['Dur. (ms)'] = convert_ms_to_sec(cleaned_df['Dur. (ms)'])\n",
    "explore_feature_df.rename(columns = {'Dur. (ms)':'Dur. (sec)'}, inplace=True)"
   ]
  },
  {
   "cell_type": "code",
   "execution_count": 78,
   "id": "a6500b0e",
   "metadata": {},
   "outputs": [
    {
     "data": {
      "text/html": [
       "<div>\n",
       "<style scoped>\n",
       "    .dataframe tbody tr th:only-of-type {\n",
       "        vertical-align: middle;\n",
       "    }\n",
       "\n",
       "    .dataframe tbody tr th {\n",
       "        vertical-align: top;\n",
       "    }\n",
       "\n",
       "    .dataframe thead th {\n",
       "        text-align: right;\n",
       "    }\n",
       "</style>\n",
       "<table border=\"1\" class=\"dataframe\">\n",
       "  <thead>\n",
       "    <tr style=\"text-align: right;\">\n",
       "      <th></th>\n",
       "      <th>count</th>\n",
       "      <th>mean</th>\n",
       "      <th>std</th>\n",
       "      <th>min</th>\n",
       "      <th>25%</th>\n",
       "      <th>50%</th>\n",
       "      <th>75%</th>\n",
       "      <th>max</th>\n",
       "    </tr>\n",
       "  </thead>\n",
       "  <tbody>\n",
       "    <tr>\n",
       "      <th>Dur. (sec)</th>\n",
       "      <td>149001.00</td>\n",
       "      <td>29.86</td>\n",
       "      <td>14.24</td>\n",
       "      <td>0.00</td>\n",
       "      <td>22.17</td>\n",
       "      <td>26.40</td>\n",
       "      <td>39.76</td>\n",
       "      <td>60.00</td>\n",
       "    </tr>\n",
       "    <tr>\n",
       "      <th>MSISDN/Number</th>\n",
       "      <td>149001.00</td>\n",
       "      <td>41879158051.11</td>\n",
       "      <td>2446901253549.37</td>\n",
       "      <td>33601001722.00</td>\n",
       "      <td>33651403844.00</td>\n",
       "      <td>33663706799.00</td>\n",
       "      <td>33683312636.00</td>\n",
       "      <td>882397108489451.00</td>\n",
       "    </tr>\n",
       "    <tr>\n",
       "      <th>Social Media (MB)</th>\n",
       "      <td>149001.00</td>\n",
       "      <td>1.83</td>\n",
       "      <td>1.04</td>\n",
       "      <td>0.00</td>\n",
       "      <td>0.93</td>\n",
       "      <td>1.83</td>\n",
       "      <td>2.73</td>\n",
       "      <td>3.65</td>\n",
       "    </tr>\n",
       "    <tr>\n",
       "      <th>Google (MB)</th>\n",
       "      <td>149001.00</td>\n",
       "      <td>7.81</td>\n",
       "      <td>3.52</td>\n",
       "      <td>0.04</td>\n",
       "      <td>4.94</td>\n",
       "      <td>7.81</td>\n",
       "      <td>10.68</td>\n",
       "      <td>15.53</td>\n",
       "    </tr>\n",
       "    <tr>\n",
       "      <th>Youtube (MB)</th>\n",
       "      <td>149001.00</td>\n",
       "      <td>22.64</td>\n",
       "      <td>9.25</td>\n",
       "      <td>0.08</td>\n",
       "      <td>15.99</td>\n",
       "      <td>22.66</td>\n",
       "      <td>29.30</td>\n",
       "      <td>45.19</td>\n",
       "    </tr>\n",
       "    <tr>\n",
       "      <th>Netflix (MB)</th>\n",
       "      <td>149001.00</td>\n",
       "      <td>22.63</td>\n",
       "      <td>9.26</td>\n",
       "      <td>0.10</td>\n",
       "      <td>15.98</td>\n",
       "      <td>22.64</td>\n",
       "      <td>29.29</td>\n",
       "      <td>45.20</td>\n",
       "    </tr>\n",
       "    <tr>\n",
       "      <th>Gaming (MB)</th>\n",
       "      <td>149001.00</td>\n",
       "      <td>430.38</td>\n",
       "      <td>244.05</td>\n",
       "      <td>0.31</td>\n",
       "      <td>218.77</td>\n",
       "      <td>431.67</td>\n",
       "      <td>641.52</td>\n",
       "      <td>859.20</td>\n",
       "    </tr>\n",
       "    <tr>\n",
       "      <th>Email (MB)</th>\n",
       "      <td>149001.00</td>\n",
       "      <td>2.26</td>\n",
       "      <td>1.07</td>\n",
       "      <td>0.01</td>\n",
       "      <td>1.36</td>\n",
       "      <td>2.26</td>\n",
       "      <td>3.16</td>\n",
       "      <td>4.52</td>\n",
       "    </tr>\n",
       "    <tr>\n",
       "      <th>Other (MB)</th>\n",
       "      <td>149001.00</td>\n",
       "      <td>429.41</td>\n",
       "      <td>243.24</td>\n",
       "      <td>0.15</td>\n",
       "      <td>218.69</td>\n",
       "      <td>430.00</td>\n",
       "      <td>639.93</td>\n",
       "      <td>859.52</td>\n",
       "    </tr>\n",
       "    <tr>\n",
       "      <th>Total Data (MB)</th>\n",
       "      <td>149001.00</td>\n",
       "      <td>495.81</td>\n",
       "      <td>244.41</td>\n",
       "      <td>28.96</td>\n",
       "      <td>284.54</td>\n",
       "      <td>496.96</td>\n",
       "      <td>706.60</td>\n",
       "      <td>955.98</td>\n",
       "    </tr>\n",
       "  </tbody>\n",
       "</table>\n",
       "</div>"
      ],
      "text/plain": [
       "                      count           mean              std            min  \\\n",
       "Dur. (sec)        149001.00          29.86            14.24           0.00   \n",
       "MSISDN/Number     149001.00 41879158051.11 2446901253549.37 33601001722.00   \n",
       "Social Media (MB) 149001.00           1.83             1.04           0.00   \n",
       "Google (MB)       149001.00           7.81             3.52           0.04   \n",
       "Youtube (MB)      149001.00          22.64             9.25           0.08   \n",
       "Netflix (MB)      149001.00          22.63             9.26           0.10   \n",
       "Gaming (MB)       149001.00         430.38           244.05           0.31   \n",
       "Email (MB)        149001.00           2.26             1.07           0.01   \n",
       "Other (MB)        149001.00         429.41           243.24           0.15   \n",
       "Total Data (MB)   149001.00         495.81           244.41          28.96   \n",
       "\n",
       "                             25%            50%            75%  \\\n",
       "Dur. (sec)                 22.17          26.40          39.76   \n",
       "MSISDN/Number     33651403844.00 33663706799.00 33683312636.00   \n",
       "Social Media (MB)           0.93           1.83           2.73   \n",
       "Google (MB)                 4.94           7.81          10.68   \n",
       "Youtube (MB)               15.99          22.66          29.30   \n",
       "Netflix (MB)               15.98          22.64          29.29   \n",
       "Gaming (MB)               218.77         431.67         641.52   \n",
       "Email (MB)                  1.36           2.26           3.16   \n",
       "Other (MB)                218.69         430.00         639.93   \n",
       "Total Data (MB)           284.54         496.96         706.60   \n",
       "\n",
       "                                 max  \n",
       "Dur. (sec)                     60.00  \n",
       "MSISDN/Number     882397108489451.00  \n",
       "Social Media (MB)               3.65  \n",
       "Google (MB)                    15.53  \n",
       "Youtube (MB)                   45.19  \n",
       "Netflix (MB)                   45.20  \n",
       "Gaming (MB)                   859.20  \n",
       "Email (MB)                      4.52  \n",
       "Other (MB)                    859.52  \n",
       "Total Data (MB)               955.98  "
      ]
     },
     "execution_count": 78,
     "metadata": {},
     "output_type": "execute_result"
    }
   ],
   "source": [
    "explore_feature_df.describe().transpose()"
   ]
  },
  {
   "cell_type": "code",
   "execution_count": 79,
   "id": "6022d782",
   "metadata": {},
   "outputs": [
    {
     "data": {
      "text/plain": [
       "False"
      ]
     },
     "execution_count": 79,
     "metadata": {},
     "output_type": "execute_result"
    }
   ],
   "source": [
    "# checking any missing values\n",
    "explore_feature_df.isnull().values.any()"
   ]
  },
  {
   "cell_type": "code",
   "execution_count": 80,
   "id": "b07b8759",
   "metadata": {},
   "outputs": [
    {
     "data": {
      "text/plain": [
       "0"
      ]
     },
     "execution_count": 80,
     "metadata": {},
     "output_type": "execute_result"
    }
   ],
   "source": [
    "# Total number of missing values\n",
    "explore_feature_df.isnull().sum().sum()"
   ]
  },
  {
   "cell_type": "markdown",
   "id": "8c36c171",
   "metadata": {},
   "source": [
    "        Univariant Analysis\n",
    "\n",
    "Analysis of a particular variable.\n"
   ]
  },
  {
   "cell_type": "code",
   "execution_count": 82,
   "id": "81fb19d2",
   "metadata": {},
   "outputs": [],
   "source": [
    "from IPython.display import Image\n",
    "import plotly.express as px\n",
    "import plotly.io as pio\n",
    "from plotly.subplots import make_subplots\n",
    "import plotly.graph_objects as go  "
   ]
  },
  {
   "cell_type": "code",
   "execution_count": 83,
   "id": "1a721cea",
   "metadata": {},
   "outputs": [],
   "source": [
    "def hist(df:pd.DataFrame, column:str, color:str)->None:\n",
    "    plt.figure(figsize=(9, 7))\n",
    "    sns.displot(data=df, x=column, color=color, kde=True, height=7, aspect=2)\n",
    "    plt.title(f'Distribution of {column}', size=20, fontweight='bold')\n",
    "    plt.show()"
   ]
  },
  {
   "cell_type": "code",
   "execution_count": 85,
   "id": "a99f5657",
   "metadata": {},
   "outputs": [
    {
     "data": {
      "text/plain": [
       "<Figure size 648x504 with 0 Axes>"
      ]
     },
     "metadata": {},
     "output_type": "display_data"
    },
    {
     "data": {
      "image/png": "[encoded data removed]",
      "text/plain": [
       "<Figure size 1008x504 with 1 Axes>"
      ]
     },
     "metadata": {
      "needs_background": "light"
     },
     "output_type": "display_data"
    }
   ],
   "source": [
    "hist(explore_feature_df, 'Dur. (sec)', 'blue')"
   ]
  },
  {
   "cell_type": "code",
   "execution_count": 86,
   "id": "be10f75b",
   "metadata": {},
   "outputs": [],
   "source": [
    "def box_plot(df: pd.DataFrame, x_col: str, title: str)->None:\n",
    "    plt.figure(figsize=(12, 7))\n",
    "    sns.boxplot(data=df, x=x_col)\n",
    "    plt.title(title, size=20)\n",
    "    plt.xticks(rotation=90, fontsize=14)\n",
    "    plt.show()"
   ]
  },
  {
   "cell_type": "code",
   "execution_count": 87,
   "id": "71b394b8",
   "metadata": {},
   "outputs": [
    {
     "data": {
      "image/png": "[encoded data removed]",
      "text/plain": [
       "<Figure size 864x504 with 1 Axes>"
      ]
     },
     "metadata": {
      "needs_background": "light"
     },
     "output_type": "display_data"
    }
   ],
   "source": [
    "box_plot(explore_feature_df, 'Dur. (sec)', 'Duration Outlier Box plot')"
   ]
  },
  {
   "cell_type": "code",
   "execution_count": 89,
   "id": "1fcfe1a0",
   "metadata": {},
   "outputs": [],
   "source": [
    "def fix_outliers(df, column):\n",
    "    df[column] = np.where(df[column] > df[column].quantile(0.75), df[column].mode(),df[column])\n",
    "    \n",
    "    return df[column]"
   ]
  },
  {
   "cell_type": "code",
   "execution_count": 88,
   "id": "d9939391",
   "metadata": {},
   "outputs": [
    {
     "ename": "NameError",
     "evalue": "name 'fix_outliers' is not defined",
     "output_type": "error",
     "traceback": [
      "\u001b[1;31m---------------------------------------------------------------------------\u001b[0m",
      "\u001b[1;31mNameError\u001b[0m                                 Traceback (most recent call last)",
      "Input \u001b[1;32mIn [88]\u001b[0m, in \u001b[0;36m<cell line: 3>\u001b[1;34m()\u001b[0m\n\u001b[0;32m      1\u001b[0m \u001b[38;5;66;03m# fixing Duration outliers using quantile method\u001b[39;00m\n\u001b[1;32m----> 3\u001b[0m explore_feature_df[\u001b[38;5;124m\"\u001b[39m\u001b[38;5;124mDur. (sec)\u001b[39m\u001b[38;5;124m\"\u001b[39m] \u001b[38;5;241m=\u001b[39m \u001b[43mfix_outliers\u001b[49m(explore_feature_df, \u001b[38;5;124m\"\u001b[39m\u001b[38;5;124mDur. (sec)\u001b[39m\u001b[38;5;124m\"\u001b[39m)\n\u001b[0;32m      4\u001b[0m box_plot(explore_feature_df, \u001b[38;5;124m'\u001b[39m\u001b[38;5;124mDur. (sec)\u001b[39m\u001b[38;5;124m'\u001b[39m, \u001b[38;5;124m'\u001b[39m\u001b[38;5;124mDuration Box plot - Outlier Fixed\u001b[39m\u001b[38;5;124m'\u001b[39m)\n",
      "\u001b[1;31mNameError\u001b[0m: name 'fix_outliers' is not defined"
     ]
    }
   ],
   "source": [
    "# fixing Duration outliers using quantile method\n",
    "\n",
    "explore_feature_df[\"Dur. (sec)\"] = fix_outliers(explore_feature_df, \"Dur. (sec)\")\n",
    "box_plot(explore_feature_df, 'Dur. (sec)', 'Duration Box plot - Outlier Fixed')"
   ]
  },
  {
   "cell_type": "code",
   "execution_count": null,
   "id": "79ea2408",
   "metadata": {},
   "outputs": [],
   "source": []
  }
 ],
 "metadata": {
  "kernelspec": {
   "display_name": "Python 3 (ipykernel)",
   "language": "python",
   "name": "python3"
  },
  "language_info": {
   "codemirror_mode": {
    "name": "ipython",
    "version": 3
   },
   "file_extension": ".py",
   "mimetype": "text/x-python",
   "name": "python",
   "nbconvert_exporter": "python",
   "pygments_lexer": "ipython3",
   "version": "3.9.12"
  }
 },
 "nbformat": 4,
 "nbformat_minor": 5
}
