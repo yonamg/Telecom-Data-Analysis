{
 "cells": [
  {
   "cell_type": "code",
   "execution_count": 50,
   "id": "6cde745a",
   "metadata": {},
   "outputs": [],
   "source": [
    "#imports relevant libraries for task\n",
    "import os\n",
    "import sys\n",
    "import numpy as np\n",
    "import pandas as pd\n",
    "import matplotlib.pyplot as plt \n",
    "from sklearn.decomposition import PCA\n",
    "from sklearn.preprocessing import StandardScaler\n",
    "import seaborn as sns\n",
    "import warnings\n",
    "warnings.filterwarnings('ignore')\n",
    "sys.path.append(os.path.abspath(os.path.join('../scripts/')))"
   ]
  },
  {
   "cell_type": "code",
   "execution_count": 53,
   "id": "7659af94",
   "metadata": {},
   "outputs": [],
   "source": [
    "# diplaying maximum column size\n",
    "pd.set_option('display.max_columns', None)\n",
    "pd.options.display.float_format = \"{:.2f}\".format"
   ]
  },
  {
   "cell_type": "markdown",
   "id": "a947df2f",
   "metadata": {},
   "source": [
    "# Task 1: User Overview Analysis"
   ]
  },
  {
   "cell_type": "code",
   "execution_count": 54,
   "id": "9aa07567",
   "metadata": {},
   "outputs": [],
   "source": [
    "#read the cleaned telecom data\n",
    "cleaned_df = pd.read_csv('../data/cleaned_Telecom_data.csv')"
   ]
  },
  {
   "cell_type": "code",
   "execution_count": 56,
   "id": "609bd3ce",
   "metadata": {},
   "outputs": [],
   "source": [
    "# declare functions for processing each task!\n",
    "def get_top_handsets(num):\n",
    "        top_handset = cleaned_df['Handset Type'].value_counts().head(num)\n",
    "        return top_handset\n",
    "    \n",
    "def get_top_manufacturers(num):\n",
    "        top_handset = cleaned_df['Handset Manufacturer'].value_counts().head(num)\n",
    "        return top_handset\n",
    "    \n",
    "def get_handset_group():\n",
    "        top_3_manufacturers = get_top_manufacturers(3)\n",
    "\n",
    "        manufacturers = cleaned_df.groupby(\"Handset Manufacturer\")\n",
    "\n",
    "        for column in top_3_manufacturers.index:\n",
    "            result = manufacturers.get_group(column).groupby(\"Handset Type\")['MSISDN/Number'].nunique().nlargest(5)\n",
    "            print(f\">>>> { column } <<<<\")\n",
    "            print(result)\n",
    "            print() "
   ]
  },
  {
   "cell_type": "markdown",
   "id": "d2af4d98",
   "metadata": {},
   "source": [
    "Identify the top 10 handsets used by the customers"
   ]
  },
  {
   "cell_type": "code",
   "execution_count": 57,
   "id": "4a8c2dc9",
   "metadata": {},
   "outputs": [
    {
     "data": {
      "text/html": [
       "<div>\n",
       "<style scoped>\n",
       "    .dataframe tbody tr th:only-of-type {\n",
       "        vertical-align: middle;\n",
       "    }\n",
       "\n",
       "    .dataframe tbody tr th {\n",
       "        vertical-align: top;\n",
       "    }\n",
       "\n",
       "    .dataframe thead th {\n",
       "        text-align: right;\n",
       "    }\n",
       "</style>\n",
       "<table border=\"1\" class=\"dataframe\">\n",
       "  <thead>\n",
       "    <tr style=\"text-align: right;\">\n",
       "      <th></th>\n",
       "      <th>Handset Type</th>\n",
       "    </tr>\n",
       "  </thead>\n",
       "  <tbody>\n",
       "    <tr>\n",
       "      <th>Huawei B528S-23A</th>\n",
       "      <td>19754</td>\n",
       "    </tr>\n",
       "    <tr>\n",
       "      <th>Apple iPhone 6S (A1688)</th>\n",
       "      <td>9401</td>\n",
       "    </tr>\n",
       "    <tr>\n",
       "      <th>Apple iPhone 6 (A1586)</th>\n",
       "      <td>9004</td>\n",
       "    </tr>\n",
       "    <tr>\n",
       "      <th>undefined</th>\n",
       "      <td>8960</td>\n",
       "    </tr>\n",
       "    <tr>\n",
       "      <th>Apple iPhone 7 (A1778)</th>\n",
       "      <td>6301</td>\n",
       "    </tr>\n",
       "    <tr>\n",
       "      <th>Apple iPhone Se (A1723)</th>\n",
       "      <td>5176</td>\n",
       "    </tr>\n",
       "    <tr>\n",
       "      <th>Apple iPhone 8 (A1905)</th>\n",
       "      <td>4985</td>\n",
       "    </tr>\n",
       "    <tr>\n",
       "      <th>Apple iPhone Xr (A2105)</th>\n",
       "      <td>4562</td>\n",
       "    </tr>\n",
       "    <tr>\n",
       "      <th>Samsung Galaxy S8 (Sm-G950F)</th>\n",
       "      <td>4504</td>\n",
       "    </tr>\n",
       "    <tr>\n",
       "      <th>Apple iPhone X (A1901)</th>\n",
       "      <td>3809</td>\n",
       "    </tr>\n",
       "  </tbody>\n",
       "</table>\n",
       "</div>"
      ],
      "text/plain": [
       "                              Handset Type\n",
       "Huawei B528S-23A                     19754\n",
       "Apple iPhone 6S (A1688)               9401\n",
       "Apple iPhone 6 (A1586)                9004\n",
       "undefined                             8960\n",
       "Apple iPhone 7 (A1778)                6301\n",
       "Apple iPhone Se (A1723)               5176\n",
       "Apple iPhone 8 (A1905)                4985\n",
       "Apple iPhone Xr (A2105)               4562\n",
       "Samsung Galaxy S8 (Sm-G950F)          4504\n",
       "Apple iPhone X (A1901)                3809"
      ]
     },
     "execution_count": 57,
     "metadata": {},
     "output_type": "execute_result"
    }
   ],
   "source": [
    "top_10_handsets = get_top_handsets(10)\n",
    "pd.DataFrame(top_10_handsets)"
   ]
  },
  {
   "cell_type": "code",
   "execution_count": 58,
   "id": "447690b4",
   "metadata": {},
   "outputs": [
    {
     "data": {
      "text/plain": [
       "Index(['Huawei B528S-23A', 'Apple iPhone 6S (A1688)', 'Apple iPhone 6 (A1586)',\n",
       "       'undefined', 'Apple iPhone 7 (A1778)', 'Apple iPhone Se (A1723)',\n",
       "       'Apple iPhone 8 (A1905)', 'Apple iPhone Xr (A2105)',\n",
       "       'Samsung Galaxy S8 (Sm-G950F)', 'Apple iPhone X (A1901)'],\n",
       "      dtype='object')"
      ]
     },
     "execution_count": 58,
     "metadata": {},
     "output_type": "execute_result"
    }
   ],
   "source": [
    "top_10_handsets.index"
   ]
  },
  {
   "cell_type": "code",
   "execution_count": null,
   "id": "b648be72",
   "metadata": {},
   "outputs": [],
   "source": [
    "# Bar graph for top 10 handsets used by the customers\n",
    "plt.figure(figsize=(10,5))\n",
    "sns.barplot(x=top_10_handsets.index, y=top_10_handsets.values)\n",
    "plt.title('Top 10 Handset Types used by Customers', size=14, fontweight=\"bold\")\n",
    "plt.xlabel('Handset Types', size=13, fontweight=\"bold\")\n",
    "plt.xticks(rotation=90)\n",
    "plt.ylabel('Number of Customers', size=13, fontweight=\"bold\")\n",
    "plt.show()"
   ]
  },
  {
   "cell_type": "code",
   "execution_count": null,
   "id": "3de9aaf5",
   "metadata": {},
   "outputs": [],
   "source": []
  }
 ],
 "metadata": {
  "kernelspec": {
   "display_name": "Python 3 (ipykernel)",
   "language": "python",
   "name": "python3"
  },
  "language_info": {
   "codemirror_mode": {
    "name": "ipython",
    "version": 3
   },
   "file_extension": ".py",
   "mimetype": "text/x-python",
   "name": "python",
   "nbconvert_exporter": "python",
   "pygments_lexer": "ipython3",
   "version": "3.9.12"
  }
 },
 "nbformat": 4,
 "nbformat_minor": 5
}
