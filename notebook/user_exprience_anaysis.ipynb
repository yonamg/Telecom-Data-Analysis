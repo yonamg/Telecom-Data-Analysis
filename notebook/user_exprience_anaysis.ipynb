{
 "cells": [
  {
   "cell_type": "code",
   "execution_count": 2,
   "id": "be1a6afe",
   "metadata": {},
   "outputs": [],
   "source": [
    "# import requiered python libabries\n",
    "import numpy as np\n",
    "import pandas as pd\n",
    "import seaborn as sns\n",
    "import pickle\n",
    "import matplotlib.pyplot as plt\n",
    "from sklearn.cluster import KMeans\n",
    "from sklearn.decomposition import PCA\n",
    "from sklearn.preprocessing import StandardScaler, normalize\n"
   ]
  },
  {
   "cell_type": "code",
   "execution_count": 15,
   "id": "c66cb1b5",
   "metadata": {},
   "outputs": [],
   "source": [
    "import os\n",
    "import sys\n",
    "import warnings\n",
    "warnings.filterwarnings('ignore')\n",
    "sys.path.append(os.path.abspath(os.path.join('../scripts')))\n",
    "from dataframe_cleaner import DataFrameCleaner\n",
    "from dataframe_outlier import *\n",
    "from plot_data import *\n",
    "from dataframe_info import DataFrameInfo\n"
   ]
  },
  {
   "cell_type": "code",
   "execution_count": 16,
   "id": "240e16ba",
   "metadata": {},
   "outputs": [],
   "source": [
    "from user_overview import UserOverviewScript"
   ]
  },
  {
   "cell_type": "code",
   "execution_count": 7,
   "id": "84355dde",
   "metadata": {},
   "outputs": [],
   "source": [
    "pd.set_option('display.max_columns', None)\n",
    "pd.set_option('display.max_colwidth', None)\n",
    "pd.set_option(\"expand_frame_repr\", False)\n",
    "pd.set_option('display.float_format', '{:.2f}'.format)"
   ]
  },
  {
   "cell_type": "code",
   "execution_count": 9,
   "id": "7a07ce6e",
   "metadata": {},
   "outputs": [],
   "source": [
    "# load and read cleaned telecom-dataset\n",
    "df_cleaned = pd.read_csv('../data/cleaned_Telecom_data.csv')"
   ]
  },
  {
   "cell_type": "code",
   "execution_count": 10,
   "id": "0618627a",
   "metadata": {},
   "outputs": [
    {
     "name": "stdout",
     "output_type": "stream",
     "text": [
      "<class 'pandas.core.frame.DataFrame'>\n",
      "RangeIndex: 148506 entries, 0 to 148505\n",
      "Data columns (total 54 columns):\n",
      " #   Column                          Non-Null Count   Dtype  \n",
      "---  ------                          --------------   -----  \n",
      " 0   Unnamed: 0                      148506 non-null  int64  \n",
      " 1   Unnamed:_0                      148506 non-null  int64  \n",
      " 2   Bearer_Id                       148506 non-null  float64\n",
      " 3   Start                           148506 non-null  object \n",
      " 4   Start_ms                        148506 non-null  int64  \n",
      " 5   End                             148506 non-null  object \n",
      " 6   End_ms                          148506 non-null  int64  \n",
      " 7   Dur._(ms)                       148506 non-null  int64  \n",
      " 8   IMSI                            148506 non-null  float64\n",
      " 9   MSISDN_Number                   148506 non-null  float64\n",
      " 10  IMEI                            148506 non-null  float64\n",
      " 11  Last_Location_Name              148506 non-null  object \n",
      " 12  Avg_RTT_DL_(ms)                 148506 non-null  int64  \n",
      " 13  Avg_RTT_UL_(ms)                 148506 non-null  int64  \n",
      " 14  Avg_Bearer_TP_DL_(kbps)         148506 non-null  int64  \n",
      " 15  Avg_Bearer_TP_UL_(kbps)         148506 non-null  int64  \n",
      " 16  DL_TP_<_50_Kbps_(%)             148506 non-null  int64  \n",
      " 17  50_Kbps_<_DL_TP_<_250_Kbps_(%)  148506 non-null  int64  \n",
      " 18  250_Kbps_<_DL_TP_<_1_Mbps_(%)   148506 non-null  int64  \n",
      " 19  DL_TP_>_1_Mbps_(%)              148506 non-null  int64  \n",
      " 20  UL_TP_<_10_Kbps_(%)             148506 non-null  int64  \n",
      " 21  10_Kbps_<_UL_TP_<_50_Kbps_(%)   148506 non-null  int64  \n",
      " 22  50_Kbps_<_UL_TP_<_300_Kbps_(%)  148506 non-null  int64  \n",
      " 23  UL_TP_>_300_Kbps_(%)            148506 non-null  int64  \n",
      " 24  Activity_Duration_DL_(ms)       148506 non-null  int64  \n",
      " 25  Activity_Duration_UL_(ms)       148506 non-null  int64  \n",
      " 26  Handset_Manufacturer            148506 non-null  object \n",
      " 27  Handset_Type                    148506 non-null  object \n",
      " 28  Nb_of_sec_with_Vol_DL_<_6250B   148506 non-null  int64  \n",
      " 29  Nb_of_sec_with_Vol_UL_<_1250B   148506 non-null  int64  \n",
      " 30  Social_Media_DL_(Bytes)         148506 non-null  int64  \n",
      " 31  Social_Media_UL_(Bytes)         148506 non-null  int64  \n",
      " 32  Google_DL_(Bytes)               148506 non-null  int64  \n",
      " 33  Google_UL_(Bytes)               148506 non-null  int64  \n",
      " 34  Email_DL_(Bytes)                148506 non-null  int64  \n",
      " 35  Email_UL_(Bytes)                148506 non-null  int64  \n",
      " 36  Youtube_DL_(Bytes)              148506 non-null  int64  \n",
      " 37  Youtube_UL_(Bytes)              148506 non-null  int64  \n",
      " 38  Netflix_DL_(Bytes)              148506 non-null  int64  \n",
      " 39  Netflix_UL_(Bytes)              148506 non-null  int64  \n",
      " 40  Gaming_DL_(Bytes)               148506 non-null  int64  \n",
      " 41  Gaming_UL_(Bytes)               148506 non-null  int64  \n",
      " 42  Other_DL_(Bytes)                148506 non-null  int64  \n",
      " 43  Other_UL_(Bytes)                148506 non-null  int64  \n",
      " 44  Total_UL_(Bytes)                148506 non-null  int64  \n",
      " 45  Total_DL_(Bytes)                148506 non-null  int64  \n",
      " 46  Social_Media_(Bytes)            148506 non-null  int64  \n",
      " 47  Google_(Bytes)                  148506 non-null  int64  \n",
      " 48  Youtube_(Bytes)                 148506 non-null  int64  \n",
      " 49  Netflix_(Bytes)                 148506 non-null  int64  \n",
      " 50  Gaming_(Bytes)                  148506 non-null  int64  \n",
      " 51  Email_(Bytes)                   148506 non-null  int64  \n",
      " 52  Other_(Bytes)                   148506 non-null  int64  \n",
      " 53  Total_Data_(Bytes)              148506 non-null  int64  \n",
      "dtypes: float64(4), int64(45), object(5)\n",
      "memory usage: 61.2+ MB\n"
     ]
    }
   ],
   "source": [
    "#info about the dataset\n",
    "df_cleaned.info()"
   ]
  },
  {
   "cell_type": "markdown",
   "id": "e20b7560",
   "metadata": {},
   "source": [
    "## Task 3: User Experience Analytics \n",
    "Aggregate, per customer, the following information(treat missing & outliers by replacing by the mean or the mode of the corresponding variable"
   ]
  },
  {
   "cell_type": "code",
   "execution_count": 17,
   "id": "af9b4e7d",
   "metadata": {},
   "outputs": [],
   "source": [
    "df_user_expr = df_cleaned[[\n",
    "    \"MSISDN_Number\",\n",
    "    \"Avg_RTT_DL_(ms)\",\n",
    "    \"Avg_RTT_UL_(ms)\",\n",
    "    \"Avg_Bearer_TP_DL_(kbps)\",\n",
    "    \"Avg_Bearer_TP_UL_(kbps)\",\n",
    "    \"Handset_Type\"]].copy()"
   ]
  },
  {
   "cell_type": "code",
   "execution_count": 18,
   "id": "1fb179a4",
   "metadata": {},
   "outputs": [],
   "source": [
    "#reusing classes fromscript folder\n",
    "user_overview = UserOverviewScript(df_user_expr)"
   ]
  },
  {
   "cell_type": "code",
   "execution_count": 21,
   "id": "6420abd2",
   "metadata": {},
   "outputs": [],
   "source": [
    "#converting average RTT millisecond values to second\n",
    "df_user_expr['Avg_RTT_DL_(ms)'] = user_overview.convert_ms_to_sec(\\\n",
    "    df_user_expr['Avg_RTT_DL_(ms)'])\n",
    "\n",
    "df_user_expr['Avg_RTT_UL_(ms)'] = user_overview.convert_ms_to_sec(\\\n",
    "    df_user_expr['Avg_RTT_UL_(ms)'])"
   ]
  },
  {
   "cell_type": "code",
   "execution_count": 23,
   "id": "cf314f88",
   "metadata": {},
   "outputs": [],
   "source": [
    "# get the TCP Retransmission volume from the original data, deleted during preprocessing\n",
    "df_original = pd.read_csv('../data/Week1_challenge_data_source.csv')\n",
    "df_user_expr['TCP_DL_Retrans_Vol_(Bytes)'] = df_original['TCP DL Retrans. Vol (Bytes)']\n",
    "df_user_expr['TCP_UL_Retrans_Vol_(Bytes)'] = df_original['TCP UL Retrans. Vol (Bytes)']"
   ]
  },
  {
   "cell_type": "code",
   "execution_count": 24,
   "id": "ef73598a",
   "metadata": {},
   "outputs": [],
   "source": [
    "df_user_expr['TCP_DL_Retrans_Vol_(Bytes)'] = user_overview.convert_bytes_to_kbytes(\\\n",
    "    df_user_expr['TCP_DL_Retrans_Vol_(Bytes)'])\n",
    "\n",
    "df_user_expr['TCP_UL_Retrans_Vol_(Bytes)'] = user_overview.convert_bytes_to_kbytes(\\\n",
    "    df_user_expr['TCP_UL_Retrans_Vol_(Bytes)'])\n",
    "\n",
    "df_user_expr.rename(columns = {\\\n",
    "        'Avg_RTT_DL_(ms)':'Avg_RTT_DL_(sec)',\\\n",
    "        'Avg_RTT_UL_(ms)':'Avg_RTT_UL_(sec)',\\\n",
    "        'TCP_DL_Retrans_Vol_(Bytes)':'TCP_DL_Retrans_Vol_(kbps)',\\\n",
    "        'TCP_UL_Retrans_Vol_(Bytes)':'TCP_UL_Retrans_Vol_(kbps)'\n",
    "    }, inplace=True)"
   ]
  },
  {
   "cell_type": "code",
   "execution_count": 25,
   "id": "35c18b18",
   "metadata": {},
   "outputs": [
    {
     "name": "stdout",
     "output_type": "stream",
     "text": [
      "<class 'pandas.core.frame.DataFrame'>\n",
      "RangeIndex: 148506 entries, 0 to 148505\n",
      "Data columns (total 8 columns):\n",
      " #   Column                     Non-Null Count   Dtype  \n",
      "---  ------                     --------------   -----  \n",
      " 0   MSISDN_Number              148506 non-null  float64\n",
      " 1   Avg_RTT_DL_(sec)           148506 non-null  float64\n",
      " 2   Avg_RTT_UL_(sec)           148506 non-null  float64\n",
      " 3   Avg_Bearer_TP_DL_(kbps)    148506 non-null  int64  \n",
      " 4   Avg_Bearer_TP_UL_(kbps)    148506 non-null  int64  \n",
      " 5   Handset_Type               148506 non-null  object \n",
      " 6   TCP_DL_Retrans_Vol_(kbps)  61271 non-null   float64\n",
      " 7   TCP_UL_Retrans_Vol_(kbps)  52879 non-null   float64\n",
      "dtypes: float64(5), int64(2), object(1)\n",
      "memory usage: 9.1+ MB\n"
     ]
    }
   ],
   "source": [
    "# checking null values\n",
    "df_user_expr.info()"
   ]
  },
  {
   "cell_type": "markdown",
   "id": "659d1e1c",
   "metadata": {},
   "source": [
    "Treating the null values"
   ]
  },
  {
   "cell_type": "code",
   "execution_count": 26,
   "id": "8cafc3b6",
   "metadata": {},
   "outputs": [
    {
     "ename": "NameError",
     "evalue": "name 'DataFrameCleaning' is not defined",
     "output_type": "error",
     "traceback": [
      "\u001b[1;31m---------------------------------------------------------------------------\u001b[0m",
      "\u001b[1;31mNameError\u001b[0m                                 Traceback (most recent call last)",
      "Input \u001b[1;32mIn [26]\u001b[0m, in \u001b[0;36m<cell line: 2>\u001b[1;34m()\u001b[0m\n\u001b[0;32m      1\u001b[0m \u001b[38;5;66;03m#handle null values with mean and median\u001b[39;00m\n\u001b[1;32m----> 2\u001b[0m df_user_expr \u001b[38;5;241m=\u001b[39m \u001b[43mDataFrameCleaning\u001b[49m(df_user_expr)\n\u001b[0;32m      3\u001b[0m columns \u001b[38;5;241m=\u001b[39m [\u001b[38;5;124m'\u001b[39m\u001b[38;5;124mTCP_DL_Retrans_Vol_(kbps)\u001b[39m\u001b[38;5;124m'\u001b[39m, \u001b[38;5;124m'\u001b[39m\u001b[38;5;124mTCP_UL_Retrans_Vol_(kbps)\u001b[39m\u001b[38;5;124m'\u001b[39m]\n\u001b[0;32m      4\u001b[0m df_user_expr\u001b[38;5;241m.\u001b[39mfill_numerical_column(columns)\n",
      "\u001b[1;31mNameError\u001b[0m: name 'DataFrameCleaning' is not defined"
     ]
    }
   ],
   "source": [
    "#handle null values with mean and median\n",
    "df_user_expr = DataFrameCleaning(df_user_expr)\n",
    "columns = ['TCP_DL_Retrans_Vol_(kbps)', 'TCP_UL_Retrans_Vol_(kbps)']\n",
    "df_user_expr.fill_numerical_column(columns)"
   ]
  },
  {
   "cell_type": "code",
   "execution_count": null,
   "id": "6f48cbf2",
   "metadata": {},
   "outputs": [],
   "source": []
  }
 ],
 "metadata": {
  "kernelspec": {
   "display_name": "Python 3 (ipykernel)",
   "language": "python",
   "name": "python3"
  },
  "language_info": {
   "codemirror_mode": {
    "name": "ipython",
    "version": 3
   },
   "file_extension": ".py",
   "mimetype": "text/x-python",
   "name": "python",
   "nbconvert_exporter": "python",
   "pygments_lexer": "ipython3",
   "version": "3.9.12"
  }
 },
 "nbformat": 4,
 "nbformat_minor": 5
}
