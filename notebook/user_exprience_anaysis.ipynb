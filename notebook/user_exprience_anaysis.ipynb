{
 "cells": [
  {
   "cell_type": "code",
   "execution_count": 2,
   "id": "7013156a",
   "metadata": {},
   "outputs": [],
   "source": [
    "# import requiered python libabries\n",
    "import numpy as np\n",
    "import pandas as pd\n",
    "import seaborn as sns\n",
    "import pickle\n",
    "import matplotlib.pyplot as plt\n",
    "from sklearn.cluster import KMeans\n",
    "from sklearn.decomposition import PCA\n",
    "from sklearn.preprocessing import StandardScaler, normalize\n"
   ]
  },
  {
   "cell_type": "code",
   "execution_count": 15,
   "id": "26488c94",
   "metadata": {},
   "outputs": [],
   "source": [
    "import os\n",
    "import sys\n",
    "import warnings\n",
    "warnings.filterwarnings('ignore')\n",
    "sys.path.append(os.path.abspath(os.path.join('../scripts')))\n",
    "from dataframe_cleaner import DataFrameCleaner\n",
    "from dataframe_outlier import *\n",
    "from plot_data import *\n",
    "from dataframe_info import DataFrameInfo\n"
   ]
  },
  {
   "cell_type": "code",
   "execution_count": 16,
   "id": "71668970",
   "metadata": {},
   "outputs": [],
   "source": [
    "from user_overview import UserOverviewScript"
   ]
  },
  {
   "cell_type": "code",
   "execution_count": 7,
   "id": "909f2d66",
   "metadata": {},
   "outputs": [],
   "source": [
    "pd.set_option('display.max_columns', None)\n",
    "pd.set_option('display.max_colwidth', None)\n",
    "pd.set_option(\"expand_frame_repr\", False)\n",
    "pd.set_option('display.float_format', '{:.2f}'.format)"
   ]
  },
  {
   "cell_type": "code",
   "execution_count": 9,
   "id": "a6d58c78",
   "metadata": {},
   "outputs": [],
   "source": [
    "# load and read cleaned telecom-dataset\n",
    "df_cleaned = pd.read_csv('../data/cleaned_Telecom_data.csv')"
   ]
  },
  {
   "cell_type": "code",
   "execution_count": 10,
   "id": "8af13508",
   "metadata": {},
   "outputs": [
    {
     "name": "stdout",
     "output_type": "stream",
     "text": [
      "<class 'pandas.core.frame.DataFrame'>\n",
      "RangeIndex: 148506 entries, 0 to 148505\n",
      "Data columns (total 54 columns):\n",
      " #   Column                          Non-Null Count   Dtype  \n",
      "---  ------                          --------------   -----  \n",
      " 0   Unnamed: 0                      148506 non-null  int64  \n",
      " 1   Unnamed:_0                      148506 non-null  int64  \n",
      " 2   Bearer_Id                       148506 non-null  float64\n",
      " 3   Start                           148506 non-null  object \n",
      " 4   Start_ms                        148506 non-null  int64  \n",
      " 5   End                             148506 non-null  object \n",
      " 6   End_ms                          148506 non-null  int64  \n",
      " 7   Dur._(ms)                       148506 non-null  int64  \n",
      " 8   IMSI                            148506 non-null  float64\n",
      " 9   MSISDN_Number                   148506 non-null  float64\n",
      " 10  IMEI                            148506 non-null  float64\n",
      " 11  Last_Location_Name              148506 non-null  object \n",
      " 12  Avg_RTT_DL_(ms)                 148506 non-null  int64  \n",
      " 13  Avg_RTT_UL_(ms)                 148506 non-null  int64  \n",
      " 14  Avg_Bearer_TP_DL_(kbps)         148506 non-null  int64  \n",
      " 15  Avg_Bearer_TP_UL_(kbps)         148506 non-null  int64  \n",
      " 16  DL_TP_<_50_Kbps_(%)             148506 non-null  int64  \n",
      " 17  50_Kbps_<_DL_TP_<_250_Kbps_(%)  148506 non-null  int64  \n",
      " 18  250_Kbps_<_DL_TP_<_1_Mbps_(%)   148506 non-null  int64  \n",
      " 19  DL_TP_>_1_Mbps_(%)              148506 non-null  int64  \n",
      " 20  UL_TP_<_10_Kbps_(%)             148506 non-null  int64  \n",
      " 21  10_Kbps_<_UL_TP_<_50_Kbps_(%)   148506 non-null  int64  \n",
      " 22  50_Kbps_<_UL_TP_<_300_Kbps_(%)  148506 non-null  int64  \n",
      " 23  UL_TP_>_300_Kbps_(%)            148506 non-null  int64  \n",
      " 24  Activity_Duration_DL_(ms)       148506 non-null  int64  \n",
      " 25  Activity_Duration_UL_(ms)       148506 non-null  int64  \n",
      " 26  Handset_Manufacturer            148506 non-null  object \n",
      " 27  Handset_Type                    148506 non-null  object \n",
      " 28  Nb_of_sec_with_Vol_DL_<_6250B   148506 non-null  int64  \n",
      " 29  Nb_of_sec_with_Vol_UL_<_1250B   148506 non-null  int64  \n",
      " 30  Social_Media_DL_(Bytes)         148506 non-null  int64  \n",
      " 31  Social_Media_UL_(Bytes)         148506 non-null  int64  \n",
      " 32  Google_DL_(Bytes)               148506 non-null  int64  \n",
      " 33  Google_UL_(Bytes)               148506 non-null  int64  \n",
      " 34  Email_DL_(Bytes)                148506 non-null  int64  \n",
      " 35  Email_UL_(Bytes)                148506 non-null  int64  \n",
      " 36  Youtube_DL_(Bytes)              148506 non-null  int64  \n",
      " 37  Youtube_UL_(Bytes)              148506 non-null  int64  \n",
      " 38  Netflix_DL_(Bytes)              148506 non-null  int64  \n",
      " 39  Netflix_UL_(Bytes)              148506 non-null  int64  \n",
      " 40  Gaming_DL_(Bytes)               148506 non-null  int64  \n",
      " 41  Gaming_UL_(Bytes)               148506 non-null  int64  \n",
      " 42  Other_DL_(Bytes)                148506 non-null  int64  \n",
      " 43  Other_UL_(Bytes)                148506 non-null  int64  \n",
      " 44  Total_UL_(Bytes)                148506 non-null  int64  \n",
      " 45  Total_DL_(Bytes)                148506 non-null  int64  \n",
      " 46  Social_Media_(Bytes)            148506 non-null  int64  \n",
      " 47  Google_(Bytes)                  148506 non-null  int64  \n",
      " 48  Youtube_(Bytes)                 148506 non-null  int64  \n",
      " 49  Netflix_(Bytes)                 148506 non-null  int64  \n",
      " 50  Gaming_(Bytes)                  148506 non-null  int64  \n",
      " 51  Email_(Bytes)                   148506 non-null  int64  \n",
      " 52  Other_(Bytes)                   148506 non-null  int64  \n",
      " 53  Total_Data_(Bytes)              148506 non-null  int64  \n",
      "dtypes: float64(4), int64(45), object(5)\n",
      "memory usage: 61.2+ MB\n"
     ]
    }
   ],
   "source": [
    "#info about the dataset\n",
    "df_cleaned.info()"
   ]
  },
  {
   "cell_type": "markdown",
   "id": "8a8afaba",
   "metadata": {},
   "source": [
    "## Task 3: User Experience Analytics \n",
    "Aggregate, per customer, the following information(treat missing & outliers by replacing by the mean or the mode of the corresponding variable"
   ]
  },
  {
   "cell_type": "code",
   "execution_count": 17,
   "id": "09754799",
   "metadata": {},
   "outputs": [],
   "source": [
    "df_user_expr = df_cleaned[[\n",
    "    \"MSISDN_Number\",\n",
    "    \"Avg_RTT_DL_(ms)\",\n",
    "    \"Avg_RTT_UL_(ms)\",\n",
    "    \"Avg_Bearer_TP_DL_(kbps)\",\n",
    "    \"Avg_Bearer_TP_UL_(kbps)\",\n",
    "    \"Handset_Type\"]].copy()"
   ]
  },
  {
   "cell_type": "code",
   "execution_count": 18,
   "id": "8758489b",
   "metadata": {},
   "outputs": [],
   "source": [
    "#reusing classes fromscript folder\n",
    "user_overview = UserOverviewScript(df_user_expr)"
   ]
  },
  {
   "cell_type": "code",
   "execution_count": 21,
   "id": "2d7e82c2",
   "metadata": {},
   "outputs": [],
   "source": [
    "#converting average RTT millisecond values to second\n",
    "df_user_expr['Avg_RTT_DL_(ms)'] = user_overview.convert_ms_to_sec(\\\n",
    "    df_user_expr['Avg_RTT_DL_(ms)'])\n",
    "\n",
    "df_user_expr['Avg_RTT_UL_(ms)'] = user_overview.convert_ms_to_sec(\\\n",
    "    df_user_expr['Avg_RTT_UL_(ms)'])"
   ]
  },
  {
   "cell_type": "code",
   "execution_count": 23,
   "id": "fbca4ff9",
   "metadata": {},
   "outputs": [],
   "source": [
    "# get the TCP Retransmission volume from the original data, deleted during preprocessing\n",
    "df_original = pd.read_csv('../data/Week1_challenge_data_source.csv')\n",
    "df_user_expr['TCP_DL_Retrans_Vol_(Bytes)'] = df_original['TCP DL Retrans. Vol (Bytes)']\n",
    "df_user_expr['TCP_UL_Retrans_Vol_(Bytes)'] = df_original['TCP UL Retrans. Vol (Bytes)']"
   ]
  },
  {
   "cell_type": "code",
   "execution_count": 24,
   "id": "7e8a3e72",
   "metadata": {},
   "outputs": [],
   "source": [
    "df_user_expr['TCP_DL_Retrans_Vol_(Bytes)'] = user_overview.convert_bytes_to_kbytes(\\\n",
    "    df_user_expr['TCP_DL_Retrans_Vol_(Bytes)'])\n",
    "\n",
    "df_user_expr['TCP_UL_Retrans_Vol_(Bytes)'] = user_overview.convert_bytes_to_kbytes(\\\n",
    "    df_user_expr['TCP_UL_Retrans_Vol_(Bytes)'])\n",
    "\n",
    "df_user_expr.rename(columns = {\\\n",
    "        'Avg_RTT_DL_(ms)':'Avg_RTT_DL_(sec)',\\\n",
    "        'Avg_RTT_UL_(ms)':'Avg_RTT_UL_(sec)',\\\n",
    "        'TCP_DL_Retrans_Vol_(Bytes)':'TCP_DL_Retrans_Vol_(kbps)',\\\n",
    "        'TCP_UL_Retrans_Vol_(Bytes)':'TCP_UL_Retrans_Vol_(kbps)'\n",
    "    }, inplace=True)"
   ]
  },
  {
   "cell_type": "code",
   "execution_count": 25,
   "id": "9403e136",
   "metadata": {},
   "outputs": [
    {
     "name": "stdout",
     "output_type": "stream",
     "text": [
      "<class 'pandas.core.frame.DataFrame'>\n",
      "RangeIndex: 148506 entries, 0 to 148505\n",
      "Data columns (total 8 columns):\n",
      " #   Column                     Non-Null Count   Dtype  \n",
      "---  ------                     --------------   -----  \n",
      " 0   MSISDN_Number              148506 non-null  float64\n",
      " 1   Avg_RTT_DL_(sec)           148506 non-null  float64\n",
      " 2   Avg_RTT_UL_(sec)           148506 non-null  float64\n",
      " 3   Avg_Bearer_TP_DL_(kbps)    148506 non-null  int64  \n",
      " 4   Avg_Bearer_TP_UL_(kbps)    148506 non-null  int64  \n",
      " 5   Handset_Type               148506 non-null  object \n",
      " 6   TCP_DL_Retrans_Vol_(kbps)  61271 non-null   float64\n",
      " 7   TCP_UL_Retrans_Vol_(kbps)  52879 non-null   float64\n",
      "dtypes: float64(5), int64(2), object(1)\n",
      "memory usage: 9.1+ MB\n"
     ]
    }
   ],
   "source": [
    "# checking null values\n",
    "df_user_expr.info()"
   ]
  },
  {
   "cell_type": "markdown",
   "id": "24ddc4ba",
   "metadata": {},
   "source": [
    "Treating the null values"
   ]
  },
  {
   "cell_type": "code",
   "execution_count": 27,
   "id": "6bcd7e9d",
   "metadata": {},
   "outputs": [],
   "source": [
    "#handle null values with mean and median\n",
    "df_user_expr = DataFrameCleaner(df_user_expr)\n",
    "columns = ['TCP_DL_Retrans_Vol_(kbps)', 'TCP_UL_Retrans_Vol_(kbps)']\n",
    "df_user_expr.fill_numerical_column(columns)"
   ]
  },
  {
   "cell_type": "code",
   "execution_count": 29,
   "id": "b180cd9e",
   "metadata": {},
   "outputs": [
    {
     "name": "stdout",
     "output_type": "stream",
     "text": [
      "MSISDN_Number                0\n",
      "Avg_RTT_DL_(sec)             0\n",
      "Avg_RTT_UL_(sec)             0\n",
      "Avg_Bearer_TP_DL_(kbps)      0\n",
      "Avg_Bearer_TP_UL_(kbps)      0\n",
      "Handset_Type                 0\n",
      "TCP_DL_Retrans_Vol_(kbps)    0\n",
      "TCP_UL_Retrans_Vol_(kbps)    0\n",
      "dtype: int64\n"
     ]
    }
   ],
   "source": [
    "#check if there any count values\n",
    "df_user_expr = DataFrameInfo(df_user_expr.df)\n",
    "df_user_expr.get_null_counts()"
   ]
  },
  {
   "cell_type": "code",
   "execution_count": 30,
   "id": "0f16933c",
   "metadata": {},
   "outputs": [],
   "source": [
    "df_user_expr = df_user_expr.df"
   ]
  },
  {
   "cell_type": "code",
   "execution_count": 31,
   "id": "35746ba8",
   "metadata": {},
   "outputs": [
    {
     "name": "stdout",
     "output_type": "stream",
     "text": [
      "<class 'pandas.core.frame.DataFrame'>\n",
      "RangeIndex: 148506 entries, 0 to 148505\n",
      "Data columns (total 11 columns):\n",
      " #   Column                     Non-Null Count   Dtype  \n",
      "---  ------                     --------------   -----  \n",
      " 0   MSISDN_Number              148506 non-null  float64\n",
      " 1   Avg_RTT_DL_(sec)           148506 non-null  float64\n",
      " 2   Avg_RTT_UL_(sec)           148506 non-null  float64\n",
      " 3   Avg_Bearer_TP_DL_(kbps)    148506 non-null  int64  \n",
      " 4   Avg_Bearer_TP_UL_(kbps)    148506 non-null  int64  \n",
      " 5   Handset_Type               148506 non-null  object \n",
      " 6   TCP_DL_Retrans_Vol_(kbps)  148506 non-null  float64\n",
      " 7   TCP_UL_Retrans_Vol_(kbps)  148506 non-null  float64\n",
      " 8   Total_Avg_RTT              148506 non-null  float64\n",
      " 9   Total_Avg_Bearer_TP        148506 non-null  int64  \n",
      " 10  Total_Avg_TCP              148506 non-null  float64\n",
      "dtypes: float64(7), int64(3), object(1)\n",
      "memory usage: 12.5+ MB\n"
     ]
    }
   ],
   "source": [
    "df_user_expr['Total_Avg_RTT'] = df_user_expr['Avg_RTT_DL_(sec)']+\\\n",
    "                                df_user_expr['Avg_RTT_UL_(sec)']\n",
    "df_user_expr['Total_Avg_Bearer_TP'] = df_user_expr['Avg_Bearer_TP_DL_(kbps)']+\\\n",
    "                                df_user_expr['Avg_Bearer_TP_UL_(kbps)']\n",
    "df_user_expr['Total_Avg_TCP'] = df_user_expr['TCP_DL_Retrans_Vol_(kbps)']+\\\n",
    "                                df_user_expr['TCP_UL_Retrans_Vol_(kbps)']\n",
    "df_user_expr.info()"
   ]
  },
  {
   "cell_type": "code",
   "execution_count": 35,
   "id": "e20c5a8e",
   "metadata": {},
   "outputs": [
    {
     "data": {
      "text/html": [
       "<div>\n",
       "<style scoped>\n",
       "    .dataframe tbody tr th:only-of-type {\n",
       "        vertical-align: middle;\n",
       "    }\n",
       "\n",
       "    .dataframe tbody tr th {\n",
       "        vertical-align: top;\n",
       "    }\n",
       "\n",
       "    .dataframe thead th {\n",
       "        text-align: right;\n",
       "    }\n",
       "</style>\n",
       "<table border=\"1\" class=\"dataframe\">\n",
       "  <thead>\n",
       "    <tr style=\"text-align: right;\">\n",
       "      <th></th>\n",
       "      <th>Total_Avg_RTT</th>\n",
       "      <th>Total_Avg_Bearer_TP</th>\n",
       "      <th>Total_Avg_TCP</th>\n",
       "      <th>Handset_Type</th>\n",
       "    </tr>\n",
       "    <tr>\n",
       "      <th>MSISDN_Number</th>\n",
       "      <th></th>\n",
       "      <th></th>\n",
       "      <th></th>\n",
       "      <th></th>\n",
       "    </tr>\n",
       "  </thead>\n",
       "  <tbody>\n",
       "    <tr>\n",
       "      <th>33601001722.00</th>\n",
       "      <td>0.00</td>\n",
       "      <td>76</td>\n",
       "      <td>46428.31</td>\n",
       "      <td>Huawei P20 Lite Huawei Nova 3E</td>\n",
       "    </tr>\n",
       "    <tr>\n",
       "      <th>33601001754.00</th>\n",
       "      <td>0.00</td>\n",
       "      <td>99</td>\n",
       "      <td>580.35</td>\n",
       "      <td>Apple iPhone 7 (A1778)</td>\n",
       "    </tr>\n",
       "    <tr>\n",
       "      <th>33601002511.00</th>\n",
       "      <td>0.01</td>\n",
       "      <td>97</td>\n",
       "      <td>580.35</td>\n",
       "      <td>undefined</td>\n",
       "    </tr>\n",
       "    <tr>\n",
       "      <th>33601007832.00</th>\n",
       "      <td>0.02</td>\n",
       "      <td>248</td>\n",
       "      <td>198.99</td>\n",
       "      <td>Apple iPhone 5S (A1457)</td>\n",
       "    </tr>\n",
       "    <tr>\n",
       "      <th>33601008617.00</th>\n",
       "      <td>0.01</td>\n",
       "      <td>56844</td>\n",
       "      <td>970.59</td>\n",
       "      <td>Apple iPhone Se (A1723)</td>\n",
       "    </tr>\n",
       "  </tbody>\n",
       "</table>\n",
       "</div>"
      ],
      "text/plain": [
       "                Total_Avg_RTT  Total_Avg_Bearer_TP  Total_Avg_TCP                    Handset_Type\n",
       "MSISDN_Number                                                                                    \n",
       "33601001722.00           0.00                   76       46428.31  Huawei P20 Lite Huawei Nova 3E\n",
       "33601001754.00           0.00                   99         580.35          Apple iPhone 7 (A1778)\n",
       "33601002511.00           0.01                   97         580.35                       undefined\n",
       "33601007832.00           0.02                  248         198.99         Apple iPhone 5S (A1457)\n",
       "33601008617.00           0.01                56844         970.59         Apple iPhone Se (A1723)"
      ]
     },
     "execution_count": 35,
     "metadata": {},
     "output_type": "execute_result"
    }
   ],
   "source": [
    "user_expr_agg = df_user_expr.groupby('MSISDN_Number').agg({\n",
    "   'Total_Avg_RTT': 'sum',\n",
    "   'Total_Avg_Bearer_TP': 'sum',\n",
    "   'Total_Avg_TCP': 'sum', 'Handset_Type': [lambda x: x.mode()[0]]})\n",
    "\n",
    "user_expr = pd.DataFrame(columns=[\n",
    "   \"Total_Avg_RTT\",\n",
    "    \"Total_Avg_Bearer_TP\",\n",
    "    \"Total_Avg_TCP\",\n",
    "    \"Handset_Type\" \n",
    "])\n",
    "\n",
    "user_expr[\"Total_Avg_RTT\"] = user_expr_agg[\"Total_Avg_RTT\"]['sum']\n",
    "user_expr[\"Total_Avg_Bearer_TP\"] = user_expr_agg[\"Total_Avg_Bearer_TP\"]['sum']\n",
    "user_expr[\"Total_Avg_TCP\"] = user_expr_agg[\"Total_Avg_TCP\"]['sum']\n",
    "user_expr[\"Handset_Type\"] = user_expr_agg[\"Handset_Type\"]['<lambda>']\n",
    "user_expr.head()\n"
   ]
  },
  {
   "cell_type": "code",
   "execution_count": 36,
   "id": "1876194e",
   "metadata": {},
   "outputs": [
    {
     "data": {
      "text/plain": [
       "<AxesSubplot:>"
      ]
     },
     "execution_count": 36,
     "metadata": {},
     "output_type": "execute_result"
    },
    {
     "data": {
      "image/png": "[encoded data removed]",
      "text/plain": [
       "<Figure size 432x288 with 1 Axes>"
      ]
     },
     "metadata": {
      "needs_background": "light"
     },
     "output_type": "display_data"
    }
   ],
   "source": [
    "# To treat outlier\n",
    "user_expr.boxplot()"
   ]
  },
  {
   "cell_type": "code",
   "execution_count": null,
   "id": "f7905a77",
   "metadata": {},
   "outputs": [],
   "source": [
    "#removing outlier\n"
   ]
  }
 ],
 "metadata": {
  "kernelspec": {
   "display_name": "Python 3 (ipykernel)",
   "language": "python",
   "name": "python3"
  },
  "language_info": {
   "codemirror_mode": {
    "name": "ipython",
    "version": 3
   },
   "file_extension": ".py",
   "mimetype": "text/x-python",
   "name": "python",
   "nbconvert_exporter": "python",
   "pygments_lexer": "ipython3",
   "version": "3.9.12"
  }
 },
 "nbformat": 4,
 "nbformat_minor": 5
}
