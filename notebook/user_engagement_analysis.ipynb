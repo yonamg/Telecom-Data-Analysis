{
 "cells": [
  {
   "cell_type": "markdown",
   "id": "672e4390",
   "metadata": {},
   "source": [
    "# Task2: User Engagement Analysis"
   ]
  },
  {
   "cell_type": "code",
   "execution_count": 27,
   "id": "42081103",
   "metadata": {},
   "outputs": [],
   "source": [
    "# import requiered python libraries\n",
    "\n",
    "import pickle\n",
    "import numpy as np\n",
    "import pandas as pd\n",
    "import seaborn as sns\n",
    "import plotly.io as pio\n",
    "import plotly.express as px\n",
    "import plotly.graph_objects as go  \n",
    "import matplotlib.pyplot as plt\n",
    "from IPython.display import Image\n",
    "from sklearn import preprocessing\n",
    "from sklearn.cluster import KMeans\n",
    "from scipy.spatial.distance import cdist\n",
    "from plotly.subplots import make_subplots\n",
    "from sklearn.preprocessing import StandardScaler, normalize"
   ]
  },
  {
   "cell_type": "code",
   "execution_count": 28,
   "id": "337e2d7e",
   "metadata": {},
   "outputs": [],
   "source": [
    "import os\n",
    "import sys\n",
    "import warnings\n",
    "warnings.filterwarnings('ignore')\n",
    "sys.path.append(os.path.abspath(os.path.join('../scripts')))\n",
    "from dataframe_outlier import *\n",
    "from plot_data import *"
   ]
  },
  {
   "cell_type": "code",
   "execution_count": 29,
   "id": "c7e481ce",
   "metadata": {},
   "outputs": [],
   "source": [
    "pd.set_option('display.max_columns', None)\n",
    "pd.set_option('display.max_colwidth', None)\n",
    "pd.set_option(\"expand_frame_repr\", False)\n",
    "pd.set_option('display.float_format', '{:.2f}'.format)"
   ]
  },
  {
   "cell_type": "code",
   "execution_count": 30,
   "id": "3e69c7ad",
   "metadata": {},
   "outputs": [
    {
     "name": "stdout",
     "output_type": "stream",
     "text": [
      "<class 'pandas.core.frame.DataFrame'>\n",
      "RangeIndex: 148506 entries, 0 to 148505\n",
      "Data columns (total 54 columns):\n",
      " #   Column                          Non-Null Count   Dtype  \n",
      "---  ------                          --------------   -----  \n",
      " 0   Unnamed: 0                      148506 non-null  int64  \n",
      " 1   Unnamed:_0                      148506 non-null  int64  \n",
      " 2   Bearer_Id                       148506 non-null  float64\n",
      " 3   Start                           148506 non-null  object \n",
      " 4   Start_ms                        148506 non-null  int64  \n",
      " 5   End                             148506 non-null  object \n",
      " 6   End_ms                          148506 non-null  int64  \n",
      " 7   Dur._(ms)                       148506 non-null  int64  \n",
      " 8   IMSI                            148506 non-null  float64\n",
      " 9   MSISDN_Number                   148506 non-null  float64\n",
      " 10  IMEI                            148506 non-null  float64\n",
      " 11  Last_Location_Name              148506 non-null  object \n",
      " 12  Avg_RTT_DL_(ms)                 148506 non-null  int64  \n",
      " 13  Avg_RTT_UL_(ms)                 148506 non-null  int64  \n",
      " 14  Avg_Bearer_TP_DL_(kbps)         148506 non-null  int64  \n",
      " 15  Avg_Bearer_TP_UL_(kbps)         148506 non-null  int64  \n",
      " 16  DL_TP_<_50_Kbps_(%)             148506 non-null  int64  \n",
      " 17  50_Kbps_<_DL_TP_<_250_Kbps_(%)  148506 non-null  int64  \n",
      " 18  250_Kbps_<_DL_TP_<_1_Mbps_(%)   148506 non-null  int64  \n",
      " 19  DL_TP_>_1_Mbps_(%)              148506 non-null  int64  \n",
      " 20  UL_TP_<_10_Kbps_(%)             148506 non-null  int64  \n",
      " 21  10_Kbps_<_UL_TP_<_50_Kbps_(%)   148506 non-null  int64  \n",
      " 22  50_Kbps_<_UL_TP_<_300_Kbps_(%)  148506 non-null  int64  \n",
      " 23  UL_TP_>_300_Kbps_(%)            148506 non-null  int64  \n",
      " 24  Activity_Duration_DL_(ms)       148506 non-null  int64  \n",
      " 25  Activity_Duration_UL_(ms)       148506 non-null  int64  \n",
      " 26  Handset_Manufacturer            148506 non-null  object \n",
      " 27  Handset_Type                    148506 non-null  object \n",
      " 28  Nb_of_sec_with_Vol_DL_<_6250B   148506 non-null  int64  \n",
      " 29  Nb_of_sec_with_Vol_UL_<_1250B   148506 non-null  int64  \n",
      " 30  Social_Media_DL_(Bytes)         148506 non-null  int64  \n",
      " 31  Social_Media_UL_(Bytes)         148506 non-null  int64  \n",
      " 32  Google_DL_(Bytes)               148506 non-null  int64  \n",
      " 33  Google_UL_(Bytes)               148506 non-null  int64  \n",
      " 34  Email_DL_(Bytes)                148506 non-null  int64  \n",
      " 35  Email_UL_(Bytes)                148506 non-null  int64  \n",
      " 36  Youtube_DL_(Bytes)              148506 non-null  int64  \n",
      " 37  Youtube_UL_(Bytes)              148506 non-null  int64  \n",
      " 38  Netflix_DL_(Bytes)              148506 non-null  int64  \n",
      " 39  Netflix_UL_(Bytes)              148506 non-null  int64  \n",
      " 40  Gaming_DL_(Bytes)               148506 non-null  int64  \n",
      " 41  Gaming_UL_(Bytes)               148506 non-null  int64  \n",
      " 42  Other_DL_(Bytes)                148506 non-null  int64  \n",
      " 43  Other_UL_(Bytes)                148506 non-null  int64  \n",
      " 44  Total_UL_(Bytes)                148506 non-null  int64  \n",
      " 45  Total_DL_(Bytes)                148506 non-null  int64  \n",
      " 46  Social_Media_(Bytes)            148506 non-null  int64  \n",
      " 47  Google_(Bytes)                  148506 non-null  int64  \n",
      " 48  Youtube_(Bytes)                 148506 non-null  int64  \n",
      " 49  Netflix_(Bytes)                 148506 non-null  int64  \n",
      " 50  Gaming_(Bytes)                  148506 non-null  int64  \n",
      " 51  Email_(Bytes)                   148506 non-null  int64  \n",
      " 52  Other_(Bytes)                   148506 non-null  int64  \n",
      " 53  Total_Data_(Bytes)              148506 non-null  int64  \n",
      "dtypes: float64(4), int64(45), object(5)\n",
      "memory usage: 61.2+ MB\n"
     ]
    }
   ],
   "source": [
    "# load and read the cleaned data\n",
    "df_cleaned = pd.read_csv('../data/cleaned_Telecom_data.csv')\n",
    "df_cleaned.info()"
   ]
  },
  {
   "cell_type": "code",
   "execution_count": 31,
   "id": "dababd74",
   "metadata": {},
   "outputs": [],
   "source": [
    "#Aggregate the above metrics per customer id (MSISDN) and report the top 10 customers per engagement metric\n",
    "df_user_engage =  df_cleaned[['MSISDN_Number', 'Bearer_Id', 'Dur._(ms)', 'Total_Data_(Bytes)']].copy().rename(columns={\n",
    "    'Bearer_Id': 'Session_Frequency', 'MSISDN_Number':'Customer_Id', 'Dur._(ms)': 'Duration', 'Total_Data_(Bytes)': 'Total_Data_Volume'})"
   ]
  },
  {
   "cell_type": "code",
   "execution_count": 32,
   "id": "3c28b0f0",
   "metadata": {},
   "outputs": [
    {
     "data": {
      "text/html": [
       "<div>\n",
       "<style scoped>\n",
       "    .dataframe tbody tr th:only-of-type {\n",
       "        vertical-align: middle;\n",
       "    }\n",
       "\n",
       "    .dataframe tbody tr th {\n",
       "        vertical-align: top;\n",
       "    }\n",
       "\n",
       "    .dataframe thead th {\n",
       "        text-align: right;\n",
       "    }\n",
       "</style>\n",
       "<table border=\"1\" class=\"dataframe\">\n",
       "  <thead>\n",
       "    <tr style=\"text-align: right;\">\n",
       "      <th></th>\n",
       "      <th>Session_Frequency</th>\n",
       "      <th>Duration</th>\n",
       "      <th>Total_Data_Volume</th>\n",
       "    </tr>\n",
       "    <tr>\n",
       "      <th>Customer_Id</th>\n",
       "      <th></th>\n",
       "      <th></th>\n",
       "      <th></th>\n",
       "    </tr>\n",
       "  </thead>\n",
       "  <tbody>\n",
       "    <tr>\n",
       "      <th>33601001722.00</th>\n",
       "      <td>1</td>\n",
       "      <td>116720</td>\n",
       "      <td>878690574</td>\n",
       "    </tr>\n",
       "    <tr>\n",
       "      <th>33601001754.00</th>\n",
       "      <td>1</td>\n",
       "      <td>181230</td>\n",
       "      <td>156859643</td>\n",
       "    </tr>\n",
       "    <tr>\n",
       "      <th>33601002511.00</th>\n",
       "      <td>1</td>\n",
       "      <td>134969</td>\n",
       "      <td>595966483</td>\n",
       "    </tr>\n",
       "    <tr>\n",
       "      <th>33601007832.00</th>\n",
       "      <td>1</td>\n",
       "      <td>49878</td>\n",
       "      <td>422320698</td>\n",
       "    </tr>\n",
       "    <tr>\n",
       "      <th>33601008617.00</th>\n",
       "      <td>2</td>\n",
       "      <td>37104</td>\n",
       "      <td>1457410944</td>\n",
       "    </tr>\n",
       "    <tr>\n",
       "      <th>33601010682.00</th>\n",
       "      <td>2</td>\n",
       "      <td>253983</td>\n",
       "      <td>615217221</td>\n",
       "    </tr>\n",
       "    <tr>\n",
       "      <th>33601011634.00</th>\n",
       "      <td>2</td>\n",
       "      <td>128360</td>\n",
       "      <td>654723066</td>\n",
       "    </tr>\n",
       "    <tr>\n",
       "      <th>33601011959.00</th>\n",
       "      <td>1</td>\n",
       "      <td>86399</td>\n",
       "      <td>332660357</td>\n",
       "    </tr>\n",
       "    <tr>\n",
       "      <th>33601014694.00</th>\n",
       "      <td>2</td>\n",
       "      <td>242249</td>\n",
       "      <td>990132189</td>\n",
       "    </tr>\n",
       "    <tr>\n",
       "      <th>33601020306.00</th>\n",
       "      <td>1</td>\n",
       "      <td>124854</td>\n",
       "      <td>732463761</td>\n",
       "    </tr>\n",
       "  </tbody>\n",
       "</table>\n",
       "</div>"
      ],
      "text/plain": [
       "                Session_Frequency  Duration  Total_Data_Volume\n",
       "Customer_Id                                                   \n",
       "33601001722.00                  1    116720          878690574\n",
       "33601001754.00                  1    181230          156859643\n",
       "33601002511.00                  1    134969          595966483\n",
       "33601007832.00                  1     49878          422320698\n",
       "33601008617.00                  2     37104         1457410944\n",
       "33601010682.00                  2    253983          615217221\n",
       "33601011634.00                  2    128360          654723066\n",
       "33601011959.00                  1     86399          332660357\n",
       "33601014694.00                  2    242249          990132189\n",
       "33601020306.00                  1    124854          732463761"
      ]
     },
     "execution_count": 32,
     "metadata": {},
     "output_type": "execute_result"
    }
   ],
   "source": [
    "user_engage = df_user_engage.groupby('Customer_Id').agg({'Session_Frequency': 'count', 'Duration': 'sum', 'Total_Data_Volume': 'sum'})\n",
    "user_engage.head(10)"
   ]
  },
  {
   "cell_type": "code",
   "execution_count": 33,
   "id": "08f7527c",
   "metadata": {},
   "outputs": [
    {
     "data": {
      "image/png": "[encoded data removed]",
      "text/plain": [
       "<IPython.core.display.Image object>"
      ]
     },
     "execution_count": 33,
     "metadata": {},
     "output_type": "execute_result"
    }
   ],
   "source": [
    "sessions = user_engage.nlargest(10, \"Session_Frequency\")['Session_Frequency']\n",
    "duration = user_engage.nlargest(10, \"Duration\")['Duration']\n",
    "total_data_volume = user_engage.nlargest(10, \"Total_Data_Volume\")['Total_Data_Volume']\n",
    "\n",
    "mult_hist([sessions, duration, total_data_volume], 1,\n",
    "          3, \"User Metrix\", ['Session Frequency', 'Duration', 'Total Data Volume'])\n"
   ]
  },
  {
   "cell_type": "markdown",
   "id": "31942e38",
   "metadata": {},
   "source": [
    "normalize the engagement metric and a k-means(k=3) cluturing for classification"
   ]
  },
  {
   "cell_type": "code",
   "execution_count": 34,
   "id": "d85b21f7",
   "metadata": {},
   "outputs": [
    {
     "data": {
      "text/plain": [
       "<AxesSubplot:>"
      ]
     },
     "execution_count": 34,
     "metadata": {},
     "output_type": "execute_result"
    },
    {
     "data": {
      "image/png": "[encoded data removed]",
      "text/plain": [
       "<Figure size 432x288 with 1 Axes>"
      ]
     },
     "metadata": {
      "needs_background": "light"
     },
     "output_type": "display_data"
    }
   ],
   "source": [
    "#check the outlier\n",
    "user_engage.boxplot()"
   ]
  },
  {
   "cell_type": "code",
   "execution_count": 35,
   "id": "2e73af3b",
   "metadata": {},
   "outputs": [
    {
     "data": {
      "text/plain": [
       "<AxesSubplot:>"
      ]
     },
     "execution_count": 35,
     "metadata": {},
     "output_type": "execute_result"
    },
    {
     "data": {
      "image/png": "[encoded data removed]",
      "text/plain": [
       "<Figure size 432x288 with 1 Axes>"
      ]
     },
     "metadata": {
      "needs_background": "light"
     },
     "output_type": "display_data"
    }
   ],
   "source": [
    "# removing outliers\n",
    "replace_outliers_with_iqr(user_engage, ['Session_Frequency', 'Duration', 'Total_Data_Volume'])\n",
    "user_engage.boxplot()"
   ]
  },
  {
   "cell_type": "code",
   "execution_count": 36,
   "id": "4c869b93",
   "metadata": {},
   "outputs": [
    {
     "data": {
      "text/html": [
       "<div>\n",
       "<style scoped>\n",
       "    .dataframe tbody tr th:only-of-type {\n",
       "        vertical-align: middle;\n",
       "    }\n",
       "\n",
       "    .dataframe tbody tr th {\n",
       "        vertical-align: top;\n",
       "    }\n",
       "\n",
       "    .dataframe thead th {\n",
       "        text-align: right;\n",
       "    }\n",
       "</style>\n",
       "<table border=\"1\" class=\"dataframe\">\n",
       "  <thead>\n",
       "    <tr style=\"text-align: right;\">\n",
       "      <th></th>\n",
       "      <th>0</th>\n",
       "      <th>1</th>\n",
       "      <th>2</th>\n",
       "    </tr>\n",
       "  </thead>\n",
       "  <tbody>\n",
       "    <tr>\n",
       "      <th>0</th>\n",
       "      <td>-0.55</td>\n",
       "      <td>-0.07</td>\n",
       "      <td>0.54</td>\n",
       "    </tr>\n",
       "    <tr>\n",
       "      <th>1</th>\n",
       "      <td>-0.55</td>\n",
       "      <td>0.74</td>\n",
       "      <td>-1.28</td>\n",
       "    </tr>\n",
       "    <tr>\n",
       "      <th>2</th>\n",
       "      <td>-0.55</td>\n",
       "      <td>0.16</td>\n",
       "      <td>-0.17</td>\n",
       "    </tr>\n",
       "    <tr>\n",
       "      <th>3</th>\n",
       "      <td>-0.55</td>\n",
       "      <td>-0.92</td>\n",
       "      <td>-0.61</td>\n",
       "    </tr>\n",
       "    <tr>\n",
       "      <th>4</th>\n",
       "      <td>0.98</td>\n",
       "      <td>-1.08</td>\n",
       "      <td>2.00</td>\n",
       "    </tr>\n",
       "    <tr>\n",
       "      <th>5</th>\n",
       "      <td>0.98</td>\n",
       "      <td>1.66</td>\n",
       "      <td>-0.12</td>\n",
       "    </tr>\n",
       "    <tr>\n",
       "      <th>6</th>\n",
       "      <td>0.98</td>\n",
       "      <td>0.07</td>\n",
       "      <td>-0.02</td>\n",
       "    </tr>\n",
       "    <tr>\n",
       "      <th>7</th>\n",
       "      <td>-0.55</td>\n",
       "      <td>-0.46</td>\n",
       "      <td>-0.84</td>\n",
       "    </tr>\n",
       "    <tr>\n",
       "      <th>8</th>\n",
       "      <td>0.98</td>\n",
       "      <td>1.51</td>\n",
       "      <td>0.82</td>\n",
       "    </tr>\n",
       "    <tr>\n",
       "      <th>9</th>\n",
       "      <td>-0.55</td>\n",
       "      <td>0.03</td>\n",
       "      <td>0.17</td>\n",
       "    </tr>\n",
       "  </tbody>\n",
       "</table>\n",
       "</div>"
      ],
      "text/plain": [
       "      0     1     2\n",
       "0 -0.55 -0.07  0.54\n",
       "1 -0.55  0.74 -1.28\n",
       "2 -0.55  0.16 -0.17\n",
       "3 -0.55 -0.92 -0.61\n",
       "4  0.98 -1.08  2.00\n",
       "5  0.98  1.66 -0.12\n",
       "6  0.98  0.07 -0.02\n",
       "7 -0.55 -0.46 -0.84\n",
       "8  0.98  1.51  0.82\n",
       "9 -0.55  0.03  0.17"
      ]
     },
     "execution_count": 36,
     "metadata": {},
     "output_type": "execute_result"
    }
   ],
   "source": [
    "# Normalizing the engagement metrics\n",
    "scaler = StandardScaler()\n",
    "scaled_engage = scaler.fit_transform(user_engage)\n",
    "pd.DataFrame(scaled_engage).head(10)"
   ]
  },
  {
   "cell_type": "code",
   "execution_count": null,
   "id": "09d3b786",
   "metadata": {},
   "outputs": [],
   "source": [
    "normalized_data = normalize(scaled_engage)"
   ]
  }
 ],
 "metadata": {
  "kernelspec": {
   "display_name": "Python 3 (ipykernel)",
   "language": "python",
   "name": "python3"
  },
  "language_info": {
   "codemirror_mode": {
    "name": "ipython",
    "version": 3
   },
   "file_extension": ".py",
   "mimetype": "text/x-python",
   "name": "python",
   "nbconvert_exporter": "python",
   "pygments_lexer": "ipython3",
   "version": "3.9.12"
  }
 },
 "nbformat": 4,
 "nbformat_minor": 5
}
