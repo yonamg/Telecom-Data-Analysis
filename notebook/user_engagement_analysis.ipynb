{
 "cells": [
  {
   "cell_type": "markdown",
   "id": "8657f7cc",
   "metadata": {},
   "source": [
    "# Task2: User Engagement Analysis"
   ]
  },
  {
   "cell_type": "code",
   "execution_count": 83,
   "id": "4c621f7e",
   "metadata": {},
   "outputs": [],
   "source": [
    "# import requiered python libraries\n",
    "\n",
    "import pickle\n",
    "import numpy as np\n",
    "import pandas as pd\n",
    "import seaborn as sns\n",
    "import plotly.io as pio\n",
    "import plotly.express as px\n",
    "import plotly.graph_objects as go  \n",
    "import matplotlib.pyplot as plt\n",
    "from IPython.display import Image\n",
    "from sklearn import preprocessing\n",
    "from sklearn.cluster import KMeans\n",
    "from scipy.spatial.distance import cdist\n",
    "from plotly.subplots import make_subplots\n",
    "from sklearn.preprocessing import StandardScaler, normalize"
   ]
  },
  {
   "cell_type": "code",
   "execution_count": 88,
   "id": "d8b81c9b",
   "metadata": {},
   "outputs": [
    {
     "name": "stdout",
     "output_type": "stream",
     "text": [
      "importing Jupyter notebook from C:\\Users\\Machine\\Documents\\Telecom-Data-Analysis\\scripts\\plots_file.ipynb\n"
     ]
    }
   ],
   "source": [
    "import os\n",
    "import sys\n",
    "import warnings\n",
    "warnings.filterwarnings('ignore')\n",
    "sys.path.append('../scripts/')\n",
    "from scripts.dataframe_outliers import *\n",
    "import scripts.plots_file"
   ]
  },
  {
   "cell_type": "code",
   "execution_count": 89,
   "id": "835a5dfb",
   "metadata": {},
   "outputs": [],
   "source": [
    "pd.set_option('display.max_columns', None)\n",
    "pd.set_option('display.max_colwidth', None)\n",
    "pd.set_option(\"expand_frame_repr\", False)\n",
    "pd.set_option('display.float_format', '{:.2f}'.format)"
   ]
  },
  {
   "cell_type": "code",
   "execution_count": 90,
   "id": "1bd7b4a4",
   "metadata": {},
   "outputs": [
    {
     "name": "stdout",
     "output_type": "stream",
     "text": [
      "<class 'pandas.core.frame.DataFrame'>\n",
      "RangeIndex: 149001 entries, 0 to 149000\n",
      "Data columns (total 46 columns):\n",
      " #   Column                          Non-Null Count   Dtype  \n",
      "---  ------                          --------------   -----  \n",
      " 0   Unnamed: 0                      149001 non-null  int64  \n",
      " 1   Bearer Id                       149001 non-null  float64\n",
      " 2   Start                           149001 non-null  object \n",
      " 3   Start ms                        149001 non-null  float64\n",
      " 4   End                             149001 non-null  object \n",
      " 5   End ms                          149001 non-null  float64\n",
      " 6   Dur. (ms)                       149001 non-null  float64\n",
      " 7   IMSI                            149001 non-null  float64\n",
      " 8   MSISDN/Number                   149001 non-null  float64\n",
      " 9   IMEI                            149001 non-null  float64\n",
      " 10  Last Location Name              149001 non-null  object \n",
      " 11  Avg RTT DL (ms)                 149001 non-null  float64\n",
      " 12  Avg RTT UL (ms)                 149001 non-null  float64\n",
      " 13  Avg Bearer TP DL (kbps)         149001 non-null  float64\n",
      " 14  Avg Bearer TP UL (kbps)         149001 non-null  float64\n",
      " 15  DL TP < 50 Kbps (%)             149001 non-null  float64\n",
      " 16  50 Kbps < DL TP < 250 Kbps (%)  149001 non-null  float64\n",
      " 17  250 Kbps < DL TP < 1 Mbps (%)   149001 non-null  float64\n",
      " 18  DL TP > 1 Mbps (%)              149001 non-null  float64\n",
      " 19  UL TP < 10 Kbps (%)             149001 non-null  float64\n",
      " 20  10 Kbps < UL TP < 50 Kbps (%)   149001 non-null  float64\n",
      " 21  50 Kbps < UL TP < 300 Kbps (%)  149001 non-null  float64\n",
      " 22  UL TP > 300 Kbps (%)            149001 non-null  float64\n",
      " 23  Activity Duration DL (ms)       149001 non-null  float64\n",
      " 24  Activity Duration UL (ms)       149001 non-null  float64\n",
      " 25  Dur. (ms).1                     149001 non-null  float64\n",
      " 26  Handset Manufacturer            149001 non-null  object \n",
      " 27  Handset Type                    149001 non-null  object \n",
      " 28  Nb of sec with Vol DL < 6250B   149001 non-null  float64\n",
      " 29  Nb of sec with Vol UL < 1250B   149001 non-null  float64\n",
      " 30  Social Media DL (Bytes)         149001 non-null  float64\n",
      " 31  Social Media UL (Bytes)         149001 non-null  float64\n",
      " 32  Google DL (Bytes)               149001 non-null  float64\n",
      " 33  Google UL (Bytes)               149001 non-null  float64\n",
      " 34  Email DL (Bytes)                149001 non-null  float64\n",
      " 35  Email UL (Bytes)                149001 non-null  float64\n",
      " 36  Youtube DL (Bytes)              149001 non-null  float64\n",
      " 37  Youtube UL (Bytes)              149001 non-null  float64\n",
      " 38  Netflix DL (Bytes)              149001 non-null  float64\n",
      " 39  Netflix UL (Bytes)              149001 non-null  float64\n",
      " 40  Gaming DL (Bytes)               149001 non-null  float64\n",
      " 41  Gaming UL (Bytes)               149001 non-null  float64\n",
      " 42  Other DL (Bytes)                149001 non-null  float64\n",
      " 43  Other UL (Bytes)                149001 non-null  float64\n",
      " 44  Total UL (Bytes)                149001 non-null  float64\n",
      " 45  Total DL (Bytes)                149001 non-null  float64\n",
      "dtypes: float64(40), int64(1), object(5)\n",
      "memory usage: 52.3+ MB\n"
     ]
    }
   ],
   "source": [
    "# load and read the cleaned data\n",
    "df_cleaned = pd.read_csv('../data/cleaned_Telecom_data.csv')\n",
    "df_cleaned.info()"
   ]
  },
  {
   "cell_type": "code",
   "execution_count": 93,
   "id": "4ad619e1",
   "metadata": {},
   "outputs": [],
   "source": [
    "#Aggregate the above metrics per customer id (MSISDN) and report the top 10 customers per engagement metric\n",
    "df_user_engage =  df_cleaned[['MSISDN/Number', 'Bearer Id', 'Dur. (ms)', 'Total DL (Bytes)']].copy().rename(columns={\n",
    "    'Bearer_Id': 'Session_Frequency', 'MSISDN/Number':'Customer_Id', 'Dur. (ms)': 'Duration', 'Total DL (Bytes)': 'Total_Data_Volume'})"
   ]
  },
  {
   "cell_type": "code",
   "execution_count": null,
   "id": "07244c16",
   "metadata": {},
   "outputs": [],
   "source": []
  }
 ],
 "metadata": {
  "kernelspec": {
   "display_name": "Python 3 (ipykernel)",
   "language": "python",
   "name": "python3"
  },
  "language_info": {
   "codemirror_mode": {
    "name": "ipython",
    "version": 3
   },
   "file_extension": ".py",
   "mimetype": "text/x-python",
   "name": "python",
   "nbconvert_exporter": "python",
   "pygments_lexer": "ipython3",
   "version": "3.9.12"
  }
 },
 "nbformat": 4,
 "nbformat_minor": 5
}
