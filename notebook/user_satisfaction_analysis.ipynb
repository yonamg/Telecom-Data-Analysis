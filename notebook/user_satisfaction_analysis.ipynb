{
 "cells": [
  {
   "cell_type": "code",
   "execution_count": 45,
   "id": "d70c8fd2",
   "metadata": {},
   "outputs": [],
   "source": [
    "#import python libraries\n",
    "import pickle\n",
    "import numpy as np\n",
    "import pandas as pd\n",
    "import seaborn as sns\n",
    "import matplotlib.pyplot as plt \n",
    "from sklearn.cluster import KMeans\n",
    "from sklearn.decomposition import PCA\n",
    "from sklearn.preprocessing import StandardScaler\n",
    "from sklearn.preprocessing import StandardScaler, normalize\n",
    "from sklearn.model_selection import train_test_split\n",
    "from sklearn.linear_model import LinearRegression"
   ]
  },
  {
   "cell_type": "code",
   "execution_count": 3,
   "id": "fd51510f",
   "metadata": {},
   "outputs": [],
   "source": [
    "import os\n",
    "import sys\n",
    "import warnings\n",
    "warnings.filterwarnings('ignore')\n",
    "sys.path.append(os.path.abspath(os.path.join('../scripts')))\n",
    "from dataframe_cleaner import DataFrameCleaner\n",
    "from dataframe_outlier import *\n",
    "from plot_data import *\n",
    "from dataframe_info import DataFrameInfo\n",
    "from user_overview import UserOverviewScript"
   ]
  },
  {
   "cell_type": "code",
   "execution_count": 4,
   "id": "3c0978b9",
   "metadata": {},
   "outputs": [],
   "source": [
    "pd.set_option('display.max_columns', None)\n",
    "pd.set_option('display.max_colwidth', None)\n",
    "pd.set_option(\"expand_frame_repr\", False)\n",
    "pd.set_option('display.float_format', '{:.2f}'.format)"
   ]
  },
  {
   "cell_type": "code",
   "execution_count": 5,
   "id": "7560aca6",
   "metadata": {},
   "outputs": [],
   "source": [
    "#load and read engagement and experience Telecom-dataset\n",
    "customer_engagement = pd.read_csv('../data/user_engagement_analysis.csv')\n",
    "customer_experience = pd.read_csv('../data/user_experiance_analysis.csv')"
   ]
  },
  {
   "cell_type": "code",
   "execution_count": 6,
   "id": "7388fa78",
   "metadata": {},
   "outputs": [
    {
     "data": {
      "text/html": [
       "<div>\n",
       "<style scoped>\n",
       "    .dataframe tbody tr th:only-of-type {\n",
       "        vertical-align: middle;\n",
       "    }\n",
       "\n",
       "    .dataframe tbody tr th {\n",
       "        vertical-align: top;\n",
       "    }\n",
       "\n",
       "    .dataframe thead th {\n",
       "        text-align: right;\n",
       "    }\n",
       "</style>\n",
       "<table border=\"1\" class=\"dataframe\">\n",
       "  <thead>\n",
       "    <tr style=\"text-align: right;\">\n",
       "      <th></th>\n",
       "      <th>Customer_Id</th>\n",
       "      <th>Cluster</th>\n",
       "      <th>Session_Frequency</th>\n",
       "      <th>Duration</th>\n",
       "      <th>Total_Data_Volume</th>\n",
       "    </tr>\n",
       "  </thead>\n",
       "  <tbody>\n",
       "    <tr>\n",
       "      <th>0</th>\n",
       "      <td>33601001722.00</td>\n",
       "      <td>1</td>\n",
       "      <td>1.00</td>\n",
       "      <td>116720.00</td>\n",
       "      <td>878690574.00</td>\n",
       "    </tr>\n",
       "    <tr>\n",
       "      <th>1</th>\n",
       "      <td>33601001754.00</td>\n",
       "      <td>0</td>\n",
       "      <td>1.00</td>\n",
       "      <td>181230.00</td>\n",
       "      <td>156859643.00</td>\n",
       "    </tr>\n",
       "    <tr>\n",
       "      <th>2</th>\n",
       "      <td>33601002511.00</td>\n",
       "      <td>0</td>\n",
       "      <td>1.00</td>\n",
       "      <td>134969.00</td>\n",
       "      <td>595966483.00</td>\n",
       "    </tr>\n",
       "    <tr>\n",
       "      <th>3</th>\n",
       "      <td>33601007832.00</td>\n",
       "      <td>3</td>\n",
       "      <td>1.00</td>\n",
       "      <td>49878.00</td>\n",
       "      <td>422320698.00</td>\n",
       "    </tr>\n",
       "    <tr>\n",
       "      <th>4</th>\n",
       "      <td>33601008617.00</td>\n",
       "      <td>2</td>\n",
       "      <td>2.00</td>\n",
       "      <td>37104.00</td>\n",
       "      <td>1457410944.00</td>\n",
       "    </tr>\n",
       "  </tbody>\n",
       "</table>\n",
       "</div>"
      ],
      "text/plain": [
       "     Customer_Id  Cluster  Session_Frequency  Duration  Total_Data_Volume\n",
       "0 33601001722.00        1               1.00 116720.00       878690574.00\n",
       "1 33601001754.00        0               1.00 181230.00       156859643.00\n",
       "2 33601002511.00        0               1.00 134969.00       595966483.00\n",
       "3 33601007832.00        3               1.00  49878.00       422320698.00\n",
       "4 33601008617.00        2               2.00  37104.00      1457410944.00"
      ]
     },
     "execution_count": 6,
     "metadata": {},
     "output_type": "execute_result"
    }
   ],
   "source": [
    "customer_engagement.head()"
   ]
  },
  {
   "cell_type": "code",
   "execution_count": 7,
   "id": "3bd16ffb",
   "metadata": {},
   "outputs": [
    {
     "data": {
      "text/html": [
       "<div>\n",
       "<style scoped>\n",
       "    .dataframe tbody tr th:only-of-type {\n",
       "        vertical-align: middle;\n",
       "    }\n",
       "\n",
       "    .dataframe tbody tr th {\n",
       "        vertical-align: top;\n",
       "    }\n",
       "\n",
       "    .dataframe thead th {\n",
       "        text-align: right;\n",
       "    }\n",
       "</style>\n",
       "<table border=\"1\" class=\"dataframe\">\n",
       "  <thead>\n",
       "    <tr style=\"text-align: right;\">\n",
       "      <th></th>\n",
       "      <th>MSISDN_Number</th>\n",
       "      <th>Cluster</th>\n",
       "      <th>Total_Avg_RTT</th>\n",
       "      <th>Total_Avg_Bearer_TP</th>\n",
       "      <th>Total_Avg_TCP</th>\n",
       "    </tr>\n",
       "  </thead>\n",
       "  <tbody>\n",
       "    <tr>\n",
       "      <th>0</th>\n",
       "      <td>33601001722.00</td>\n",
       "      <td>2</td>\n",
       "      <td>0.00</td>\n",
       "      <td>76.00</td>\n",
       "      <td>2068.83</td>\n",
       "    </tr>\n",
       "    <tr>\n",
       "      <th>1</th>\n",
       "      <td>33601001754.00</td>\n",
       "      <td>0</td>\n",
       "      <td>0.00</td>\n",
       "      <td>99.00</td>\n",
       "      <td>580.35</td>\n",
       "    </tr>\n",
       "    <tr>\n",
       "      <th>2</th>\n",
       "      <td>33601002511.00</td>\n",
       "      <td>0</td>\n",
       "      <td>0.01</td>\n",
       "      <td>97.00</td>\n",
       "      <td>580.35</td>\n",
       "    </tr>\n",
       "    <tr>\n",
       "      <th>3</th>\n",
       "      <td>33601007832.00</td>\n",
       "      <td>0</td>\n",
       "      <td>0.02</td>\n",
       "      <td>248.00</td>\n",
       "      <td>198.99</td>\n",
       "    </tr>\n",
       "    <tr>\n",
       "      <th>4</th>\n",
       "      <td>33601008617.00</td>\n",
       "      <td>1</td>\n",
       "      <td>0.01</td>\n",
       "      <td>56844.00</td>\n",
       "      <td>970.59</td>\n",
       "    </tr>\n",
       "  </tbody>\n",
       "</table>\n",
       "</div>"
      ],
      "text/plain": [
       "   MSISDN_Number  Cluster  Total_Avg_RTT  Total_Avg_Bearer_TP  Total_Avg_TCP\n",
       "0 33601001722.00        2           0.00                76.00        2068.83\n",
       "1 33601001754.00        0           0.00                99.00         580.35\n",
       "2 33601002511.00        0           0.01                97.00         580.35\n",
       "3 33601007832.00        0           0.02               248.00         198.99\n",
       "4 33601008617.00        1           0.01             56844.00         970.59"
      ]
     },
     "execution_count": 7,
     "metadata": {},
     "output_type": "execute_result"
    }
   ],
   "source": [
    "customer_experience.head()"
   ]
  },
  {
   "cell_type": "code",
   "execution_count": 8,
   "id": "7714693f",
   "metadata": {},
   "outputs": [
    {
     "data": {
      "text/html": [
       "<div>\n",
       "<style scoped>\n",
       "    .dataframe tbody tr th:only-of-type {\n",
       "        vertical-align: middle;\n",
       "    }\n",
       "\n",
       "    .dataframe tbody tr th {\n",
       "        vertical-align: top;\n",
       "    }\n",
       "\n",
       "    .dataframe thead th {\n",
       "        text-align: right;\n",
       "    }\n",
       "</style>\n",
       "<table border=\"1\" class=\"dataframe\">\n",
       "  <thead>\n",
       "    <tr style=\"text-align: right;\">\n",
       "      <th></th>\n",
       "      <th>Customer_Id</th>\n",
       "      <th>Cluster</th>\n",
       "      <th>Total_Avg_RTT</th>\n",
       "      <th>Total_Avg_Bearer_TP</th>\n",
       "      <th>Total_Avg_TCP</th>\n",
       "    </tr>\n",
       "  </thead>\n",
       "  <tbody>\n",
       "    <tr>\n",
       "      <th>0</th>\n",
       "      <td>33601001722.00</td>\n",
       "      <td>2</td>\n",
       "      <td>0.00</td>\n",
       "      <td>76.00</td>\n",
       "      <td>2068.83</td>\n",
       "    </tr>\n",
       "    <tr>\n",
       "      <th>1</th>\n",
       "      <td>33601001754.00</td>\n",
       "      <td>0</td>\n",
       "      <td>0.00</td>\n",
       "      <td>99.00</td>\n",
       "      <td>580.35</td>\n",
       "    </tr>\n",
       "    <tr>\n",
       "      <th>2</th>\n",
       "      <td>33601002511.00</td>\n",
       "      <td>0</td>\n",
       "      <td>0.01</td>\n",
       "      <td>97.00</td>\n",
       "      <td>580.35</td>\n",
       "    </tr>\n",
       "    <tr>\n",
       "      <th>3</th>\n",
       "      <td>33601007832.00</td>\n",
       "      <td>0</td>\n",
       "      <td>0.02</td>\n",
       "      <td>248.00</td>\n",
       "      <td>198.99</td>\n",
       "    </tr>\n",
       "    <tr>\n",
       "      <th>4</th>\n",
       "      <td>33601008617.00</td>\n",
       "      <td>1</td>\n",
       "      <td>0.01</td>\n",
       "      <td>56844.00</td>\n",
       "      <td>970.59</td>\n",
       "    </tr>\n",
       "  </tbody>\n",
       "</table>\n",
       "</div>"
      ],
      "text/plain": [
       "     Customer_Id  Cluster  Total_Avg_RTT  Total_Avg_Bearer_TP  Total_Avg_TCP\n",
       "0 33601001722.00        2           0.00                76.00        2068.83\n",
       "1 33601001754.00        0           0.00                99.00         580.35\n",
       "2 33601002511.00        0           0.01                97.00         580.35\n",
       "3 33601007832.00        0           0.02               248.00         198.99\n",
       "4 33601008617.00        1           0.01             56844.00         970.59"
      ]
     },
     "execution_count": 8,
     "metadata": {},
     "output_type": "execute_result"
    }
   ],
   "source": [
    "customer_experience.rename(columns = {'MSISDN_Number':'Customer_Id'}, inplace=True)\n",
    "customer_experience.head()"
   ]
  },
  {
   "cell_type": "markdown",
   "id": "9582d643",
   "metadata": {},
   "source": [
    "# Task 4 - User Satisfaction Analysis"
   ]
  },
  {
   "cell_type": "markdown",
   "id": "98db6ebf",
   "metadata": {},
   "source": [
    "analyzing user satisfaction based on engagement & experience analysis result"
   ]
  },
  {
   "cell_type": "markdown",
   "id": "509e6c00",
   "metadata": {},
   "source": [
    "Assign of user engagement score"
   ]
  },
  {
   "cell_type": "code",
   "execution_count": 9,
   "id": "dd52f4fc",
   "metadata": {},
   "outputs": [],
   "source": [
    "#read user engagement model\n",
    "with open(\"../models/user_engagement_analysis.pkl\", \"rb\") as file:\n",
    "    kmeans_engage = pickle.load(file)\n",
    "less_engaged_score = 3"
   ]
  },
  {
   "cell_type": "code",
   "execution_count": 10,
   "id": "e5cc8d43",
   "metadata": {},
   "outputs": [
    {
     "data": {
      "text/html": [
       "<div>\n",
       "<style scoped>\n",
       "    .dataframe tbody tr th:only-of-type {\n",
       "        vertical-align: middle;\n",
       "    }\n",
       "\n",
       "    .dataframe tbody tr th {\n",
       "        vertical-align: top;\n",
       "    }\n",
       "\n",
       "    .dataframe thead th {\n",
       "        text-align: right;\n",
       "    }\n",
       "</style>\n",
       "<table border=\"1\" class=\"dataframe\">\n",
       "  <thead>\n",
       "    <tr style=\"text-align: right;\">\n",
       "      <th></th>\n",
       "      <th>0</th>\n",
       "      <th>1</th>\n",
       "      <th>2</th>\n",
       "    </tr>\n",
       "  </thead>\n",
       "  <tbody>\n",
       "    <tr>\n",
       "      <th>0</th>\n",
       "      <td>-0.07</td>\n",
       "      <td>0.54</td>\n",
       "      <td>-0.55</td>\n",
       "    </tr>\n",
       "    <tr>\n",
       "      <th>1</th>\n",
       "      <td>0.74</td>\n",
       "      <td>-1.28</td>\n",
       "      <td>-0.55</td>\n",
       "    </tr>\n",
       "    <tr>\n",
       "      <th>2</th>\n",
       "      <td>0.16</td>\n",
       "      <td>-0.17</td>\n",
       "      <td>-0.55</td>\n",
       "    </tr>\n",
       "    <tr>\n",
       "      <th>3</th>\n",
       "      <td>-0.92</td>\n",
       "      <td>-0.61</td>\n",
       "      <td>-0.55</td>\n",
       "    </tr>\n",
       "    <tr>\n",
       "      <th>4</th>\n",
       "      <td>-1.08</td>\n",
       "      <td>2.00</td>\n",
       "      <td>0.98</td>\n",
       "    </tr>\n",
       "  </tbody>\n",
       "</table>\n",
       "</div>"
      ],
      "text/plain": [
       "      0     1     2\n",
       "0 -0.07  0.54 -0.55\n",
       "1  0.74 -1.28 -0.55\n",
       "2  0.16 -0.17 -0.55\n",
       "3 -0.92 -0.61 -0.55\n",
       "4 -1.08  2.00  0.98"
      ]
     },
     "execution_count": 10,
     "metadata": {},
     "output_type": "execute_result"
    }
   ],
   "source": [
    "engagement_df = customer_engagement.set_index('Customer_Id')[\n",
    "    ['Duration', 'Total_Data_Volume', 'Session_Frequency']]\n",
    "scaler = StandardScaler()\n",
    "scaled_array = scaler.fit_transform(engagement_df)\n",
    "pd.DataFrame(scaled_array).head(5)"
   ]
  },
  {
   "cell_type": "code",
   "execution_count": 11,
   "id": "8a11fee7",
   "metadata": {},
   "outputs": [
    {
     "data": {
      "text/html": [
       "<div>\n",
       "<style scoped>\n",
       "    .dataframe tbody tr th:only-of-type {\n",
       "        vertical-align: middle;\n",
       "    }\n",
       "\n",
       "    .dataframe tbody tr th {\n",
       "        vertical-align: top;\n",
       "    }\n",
       "\n",
       "    .dataframe thead th {\n",
       "        text-align: right;\n",
       "    }\n",
       "</style>\n",
       "<table border=\"1\" class=\"dataframe\">\n",
       "  <thead>\n",
       "    <tr style=\"text-align: right;\">\n",
       "      <th></th>\n",
       "      <th>0</th>\n",
       "      <th>1</th>\n",
       "      <th>2</th>\n",
       "    </tr>\n",
       "  </thead>\n",
       "  <tbody>\n",
       "    <tr>\n",
       "      <th>0</th>\n",
       "      <td>-0.09</td>\n",
       "      <td>0.70</td>\n",
       "      <td>-0.71</td>\n",
       "    </tr>\n",
       "    <tr>\n",
       "      <th>1</th>\n",
       "      <td>0.47</td>\n",
       "      <td>-0.81</td>\n",
       "      <td>-0.35</td>\n",
       "    </tr>\n",
       "    <tr>\n",
       "      <th>2</th>\n",
       "      <td>0.26</td>\n",
       "      <td>-0.29</td>\n",
       "      <td>-0.92</td>\n",
       "    </tr>\n",
       "    <tr>\n",
       "      <th>3</th>\n",
       "      <td>-0.74</td>\n",
       "      <td>-0.50</td>\n",
       "      <td>-0.45</td>\n",
       "    </tr>\n",
       "    <tr>\n",
       "      <th>4</th>\n",
       "      <td>-0.44</td>\n",
       "      <td>0.81</td>\n",
       "      <td>0.39</td>\n",
       "    </tr>\n",
       "  </tbody>\n",
       "</table>\n",
       "</div>"
      ],
      "text/plain": [
       "      0     1     2\n",
       "0 -0.09  0.70 -0.71\n",
       "1  0.47 -0.81 -0.35\n",
       "2  0.26 -0.29 -0.92\n",
       "3 -0.74 -0.50 -0.45\n",
       "4 -0.44  0.81  0.39"
      ]
     },
     "execution_count": 11,
     "metadata": {},
     "output_type": "execute_result"
    }
   ],
   "source": [
    "normalized_data = normalize(scaled_array)\n",
    "pd.DataFrame(normalized_data).head(5)"
   ]
  },
  {
   "cell_type": "code",
   "execution_count": 12,
   "id": "7b971f7a",
   "metadata": {},
   "outputs": [
    {
     "data": {
      "text/html": [
       "<div>\n",
       "<style scoped>\n",
       "    .dataframe tbody tr th:only-of-type {\n",
       "        vertical-align: middle;\n",
       "    }\n",
       "\n",
       "    .dataframe tbody tr th {\n",
       "        vertical-align: top;\n",
       "    }\n",
       "\n",
       "    .dataframe thead th {\n",
       "        text-align: right;\n",
       "    }\n",
       "</style>\n",
       "<table border=\"1\" class=\"dataframe\">\n",
       "  <thead>\n",
       "    <tr style=\"text-align: right;\">\n",
       "      <th></th>\n",
       "      <th>Customer_Id</th>\n",
       "      <th>Cluster</th>\n",
       "      <th>Session_Frequency</th>\n",
       "      <th>Duration</th>\n",
       "      <th>Total_Data_Volume</th>\n",
       "      <th>Engagement_Score</th>\n",
       "    </tr>\n",
       "  </thead>\n",
       "  <tbody>\n",
       "    <tr>\n",
       "      <th>0</th>\n",
       "      <td>33601001722.00</td>\n",
       "      <td>1</td>\n",
       "      <td>1.00</td>\n",
       "      <td>116720.00</td>\n",
       "      <td>878690574.00</td>\n",
       "      <td>1.45</td>\n",
       "    </tr>\n",
       "    <tr>\n",
       "      <th>1</th>\n",
       "      <td>33601001754.00</td>\n",
       "      <td>0</td>\n",
       "      <td>1.00</td>\n",
       "      <td>181230.00</td>\n",
       "      <td>156859643.00</td>\n",
       "      <td>0.92</td>\n",
       "    </tr>\n",
       "    <tr>\n",
       "      <th>2</th>\n",
       "      <td>33601002511.00</td>\n",
       "      <td>0</td>\n",
       "      <td>1.00</td>\n",
       "      <td>134969.00</td>\n",
       "      <td>595966483.00</td>\n",
       "      <td>0.93</td>\n",
       "    </tr>\n",
       "    <tr>\n",
       "      <th>3</th>\n",
       "      <td>33601007832.00</td>\n",
       "      <td>3</td>\n",
       "      <td>1.00</td>\n",
       "      <td>49878.00</td>\n",
       "      <td>422320698.00</td>\n",
       "      <td>0.36</td>\n",
       "    </tr>\n",
       "    <tr>\n",
       "      <th>4</th>\n",
       "      <td>33601008617.00</td>\n",
       "      <td>2</td>\n",
       "      <td>2.00</td>\n",
       "      <td>37104.00</td>\n",
       "      <td>1457410944.00</td>\n",
       "      <td>1.72</td>\n",
       "    </tr>\n",
       "  </tbody>\n",
       "</table>\n",
       "</div>"
      ],
      "text/plain": [
       "     Customer_Id  Cluster  Session_Frequency  Duration  Total_Data_Volume  Engagement_Score\n",
       "0 33601001722.00        1               1.00 116720.00       878690574.00              1.45\n",
       "1 33601001754.00        0               1.00 181230.00       156859643.00              0.92\n",
       "2 33601002511.00        0               1.00 134969.00       595966483.00              0.93\n",
       "3 33601007832.00        3               1.00  49878.00       422320698.00              0.36\n",
       "4 33601008617.00        2               2.00  37104.00      1457410944.00              1.72"
      ]
     },
     "execution_count": 12,
     "metadata": {},
     "output_type": "execute_result"
    }
   ],
   "source": [
    "distance = kmeans_engage.fit_transform(normalized_data)\n",
    "distance_from_less_engaged_score = list(\n",
    "    map(lambda x: x[less_engaged_score], distance))\n",
    "customer_engagement['Engagement_Score'] = distance_from_less_engaged_score\n",
    "customer_engagement.head(5)"
   ]
  },
  {
   "cell_type": "markdown",
   "id": "b0c35d2f",
   "metadata": {},
   "source": [
    "Assign User Experience Score"
   ]
  },
  {
   "cell_type": "code",
   "execution_count": 33,
   "id": "b9a58a69",
   "metadata": {},
   "outputs": [],
   "source": [
    "#load and read user experience model\n",
    "with open(\"../models/user_experiance.pkl\", \"rb\") as file_e:\n",
    "    kmeans_expr = pickle.load(file_e)\n",
    "worst_experience = 0"
   ]
  },
  {
   "cell_type": "code",
   "execution_count": 34,
   "id": "c54c79b1",
   "metadata": {},
   "outputs": [
    {
     "data": {
      "text/html": [
       "<div>\n",
       "<style scoped>\n",
       "    .dataframe tbody tr th:only-of-type {\n",
       "        vertical-align: middle;\n",
       "    }\n",
       "\n",
       "    .dataframe tbody tr th {\n",
       "        vertical-align: top;\n",
       "    }\n",
       "\n",
       "    .dataframe thead th {\n",
       "        text-align: right;\n",
       "    }\n",
       "</style>\n",
       "<table border=\"1\" class=\"dataframe\">\n",
       "  <thead>\n",
       "    <tr style=\"text-align: right;\">\n",
       "      <th></th>\n",
       "      <th>0</th>\n",
       "      <th>1</th>\n",
       "      <th>2</th>\n",
       "    </tr>\n",
       "  </thead>\n",
       "  <tbody>\n",
       "    <tr>\n",
       "      <th>0</th>\n",
       "      <td>-1.09</td>\n",
       "      <td>-0.66</td>\n",
       "      <td>1.74</td>\n",
       "    </tr>\n",
       "    <tr>\n",
       "      <th>1</th>\n",
       "      <td>-0.98</td>\n",
       "      <td>-0.66</td>\n",
       "      <td>-0.49</td>\n",
       "    </tr>\n",
       "    <tr>\n",
       "      <th>2</th>\n",
       "      <td>-0.54</td>\n",
       "      <td>-0.66</td>\n",
       "      <td>-0.49</td>\n",
       "    </tr>\n",
       "    <tr>\n",
       "      <th>3</th>\n",
       "      <td>0.55</td>\n",
       "      <td>-0.66</td>\n",
       "      <td>-1.07</td>\n",
       "    </tr>\n",
       "    <tr>\n",
       "      <th>4</th>\n",
       "      <td>-0.54</td>\n",
       "      <td>1.78</td>\n",
       "      <td>0.09</td>\n",
       "    </tr>\n",
       "  </tbody>\n",
       "</table>\n",
       "</div>"
      ],
      "text/plain": [
       "      0     1     2\n",
       "0 -1.09 -0.66  1.74\n",
       "1 -0.98 -0.66 -0.49\n",
       "2 -0.54 -0.66 -0.49\n",
       "3  0.55 -0.66 -1.07\n",
       "4 -0.54  1.78  0.09"
      ]
     },
     "execution_count": 34,
     "metadata": {},
     "output_type": "execute_result"
    }
   ],
   "source": [
    "experience_df = customer_experience.set_index('Customer_Id')[\n",
    "    ['Total_Avg_RTT', 'Total_Avg_Bearer_TP', 'Total_Avg_TCP']]\n",
    "scaler = StandardScaler()\n",
    "scaled_array = scaler.fit_transform(experience_df)\n",
    "pd.DataFrame(scaled_array).head(5)"
   ]
  },
  {
   "cell_type": "code",
   "execution_count": 35,
   "id": "a10238d2",
   "metadata": {},
   "outputs": [
    {
     "data": {
      "text/html": [
       "<div>\n",
       "<style scoped>\n",
       "    .dataframe tbody tr th:only-of-type {\n",
       "        vertical-align: middle;\n",
       "    }\n",
       "\n",
       "    .dataframe tbody tr th {\n",
       "        vertical-align: top;\n",
       "    }\n",
       "\n",
       "    .dataframe thead th {\n",
       "        text-align: right;\n",
       "    }\n",
       "</style>\n",
       "<table border=\"1\" class=\"dataframe\">\n",
       "  <thead>\n",
       "    <tr style=\"text-align: right;\">\n",
       "      <th></th>\n",
       "      <th>0</th>\n",
       "      <th>1</th>\n",
       "      <th>2</th>\n",
       "    </tr>\n",
       "  </thead>\n",
       "  <tbody>\n",
       "    <tr>\n",
       "      <th>0</th>\n",
       "      <td>-0.50</td>\n",
       "      <td>-0.31</td>\n",
       "      <td>0.81</td>\n",
       "    </tr>\n",
       "    <tr>\n",
       "      <th>1</th>\n",
       "      <td>-0.76</td>\n",
       "      <td>-0.52</td>\n",
       "      <td>-0.39</td>\n",
       "    </tr>\n",
       "    <tr>\n",
       "      <th>2</th>\n",
       "      <td>-0.55</td>\n",
       "      <td>-0.67</td>\n",
       "      <td>-0.50</td>\n",
       "    </tr>\n",
       "    <tr>\n",
       "      <th>3</th>\n",
       "      <td>0.40</td>\n",
       "      <td>-0.48</td>\n",
       "      <td>-0.78</td>\n",
       "    </tr>\n",
       "    <tr>\n",
       "      <th>4</th>\n",
       "      <td>-0.29</td>\n",
       "      <td>0.96</td>\n",
       "      <td>0.05</td>\n",
       "    </tr>\n",
       "  </tbody>\n",
       "</table>\n",
       "</div>"
      ],
      "text/plain": [
       "      0     1     2\n",
       "0 -0.50 -0.31  0.81\n",
       "1 -0.76 -0.52 -0.39\n",
       "2 -0.55 -0.67 -0.50\n",
       "3  0.40 -0.48 -0.78\n",
       "4 -0.29  0.96  0.05"
      ]
     },
     "execution_count": 35,
     "metadata": {},
     "output_type": "execute_result"
    }
   ],
   "source": [
    "normalized_data = normalize(scaled_array)\n",
    "pd.DataFrame(normalized_data).head(5)"
   ]
  },
  {
   "cell_type": "code",
   "execution_count": 36,
   "id": "21c28e9c",
   "metadata": {},
   "outputs": [
    {
     "data": {
      "text/html": [
       "<div>\n",
       "<style scoped>\n",
       "    .dataframe tbody tr th:only-of-type {\n",
       "        vertical-align: middle;\n",
       "    }\n",
       "\n",
       "    .dataframe tbody tr th {\n",
       "        vertical-align: top;\n",
       "    }\n",
       "\n",
       "    .dataframe thead th {\n",
       "        text-align: right;\n",
       "    }\n",
       "</style>\n",
       "<table border=\"1\" class=\"dataframe\">\n",
       "  <thead>\n",
       "    <tr style=\"text-align: right;\">\n",
       "      <th></th>\n",
       "      <th>Customer_Id</th>\n",
       "      <th>Cluster</th>\n",
       "      <th>Total_Avg_RTT</th>\n",
       "      <th>Total_Avg_Bearer_TP</th>\n",
       "      <th>Total_Avg_TCP</th>\n",
       "      <th>Experience_Score</th>\n",
       "    </tr>\n",
       "  </thead>\n",
       "  <tbody>\n",
       "    <tr>\n",
       "      <th>0</th>\n",
       "      <td>33601001722.00</td>\n",
       "      <td>2</td>\n",
       "      <td>0.00</td>\n",
       "      <td>76.00</td>\n",
       "      <td>2068.83</td>\n",
       "      <td>1.37</td>\n",
       "    </tr>\n",
       "    <tr>\n",
       "      <th>1</th>\n",
       "      <td>33601001754.00</td>\n",
       "      <td>0</td>\n",
       "      <td>0.00</td>\n",
       "      <td>99.00</td>\n",
       "      <td>580.35</td>\n",
       "      <td>0.29</td>\n",
       "    </tr>\n",
       "    <tr>\n",
       "      <th>2</th>\n",
       "      <td>33601002511.00</td>\n",
       "      <td>0</td>\n",
       "      <td>0.01</td>\n",
       "      <td>97.00</td>\n",
       "      <td>580.35</td>\n",
       "      <td>0.16</td>\n",
       "    </tr>\n",
       "    <tr>\n",
       "      <th>3</th>\n",
       "      <td>33601007832.00</td>\n",
       "      <td>0</td>\n",
       "      <td>0.02</td>\n",
       "      <td>248.00</td>\n",
       "      <td>198.99</td>\n",
       "      <td>0.96</td>\n",
       "    </tr>\n",
       "    <tr>\n",
       "      <th>4</th>\n",
       "      <td>33601008617.00</td>\n",
       "      <td>1</td>\n",
       "      <td>0.01</td>\n",
       "      <td>56844.00</td>\n",
       "      <td>970.59</td>\n",
       "      <td>1.61</td>\n",
       "    </tr>\n",
       "  </tbody>\n",
       "</table>\n",
       "</div>"
      ],
      "text/plain": [
       "     Customer_Id  Cluster  Total_Avg_RTT  Total_Avg_Bearer_TP  Total_Avg_TCP  Experience_Score\n",
       "0 33601001722.00        2           0.00                76.00        2068.83              1.37\n",
       "1 33601001754.00        0           0.00                99.00         580.35              0.29\n",
       "2 33601002511.00        0           0.01                97.00         580.35              0.16\n",
       "3 33601007832.00        0           0.02               248.00         198.99              0.96\n",
       "4 33601008617.00        1           0.01             56844.00         970.59              1.61"
      ]
     },
     "execution_count": 36,
     "metadata": {},
     "output_type": "execute_result"
    }
   ],
   "source": [
    "experience_df = customer_experience.set_index('Customer_Id')\n",
    "distance = kmeans_expr.fit_transform(normalized_data)\n",
    "distance_from_worst_experience = list(\n",
    "    map(lambda x: x[worst_experience], distance))\n",
    "customer_experience['Experience_Score'] = distance_from_worst_experience\n",
    "customer_experience.head(5)"
   ]
  },
  {
   "cell_type": "markdown",
   "id": "5d2cf201",
   "metadata": {},
   "source": [
    "Task 4.2:  Consider the average of both Engagement & Experience Scores as the satisfaction score & report the top 10 satisfied customers"
   ]
  },
  {
   "cell_type": "code",
   "execution_count": 37,
   "id": "348a4f3b",
   "metadata": {},
   "outputs": [
    {
     "data": {
      "text/plain": [
       "[33662697474.0, 33665581058.0, 33628094468.0, 33666105351.0, 33782497288.0]"
      ]
     },
     "execution_count": 37,
     "metadata": {},
     "output_type": "execute_result"
    }
   ],
   "source": [
    "# retrieve customers' ID for engagement\n",
    "user_id_engage = customer_engagement['Customer_Id'].values\n",
    "user_id_exper = customer_experience['Customer_Id'].values\n",
    "user_intersection = list(set(user_id_engage).intersection(user_id_exper))\n",
    "user_intersection[:5]"
   ]
  },
  {
   "cell_type": "code",
   "execution_count": 38,
   "id": "7d20c8a3",
   "metadata": {},
   "outputs": [
    {
     "data": {
      "text/plain": [
       "(106471, 6)"
      ]
     },
     "execution_count": 38,
     "metadata": {},
     "output_type": "execute_result"
    }
   ],
   "source": [
    "df_user_engage = customer_engagement[customer_engagement['Customer_Id'].isin(user_intersection)]\n",
    "df_user_engage.shape"
   ]
  },
  {
   "cell_type": "code",
   "execution_count": 39,
   "id": "971bb041",
   "metadata": {},
   "outputs": [
    {
     "data": {
      "text/plain": [
       "(106471, 6)"
      ]
     },
     "execution_count": 39,
     "metadata": {},
     "output_type": "execute_result"
    }
   ],
   "source": [
    "df_user_exper = customer_experience[customer_experience['Customer_Id'].isin(user_intersection)]\n",
    "df_user_exper.shape"
   ]
  },
  {
   "cell_type": "markdown",
   "id": "bf4bcfda",
   "metadata": {},
   "source": [
    "Combine Engagement and Experience score to get the user Satisfaction Score"
   ]
  },
  {
   "cell_type": "code",
   "execution_count": 40,
   "id": "35c47cc0",
   "metadata": {},
   "outputs": [
    {
     "data": {
      "text/html": [
       "<div>\n",
       "<style scoped>\n",
       "    .dataframe tbody tr th:only-of-type {\n",
       "        vertical-align: middle;\n",
       "    }\n",
       "\n",
       "    .dataframe tbody tr th {\n",
       "        vertical-align: top;\n",
       "    }\n",
       "\n",
       "    .dataframe thead th {\n",
       "        text-align: right;\n",
       "    }\n",
       "</style>\n",
       "<table border=\"1\" class=\"dataframe\">\n",
       "  <thead>\n",
       "    <tr style=\"text-align: right;\">\n",
       "      <th></th>\n",
       "      <th>Customer_Id</th>\n",
       "      <th>Cluster_x</th>\n",
       "      <th>Session_Frequency</th>\n",
       "      <th>Duration</th>\n",
       "      <th>Total_Data_Volume</th>\n",
       "      <th>Engagement_Score</th>\n",
       "      <th>Cluster_y</th>\n",
       "      <th>Total_Avg_RTT</th>\n",
       "      <th>Total_Avg_Bearer_TP</th>\n",
       "      <th>Total_Avg_TCP</th>\n",
       "      <th>Experience_Score</th>\n",
       "      <th>Satisfaction_Score</th>\n",
       "    </tr>\n",
       "  </thead>\n",
       "  <tbody>\n",
       "    <tr>\n",
       "      <th>0</th>\n",
       "      <td>33601001722.00</td>\n",
       "      <td>1</td>\n",
       "      <td>1.00</td>\n",
       "      <td>116720.00</td>\n",
       "      <td>878690574.00</td>\n",
       "      <td>1.45</td>\n",
       "      <td>2</td>\n",
       "      <td>0.00</td>\n",
       "      <td>76.00</td>\n",
       "      <td>2068.83</td>\n",
       "      <td>1.37</td>\n",
       "      <td>1.41</td>\n",
       "    </tr>\n",
       "    <tr>\n",
       "      <th>1</th>\n",
       "      <td>33601001754.00</td>\n",
       "      <td>0</td>\n",
       "      <td>1.00</td>\n",
       "      <td>181230.00</td>\n",
       "      <td>156859643.00</td>\n",
       "      <td>0.92</td>\n",
       "      <td>0</td>\n",
       "      <td>0.00</td>\n",
       "      <td>99.00</td>\n",
       "      <td>580.35</td>\n",
       "      <td>0.29</td>\n",
       "      <td>0.60</td>\n",
       "    </tr>\n",
       "    <tr>\n",
       "      <th>2</th>\n",
       "      <td>33601002511.00</td>\n",
       "      <td>0</td>\n",
       "      <td>1.00</td>\n",
       "      <td>134969.00</td>\n",
       "      <td>595966483.00</td>\n",
       "      <td>0.93</td>\n",
       "      <td>0</td>\n",
       "      <td>0.01</td>\n",
       "      <td>97.00</td>\n",
       "      <td>580.35</td>\n",
       "      <td>0.16</td>\n",
       "      <td>0.54</td>\n",
       "    </tr>\n",
       "    <tr>\n",
       "      <th>3</th>\n",
       "      <td>33601007832.00</td>\n",
       "      <td>3</td>\n",
       "      <td>1.00</td>\n",
       "      <td>49878.00</td>\n",
       "      <td>422320698.00</td>\n",
       "      <td>0.36</td>\n",
       "      <td>0</td>\n",
       "      <td>0.02</td>\n",
       "      <td>248.00</td>\n",
       "      <td>198.99</td>\n",
       "      <td>0.96</td>\n",
       "      <td>0.66</td>\n",
       "    </tr>\n",
       "    <tr>\n",
       "      <th>4</th>\n",
       "      <td>33601008617.00</td>\n",
       "      <td>2</td>\n",
       "      <td>2.00</td>\n",
       "      <td>37104.00</td>\n",
       "      <td>1457410944.00</td>\n",
       "      <td>1.72</td>\n",
       "      <td>1</td>\n",
       "      <td>0.01</td>\n",
       "      <td>56844.00</td>\n",
       "      <td>970.59</td>\n",
       "      <td>1.61</td>\n",
       "      <td>1.66</td>\n",
       "    </tr>\n",
       "  </tbody>\n",
       "</table>\n",
       "</div>"
      ],
      "text/plain": [
       "     Customer_Id  Cluster_x  Session_Frequency  Duration  Total_Data_Volume  Engagement_Score  Cluster_y  Total_Avg_RTT  Total_Avg_Bearer_TP  Total_Avg_TCP  Experience_Score  Satisfaction_Score\n",
       "0 33601001722.00          1               1.00 116720.00       878690574.00              1.45          2           0.00                76.00        2068.83              1.37                1.41\n",
       "1 33601001754.00          0               1.00 181230.00       156859643.00              0.92          0           0.00                99.00         580.35              0.29                0.60\n",
       "2 33601002511.00          0               1.00 134969.00       595966483.00              0.93          0           0.01                97.00         580.35              0.16                0.54\n",
       "3 33601007832.00          3               1.00  49878.00       422320698.00              0.36          0           0.02               248.00         198.99              0.96                0.66\n",
       "4 33601008617.00          2               2.00  37104.00      1457410944.00              1.72          1           0.01             56844.00         970.59              1.61                1.66"
      ]
     },
     "execution_count": 40,
     "metadata": {},
     "output_type": "execute_result"
    }
   ],
   "source": [
    "user_df = pd.merge(df_user_engage, df_user_exper, on='Customer_Id')\n",
    "user_df['Satisfaction_Score'] = (\n",
    "    user_df['Engagement_Score'] + user_df['Experience_Score'])/2\n",
    "user_df.head(5)"
   ]
  },
  {
   "cell_type": "code",
   "execution_count": 41,
   "id": "ddace389",
   "metadata": {},
   "outputs": [
    {
     "data": {
      "text/html": [
       "<div>\n",
       "<style scoped>\n",
       "    .dataframe tbody tr th:only-of-type {\n",
       "        vertical-align: middle;\n",
       "    }\n",
       "\n",
       "    .dataframe tbody tr th {\n",
       "        vertical-align: top;\n",
       "    }\n",
       "\n",
       "    .dataframe thead th {\n",
       "        text-align: right;\n",
       "    }\n",
       "</style>\n",
       "<table border=\"1\" class=\"dataframe\">\n",
       "  <thead>\n",
       "    <tr style=\"text-align: right;\">\n",
       "      <th></th>\n",
       "      <th>Engagement_Score</th>\n",
       "      <th>Experience_Score</th>\n",
       "      <th>Satisfaction_Score</th>\n",
       "    </tr>\n",
       "    <tr>\n",
       "      <th>Customer_Id</th>\n",
       "      <th></th>\n",
       "      <th></th>\n",
       "      <th></th>\n",
       "    </tr>\n",
       "  </thead>\n",
       "  <tbody>\n",
       "    <tr>\n",
       "      <th>33601001722.00</th>\n",
       "      <td>1.45</td>\n",
       "      <td>1.37</td>\n",
       "      <td>1.41</td>\n",
       "    </tr>\n",
       "    <tr>\n",
       "      <th>33601001754.00</th>\n",
       "      <td>0.92</td>\n",
       "      <td>0.29</td>\n",
       "      <td>0.60</td>\n",
       "    </tr>\n",
       "    <tr>\n",
       "      <th>33601002511.00</th>\n",
       "      <td>0.93</td>\n",
       "      <td>0.16</td>\n",
       "      <td>0.54</td>\n",
       "    </tr>\n",
       "    <tr>\n",
       "      <th>33601007832.00</th>\n",
       "      <td>0.36</td>\n",
       "      <td>0.96</td>\n",
       "      <td>0.66</td>\n",
       "    </tr>\n",
       "    <tr>\n",
       "      <th>33601008617.00</th>\n",
       "      <td>1.72</td>\n",
       "      <td>1.61</td>\n",
       "      <td>1.66</td>\n",
       "    </tr>\n",
       "  </tbody>\n",
       "</table>\n",
       "</div>"
      ],
      "text/plain": [
       "                Engagement_Score  Experience_Score  Satisfaction_Score\n",
       "Customer_Id                                                           \n",
       "33601001722.00              1.45              1.37                1.41\n",
       "33601001754.00              0.92              0.29                0.60\n",
       "33601002511.00              0.93              0.16                0.54\n",
       "33601007832.00              0.36              0.96                0.66\n",
       "33601008617.00              1.72              1.61                1.66"
      ]
     },
     "execution_count": 41,
     "metadata": {},
     "output_type": "execute_result"
    }
   ],
   "source": [
    "sat_score_df = user_df[['Customer_Id', 'Engagement_Score',\n",
    "                        'Experience_Score', 'Satisfaction_Score']]\n",
    "sat_score_df = sat_score_df.set_index('Customer_Id')\n",
    "sat_score_df.head(5)"
   ]
  },
  {
   "cell_type": "code",
   "execution_count": 43,
   "id": "11cb9979",
   "metadata": {},
   "outputs": [
    {
     "data": {
      "text/plain": [
       "Customer_Id\n",
       "33680518496.00   1.92\n",
       "33658965574.00   1.92\n",
       "33667677500.00   1.92\n",
       "33662743834.00   1.92\n",
       "33667945853.00   1.92\n",
       "33660296914.00   1.92\n",
       "33763887232.00   1.92\n",
       "33699633196.00   1.92\n",
       "33767624962.00   1.92\n",
       "33659365443.00   1.92\n",
       "Name: Satisfaction_Score, dtype: float64"
      ]
     },
     "execution_count": 43,
     "metadata": {},
     "output_type": "execute_result"
    }
   ],
   "source": [
    "sorted_by_satisf = sat_score_df.sort_values('Satisfaction_Score', ascending=False)\n",
    "sat_top_10 = sorted_by_satisf['Satisfaction_Score'].head(10)\n",
    "sat_top_10"
   ]
  },
  {
   "cell_type": "code",
   "execution_count": 44,
   "id": "3ada4270",
   "metadata": {},
   "outputs": [
    {
     "data": {
      "image/png": "[encoded data removed]",
      "text/plain": [
       "<Figure size 720x360 with 1 Axes>"
      ]
     },
     "metadata": {
      "needs_background": "light"
     },
     "output_type": "display_data"
    }
   ],
   "source": [
    "plot_bar(sat_top_10, 'Top 10 Statisfied Customers', 'Customer ID', 'Satisfaction Score')"
   ]
  },
  {
   "cell_type": "raw",
   "id": "b08673e1",
   "metadata": {},
   "source": [
    "Task 4.3-Building a Regression Model"
   ]
  },
  {
   "cell_type": "code",
   "execution_count": 47,
   "id": "41a8c7cc",
   "metadata": {},
   "outputs": [
    {
     "data": {
      "text/plain": [
       "array([[0.6392866 ],\n",
       "       [1.40234486],\n",
       "       [0.59163264],\n",
       "       ...,\n",
       "       [1.45007558],\n",
       "       [0.65159167],\n",
       "       [1.74585545]])"
      ]
     },
     "execution_count": 47,
     "metadata": {},
     "output_type": "execute_result"
    }
   ],
   "source": [
    "X = sat_score_df[['Engagement_Score', 'Experience_Score']] \n",
    "Y = sat_score_df[['Satisfaction_Score']]\n",
    "\n",
    "X_train, X_test, Y_train, Y_test = train_test_split(X, Y, test_size=0.20, random_state=42)\n",
    "\n",
    "linear_regression = LinearRegression()\n",
    "model = linear_regression.fit(X_train, Y_train)\n",
    "pred = model.predict(X_test)\n",
    "pred"
   ]
  },
  {
   "cell_type": "code",
   "execution_count": null,
   "id": "2ca9cb7f",
   "metadata": {},
   "outputs": [],
   "source": []
  }
 ],
 "metadata": {
  "kernelspec": {
   "display_name": "Python 3 (ipykernel)",
   "language": "python",
   "name": "python3"
  },
  "language_info": {
   "codemirror_mode": {
    "name": "ipython",
    "version": 3
   },
   "file_extension": ".py",
   "mimetype": "text/x-python",
   "name": "python",
   "nbconvert_exporter": "python",
   "pygments_lexer": "ipython3",
   "version": "3.9.12"
  }
 },
 "nbformat": 4,
 "nbformat_minor": 5
}
