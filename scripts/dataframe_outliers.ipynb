{
 "cells": [
  {
   "cell_type": "code",
   "execution_count": 1,
   "id": "add33b10",
   "metadata": {},
   "outputs": [],
   "source": [
    "import os\n",
    "import sys\n",
    "import pandas as pd\n",
    "import numpy as np\n",
    "    \n",
    "def fix_outlier(df, column):\n",
    "    df[column] = np.where(df[column] > df[column].quantile(0.95), df[column].mode(),df[column])\n",
    "\n",
    "    return df[column]\n",
    "\n",
    "\n",
    "def replace_outliers_with_iqr(df, columns):\n",
    "    for col in columns:\n",
    "        Q1, Q3 = df[col].quantile(0.25), df[col].quantile(0.75)\n",
    "        IQR = Q3 - Q1\n",
    "        cut_off = IQR * 1.5\n",
    "        lower, upper = Q1 - cut_off, Q3 + cut_off\n",
    "\n",
    "        df[col] = np.where(df[col] > upper, upper, df[col])\n",
    "        df[col] = np.where(df[col] < lower, lower, df[col])"
   ]
  },
  {
   "cell_type": "code",
   "execution_count": null,
   "id": "07b4727f",
   "metadata": {},
   "outputs": [],
   "source": []
  }
 ],
 "metadata": {
  "kernelspec": {
   "display_name": "Python 3 (ipykernel)",
   "language": "python",
   "name": "python3"
  },
  "language_info": {
   "codemirror_mode": {
    "name": "ipython",
    "version": 3
   },
   "file_extension": ".py",
   "mimetype": "text/x-python",
   "name": "python",
   "nbconvert_exporter": "python",
   "pygments_lexer": "ipython3",
   "version": "3.9.12"
  }
 },
 "nbformat": 4,
 "nbformat_minor": 5
}
