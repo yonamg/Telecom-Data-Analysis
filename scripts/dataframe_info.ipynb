{
 "cells": [
  {
   "cell_type": "code",
   "execution_count": 1,
   "id": "e05a2cd1",
   "metadata": {},
   "outputs": [],
   "source": [
    "import pandas as pd\n",
    "\n",
    "class DataFrameInfo():\n",
    "    def __init__(self, df):\n",
    "        self.df = df.copy()\n",
    "\n",
    "    def get_columns_list(self):\n",
    "       \n",
    "        return self.df.columns.to_list()\n",
    "\n",
    "    def detail_info(self):\n",
    "       \n",
    "        print(self.df.info())\n",
    "\n",
    "    def null_column_percentage(self):\n",
    "        num_rows, num_columns = self.df.shape\n",
    "        df_size = num_rows * num_columns\n",
    "        \n",
    "        null_size = (self.df.isnull().sum()).sum()\n",
    "        percentage = round((null_size / df_size) * 100, 2)\n",
    "        print(f\"The Telecom data contains { percentage }% missing values.\")\n",
    "\n",
    "    def get_null_counts(self):\n",
    "        print(self.df.isnull().sum())\n",
    "\n",
    "    def skewness(self):\n",
    "        print(self.df.skew())"
   ]
  },
  {
   "cell_type": "code",
   "execution_count": null,
   "id": "2833f52a",
   "metadata": {},
   "outputs": [],
   "source": []
  }
 ],
 "metadata": {
  "kernelspec": {
   "display_name": "Python 3 (ipykernel)",
   "language": "python",
   "name": "python3"
  },
  "language_info": {
   "codemirror_mode": {
    "name": "ipython",
    "version": 3
   },
   "file_extension": ".py",
   "mimetype": "text/x-python",
   "name": "python",
   "nbconvert_exporter": "python",
   "pygments_lexer": "ipython3",
   "version": "3.9.12"
  }
 },
 "nbformat": 4,
 "nbformat_minor": 5
}
