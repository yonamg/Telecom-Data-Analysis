{
 "cells": [
  {
   "cell_type": "code",
   "execution_count": null,
   "id": "b641d556",
   "metadata": {},
   "outputs": [],
   "source": [
    "import pandas as pd\n",
    "\n",
    "class DataFrameInfo():\n",
    "    def __init__(self, df):\n",
    "        self.df = df.copy()\n",
    "\n",
    "\n",
    "    def get_columns_list(self):\n",
    "       \n",
    "        return self.df.columns.to_list()\n",
    "\n",
    "\n",
    "    def detail_info(self):\n",
    "        \n",
    "\n",
    "        print(self.df.info())\n",
    "\n",
    "\n",
    "    def null_column_percentage(self):\n",
    "        '''\n",
    "        Display Total Null percentage of the Data Frame Columns\n",
    "        '''\n",
    "\n",
    "        num_rows, num_columns = self.df.shape\n",
    "        df_size = num_rows * num_columns\n",
    "        \n",
    "        null_size = (self.df.isnull().sum()).sum()\n",
    "        percentage = round((null_size / df_size) * 100, 2)\n",
    "        print(f\"The Telecom data contains { percentage }% missing values.\")\n",
    "\n",
    "\n",
    "    def get_null_counts(self):\n",
    "        '''\n",
    "        Display Null Counts of each column\n",
    "        '''\n",
    "\n",
    "        print(self.df.isnull().sum())\n",
    "\n",
    "\n",
    "    def skewness(self):\n",
    "        '''\n",
    "        Display The skew value of each columns \n",
    "        '''\n",
    "        print(self.df.skew())"
   ]
  }
 ],
 "metadata": {
  "kernelspec": {
   "display_name": "Python 3 (ipykernel)",
   "language": "python",
   "name": "python3"
  },
  "language_info": {
   "codemirror_mode": {
    "name": "ipython",
    "version": 3
   },
   "file_extension": ".py",
   "mimetype": "text/x-python",
   "name": "python",
   "nbconvert_exporter": "python",
   "pygments_lexer": "ipython3",
   "version": "3.9.12"
  }
 },
 "nbformat": 4,
 "nbformat_minor": 5
}
